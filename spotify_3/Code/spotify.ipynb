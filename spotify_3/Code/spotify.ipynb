{
 "cells": [
  {
   "cell_type": "code",
   "execution_count": 1,
   "metadata": {},
   "outputs": [],
   "source": [
    "import os\n",
    "import sys\n",
    "import json\n",
    "import spotipy\n",
    "import webbrowser\n",
    "import spotipy.util as util\n",
    "from json.decoder import JSONDecodeError\n",
    "from collections import OrderedDict\n",
    "import pickle\n",
    "import pandas as pd"
   ]
  },
  {
   "cell_type": "code",
   "execution_count": 2,
   "metadata": {},
   "outputs": [
    {
     "data": {
      "text/plain": [
       "{'artist': 'Kanye West',\n",
       " 'spotify_artist_id': '5K4W6rqBFWDnAN6FQUkS6x',\n",
       " 'popularity': 90,\n",
       " 'followers': '7259123',\n",
       " 'genres': ['pop', 'pop rap', 'rap'],\n",
       " 'albums': {'808s & Heartbreak',\n",
       "  'All Day',\n",
       "  'Clique',\n",
       "  'FourFiveSeconds',\n",
       "  'Graduation',\n",
       "  'Late Registration',\n",
       "  'Lift Yourself',\n",
       "  'My Beautiful Dark Twisted Fantasy',\n",
       "  'Only One',\n",
       "  'The College Dropout',\n",
       "  'The College Dropout (Edited)',\n",
       "  'The Life Of Pablo',\n",
       "  \"Wouldn't You Like to Ride (S&S Remixes)\",\n",
       "  'Ye vs. the People (starring TI as the People)',\n",
       "  'Yeezus'}}"
      ]
     },
     "execution_count": 2,
     "metadata": {},
     "output_type": "execute_result"
    }
   ],
   "source": [
    "with open('kanye.pkl', 'rb') as handle:\n",
    "    kanye = pickle.load(handle)\n",
    "kanye"
   ]
  },
  {
   "cell_type": "code",
   "execution_count": 3,
   "metadata": {},
   "outputs": [
    {
     "data": {
      "text/plain": [
       "{'artist': 'Kendrick Lamar',\n",
       " 'spotify_artist_id': '2YZyLoL8N0Wb9xBt1NhZWg',\n",
       " 'popularity': 94,\n",
       " 'followers': '8813295',\n",
       " 'genres': ['hip hop', 'pop rap', 'rap', 'west coast rap'],\n",
       " 'albums': {'Black Panther The Album Music From And Inspired By',\n",
       "  'DAMN.',\n",
       "  'DAMN. COLLECTORS EDITION.',\n",
       "  'HUMBLE. (SKRILLEX REMIX)',\n",
       "  \"King's Dead (with Kendrick Lamar, Future & James Blake)\",\n",
       "  'Overly Dedicated',\n",
       "  'Pray For Me (with Kendrick Lamar)',\n",
       "  'Section.80',\n",
       "  'To Pimp A Butterfly',\n",
       "  'good kid, m.A.A.d city',\n",
       "  'good kid, m.A.A.d city (Deluxe)',\n",
       "  'untitled unmastered.'}}"
      ]
     },
     "execution_count": 3,
     "metadata": {},
     "output_type": "execute_result"
    }
   ],
   "source": [
    "with open('kendrick.pkl', 'rb') as handle:\n",
    "    kendrick = pickle.load(handle)\n",
    "kendrick"
   ]
  },
  {
   "cell_type": "code",
   "execution_count": 4,
   "metadata": {},
   "outputs": [
    {
     "data": {
      "text/plain": [
       "{'artist': 'Travis Scott',\n",
       " 'spotify_artist_id': '0Y5tJX1MQlPlqiwlOH1tJY',\n",
       " 'popularity': 90,\n",
       " 'followers': '2627425',\n",
       " 'genres': ['pop', 'pop rap', 'rap', 'trap music'],\n",
       " 'albums': {'Birds In The Trap Sing McKnight',\n",
       "  'Butterfly Effect',\n",
       "  'Dark Knight Dummo (Feat. Travis Scott)',\n",
       "  'Fish N Grits (feat. Travis Scott)',\n",
       "  'Go Off',\n",
       "  'Huncho Jack, Jack Huncho',\n",
       "  'Know No Better',\n",
       "  'Know No Better (Remixes)',\n",
       "  'Mediterranean',\n",
       "  'Rodeo (Deluxe)',\n",
       "  'Watch (feat. Lil Uzi Vert & Kanye West)',\n",
       "  \"Whole Lotta Lovin' (Bad Royale Remix)\",\n",
       "  \"Whole Lotta Lovin' (Djemba Djemba Remix)\",\n",
       "  \"Whole Lotta Lovin' (Grandtheft Remix)\",\n",
       "  \"Whole Lotta Lovin' (With You Remix)\",\n",
       "  'pick up the phone'}}"
      ]
     },
     "execution_count": 4,
     "metadata": {},
     "output_type": "execute_result"
    }
   ],
   "source": [
    "with open('travis.pkl', 'rb') as handle:\n",
    "    travis = pickle.load(handle)\n",
    "travis"
   ]
  },
  {
   "cell_type": "code",
   "execution_count": 5,
   "metadata": {},
   "outputs": [
    {
     "data": {
      "text/plain": [
       "{'artist': 'Jaden Smith',\n",
       " 'spotify_artist_id': '0xOeVMOz2fVg5BJY3N6akT',\n",
       " 'popularity': 74,\n",
       " 'followers': '379044',\n",
       " 'genres': ['pop', 'pop rap', 'rap', 'underground hip hop'],\n",
       " 'albums': {'All About You',\n",
       "  'Batman',\n",
       "  'Best Of 2017 Hip Hop',\n",
       "  'CTV2',\n",
       "  'Cozy Tapes Vol. 2: Too Cozy',\n",
       "  'FREQUENCY',\n",
       "  'Falcon (feat. Raury)',\n",
       "  'Flower Boy',\n",
       "  'Hip Hop Hit List (Vol. IV)',\n",
       "  'Like Butter',\n",
       "  'SYRE',\n",
       "  'The Get Down: Original Soundtrack From The Netflix Original Series (Deluxe Version)',\n",
       "  'Underground Rap',\n",
       "  'Uno Dos (feat. Jaden Smith)',\n",
       "  'Watch Me'}}"
      ]
     },
     "execution_count": 5,
     "metadata": {},
     "output_type": "execute_result"
    }
   ],
   "source": [
    "with open('migos.pkl', 'rb') as handle:\n",
    "    migos = pickle.load(handle)\n",
    "migos"
   ]
  },
  {
   "cell_type": "code",
   "execution_count": 6,
   "metadata": {},
   "outputs": [
    {
     "data": {
      "text/plain": [
       "{'artist': 'Jaden Smith',\n",
       " 'spotify_artist_id': '0xOeVMOz2fVg5BJY3N6akT',\n",
       " 'popularity': 74,\n",
       " 'followers': '379044',\n",
       " 'genres': ['pop', 'pop rap', 'rap', 'underground hip hop'],\n",
       " 'albums': {'All About You',\n",
       "  'Batman',\n",
       "  'Best Of 2017 Hip Hop',\n",
       "  'CTV2',\n",
       "  'Cozy Tapes Vol. 2: Too Cozy',\n",
       "  'FREQUENCY',\n",
       "  'Falcon (feat. Raury)',\n",
       "  'Flower Boy',\n",
       "  'Hip Hop Hit List (Vol. IV)',\n",
       "  'Like Butter',\n",
       "  'SYRE',\n",
       "  'The Get Down: Original Soundtrack From The Netflix Original Series (Deluxe Version)',\n",
       "  'Underground Rap',\n",
       "  'Uno Dos (feat. Jaden Smith)',\n",
       "  'Watch Me'}}"
      ]
     },
     "execution_count": 6,
     "metadata": {},
     "output_type": "execute_result"
    }
   ],
   "source": [
    "with open('migos.pkl', 'rb') as handle:\n",
    "    j_smith = pickle.load(handle)\n",
    "j_smith"
   ]
  },
  {
   "cell_type": "code",
   "execution_count": 7,
   "metadata": {},
   "outputs": [
    {
     "data": {
      "text/plain": [
       "{'artist': 'Rich Brian',\n",
       " 'spotify_artist_id': '2IDLDx25HU1nQMKde4n61a',\n",
       " 'popularity': 74,\n",
       " 'followers': '622901',\n",
       " 'genres': ['indonesian hip hop', 'underground hip hop', 'vapor trap'],\n",
       " 'albums': {'18',\n",
       "  'Amen',\n",
       "  'Back At It',\n",
       "  'Chaos',\n",
       "  'Crisis (feat. 21 Savage)',\n",
       "  'Dat $tick (Remix) [feat. Ghostface Killah & Pouya]',\n",
       "  'Glow Like Dat',\n",
       "  'Gospel',\n",
       "  'See Me',\n",
       "  'Seventeen',\n",
       "  'Who That Be',\n",
       "  'Who That Be (Josh Pan & West1ne Remix)',\n",
       "  'watch out!'}}"
      ]
     },
     "execution_count": 7,
     "metadata": {},
     "output_type": "execute_result"
    }
   ],
   "source": [
    "with open('rich_brian.pkl', 'rb') as handle:\n",
    "    brian = pickle.load(handle)\n",
    "brian"
   ]
  },
  {
   "cell_type": "code",
   "execution_count": 8,
   "metadata": {},
   "outputs": [
    {
     "data": {
      "text/plain": [
       "{'artist': 'Post Malone',\n",
       " 'spotify_artist_id': '246dkjvS1zLTtiykXe5h60',\n",
       " 'popularity': 100,\n",
       " 'followers': '3792488',\n",
       " 'genres': ['pop', 'rap'],\n",
       " 'albums': {'Candy Paint',\n",
       "  'Congratulations (Remix)',\n",
       "  'Crowd Pleasers (Vol. II)',\n",
       "  'Culture II',\n",
       "  'Finessed Flow',\n",
       "  'Light Of Day',\n",
       "  'Mr Fly, Vol. 2',\n",
       "  \"NOW That's What I Call Music, Vol. 65\",\n",
       "  'Psycho (feat. Ty Dolla $ign)',\n",
       "  'Spanglish Favorites',\n",
       "  'Stoney (Deluxe)',\n",
       "  'YOU',\n",
       "  'beerbongs & bentleys',\n",
       "  'rockstar (Remix)',\n",
       "  'rockstar (feat. 21 Savage)'}}"
      ]
     },
     "execution_count": 8,
     "metadata": {},
     "output_type": "execute_result"
    }
   ],
   "source": [
    "with open('post.pkl', 'rb') as handle:\n",
    "    posty = pickle.load(handle)\n",
    "posty"
   ]
  },
  {
   "cell_type": "code",
   "execution_count": 9,
   "metadata": {},
   "outputs": [
    {
     "data": {
      "text/plain": [
       "{'artist': 'Rae Sremmurd',\n",
       " 'spotify_artist_id': '7iZtZyCzp3LItcw1wtPI3D',\n",
       " 'popularity': 86,\n",
       " 'followers': '3126910',\n",
       " 'genres': ['hip hop',\n",
       "  'pop',\n",
       "  'pop rap',\n",
       "  'rap',\n",
       "  'southern hip hop',\n",
       "  'trap music'],\n",
       " 'albums': {'Aries (YuGo) Part 2 (with Rae Sremmurd & Big Sean feat. Quavo & Pharrell)',\n",
       "  'CLOSE (feat. Travis Scott)',\n",
       "  'Chanel (feat. Swae Lee & Pharrell)',\n",
       "  'Guatemala (feat. Slim Jxmmi)',\n",
       "  'Hands On Me',\n",
       "  'Perplexing Pegasus',\n",
       "  'Powerglide (feat. Juicy J)',\n",
       "  'SR3MM',\n",
       "  'SremmLife',\n",
       "  'SremmLife 2 (Deluxe)',\n",
       "  'T’d Up'}}"
      ]
     },
     "execution_count": 9,
     "metadata": {},
     "output_type": "execute_result"
    }
   ],
   "source": [
    "with open('rae.pkl', 'rb') as handle:\n",
    "    rae = pickle.load(handle)\n",
    "rae"
   ]
  },
  {
   "cell_type": "code",
   "execution_count": 10,
   "metadata": {},
   "outputs": [
    {
     "data": {
      "text/plain": [
       "{'artist': 'Drake',\n",
       " 'spotify_artist_id': '3TVXtAsR1Inumwj472S9r4',\n",
       " 'popularity': 99,\n",
       " 'followers': '19729716',\n",
       " 'genres': ['canadian hip hop', 'canadian pop', 'hip hop', 'pop rap', 'rap'],\n",
       " 'albums': {\"If You're Reading This It's Too Late\",\n",
       "  'More Life',\n",
       "  'Nothing Was The Same',\n",
       "  'Nothing Was The Same (Deluxe)',\n",
       "  'So Far Gone',\n",
       "  'Take Care (Deluxe)',\n",
       "  'Thank Me Later',\n",
       "  'Views',\n",
       "  'What A Time To Be Alive'}}"
      ]
     },
     "execution_count": 10,
     "metadata": {},
     "output_type": "execute_result"
    }
   ],
   "source": [
    "with open('drake.pkl', 'rb') as handle:\n",
    "    drake = pickle.load(handle)\n",
    "drake"
   ]
  },
  {
   "cell_type": "code",
   "execution_count": 11,
   "metadata": {},
   "outputs": [
    {
     "data": {
      "text/plain": [
       "{'artist': 'A$AP Rocky',\n",
       " 'spotify_artist_id': '13ubrt8QOOCPljQ2FL1Kca',\n",
       " 'popularity': 88,\n",
       " 'followers': '3611147',\n",
       " 'genres': ['east coast hip hop',\n",
       "  'hip hop',\n",
       "  'pop',\n",
       "  'pop rap',\n",
       "  'rap',\n",
       "  'southern hip hop',\n",
       "  'trap music'],\n",
       " 'albums': {'A$AP Forever',\n",
       "  'AT.LONG.LAST.A$AP',\n",
       "  'Bad Company',\n",
       "  'Cocky',\n",
       "  \"Dawsin's Breek (feat. A$AP Rocky) [Remix]\",\n",
       "  'Everyday',\n",
       "  'FTW (F**k The World) [with A$AP Rocky & Tom Morello] [From Bright: The Album]',\n",
       "  'L$D',\n",
       "  'LONG.LIVE.A$AP',\n",
       "  'LONG.LIVE.A$AP (Deluxe Version)',\n",
       "  \"M'$\",\n",
       "  'Pick It Up (feat. A$AP Rocky)'}}"
      ]
     },
     "execution_count": 11,
     "metadata": {},
     "output_type": "execute_result"
    }
   ],
   "source": [
    "with open('rocky.pkl', 'rb') as handle:\n",
    "    rocky = pickle.load(handle)\n",
    "rocky"
   ]
  },
  {
   "cell_type": "code",
   "execution_count": 12,
   "metadata": {},
   "outputs": [
    {
     "data": {
      "text/plain": [
       "{'artist': 'A$AP Ferg',\n",
       " 'spotify_artist_id': '5dHt1vcEm9qb8fCyLcB3HL',\n",
       " 'popularity': 80,\n",
       " 'followers': '1238358',\n",
       " 'genres': ['hip hop',\n",
       "  'pop',\n",
       "  'pop rap',\n",
       "  'rap',\n",
       "  'southern hip hop',\n",
       "  'trap music',\n",
       "  'underground hip hop'],\n",
       " 'albums': {'ALWAYS STRIVE AND PROSPER',\n",
       "  'Drip',\n",
       "  'East Coast REMIX',\n",
       "  'How I Feel',\n",
       "  'Kristi',\n",
       "  'Moon River',\n",
       "  'Nasty (Who Dat)',\n",
       "  'Plain Jane',\n",
       "  'Plain Jane REMIX',\n",
       "  'Pull Up (feat. Joey Bada$$ & A$AP Ferg)',\n",
       "  'Still Striving',\n",
       "  'Trap Lord'}}"
      ]
     },
     "execution_count": 12,
     "metadata": {},
     "output_type": "execute_result"
    }
   ],
   "source": [
    "with open('ferg.pkl', 'rb') as handle:\n",
    "    ferg = pickle.load(handle)\n",
    "ferg"
   ]
  },
  {
   "cell_type": "code",
   "execution_count": 13,
   "metadata": {},
   "outputs": [
    {
     "data": {
      "text/plain": [
       "{'artist': '21 Savage',\n",
       " 'spotify_artist_id': '1URnnhqYAYcrqrcwql10ft',\n",
       " 'popularity': 90,\n",
       " 'followers': '3926883',\n",
       " 'genres': ['pop', 'rap', 'trap music'],\n",
       " 'albums': {'6AM In Havendale',\n",
       "  'Between Us (feat. 21 Savage)',\n",
       "  'Cocky',\n",
       "  'How to Ball',\n",
       "  'Hunnid On The Drop',\n",
       "  'Issa Album',\n",
       "  'One Foot',\n",
       "  'Outstanding (feat. 21 Savage)',\n",
       "  'Red Opps',\n",
       "  'Rover 2.0 (feat. 21 Savage)',\n",
       "  'Savage Mode',\n",
       "  'Slaughter King',\n",
       "  'The Race (Remix)',\n",
       "  'The Slaughter Tape',\n",
       "  'Without Warning',\n",
       "  'Yea Yea Yea (Instrumental)'}}"
      ]
     },
     "execution_count": 13,
     "metadata": {},
     "output_type": "execute_result"
    }
   ],
   "source": [
    "with open('21_savage.pkl', 'rb') as handle:\n",
    "    savage = pickle.load(handle)\n",
    "savage"
   ]
  },
  {
   "cell_type": "code",
   "execution_count": 14,
   "metadata": {},
   "outputs": [
    {
     "data": {
      "text/plain": [
       "{'artist': '21 Savage',\n",
       " 'spotify_artist_id': '1URnnhqYAYcrqrcwql10ft',\n",
       " 'popularity': 90,\n",
       " 'followers': '3926883',\n",
       " 'genres': ['pop', 'rap', 'trap music'],\n",
       " 'albums': {'6AM In Havendale',\n",
       "  'Between Us (feat. 21 Savage)',\n",
       "  'Cocky',\n",
       "  'How to Ball',\n",
       "  'Hunnid On The Drop',\n",
       "  'Issa Album',\n",
       "  'One Foot',\n",
       "  'Outstanding (feat. 21 Savage)',\n",
       "  'Red Opps',\n",
       "  'Rover 2.0 (feat. 21 Savage)',\n",
       "  'Savage Mode',\n",
       "  'Slaughter King',\n",
       "  'The Race (Remix)',\n",
       "  'The Slaughter Tape',\n",
       "  'Without Warning',\n",
       "  'Yea Yea Yea (Instrumental)'}}"
      ]
     },
     "execution_count": 14,
     "metadata": {},
     "output_type": "execute_result"
    }
   ],
   "source": [
    "with open('21_savage.pkl', 'rb') as handle:\n",
    "    savage = pickle.load(handle)\n",
    "savage"
   ]
  },
  {
   "cell_type": "code",
   "execution_count": 15,
   "metadata": {},
   "outputs": [
    {
     "data": {
      "text/plain": [
       "{'artist': 'Big Sean',\n",
       " 'spotify_artist_id': '0c173mlxpT3dSFRgMO8XPh',\n",
       " 'popularity': 86,\n",
       " 'followers': '3981514',\n",
       " 'genres': ['detroit hip hop',\n",
       "  'hip hop',\n",
       "  'pop',\n",
       "  'pop rap',\n",
       "  'rap',\n",
       "  'southern hip hop',\n",
       "  'trap music'],\n",
       " 'albums': {'Alone (Feat. Big Sean & Stefflon Don)',\n",
       "  'Alone (Remixes) (Feat. Big Sean & Stefflon Don)',\n",
       "  'Aries (YuGo) Part 2 (with Rae Sremmurd & Big Sean feat. Quavo & Pharrell)',\n",
       "  'Dark Sky Paradise',\n",
       "  'Dark Sky Paradise (Deluxe)',\n",
       "  'Double Or Nothing (& Metro Boomin)',\n",
       "  'Finally Famous',\n",
       "  'Finally Famous (Deluxe)',\n",
       "  'Hall Of Fame',\n",
       "  'Hall Of Fame (Deluxe)',\n",
       "  'I Decided.',\n",
       "  'Living Single'}}"
      ]
     },
     "execution_count": 15,
     "metadata": {},
     "output_type": "execute_result"
    }
   ],
   "source": [
    "with open('big_sean.pkl', 'rb') as handle:\n",
    "    sean = pickle.load(handle)\n",
    "sean"
   ]
  },
  {
   "cell_type": "code",
   "execution_count": 16,
   "metadata": {},
   "outputs": [
    {
     "data": {
      "text/plain": [
       "{'artist': 'Pusha T',\n",
       " 'spotify_artist_id': '0ONHkAv9pCAFxb0zJwDNTy',\n",
       " 'popularity': 73,\n",
       " 'followers': '706898',\n",
       " 'genres': ['alternative hip hop',\n",
       "  'dirty south rap',\n",
       "  'gangster rap',\n",
       "  'hip hop',\n",
       "  'pop rap',\n",
       "  'rap',\n",
       "  'southern hip hop',\n",
       "  'trap music',\n",
       "  'underground hip hop'],\n",
       " 'albums': {'Circles',\n",
       "  'Drug Dealers Anonymous',\n",
       "  'Fear of God II',\n",
       "  'H.G.T.V. Freestyle',\n",
       "  'King Push – Darkest Before Dawn: The Prelude',\n",
       "  'Lunch Money',\n",
       "  'Miami (feat. Pusha T)',\n",
       "  'Millions',\n",
       "  'My Name Is My Name',\n",
       "  'Spotify Sessions',\n",
       "  'What Yall Wanted'}}"
      ]
     },
     "execution_count": 16,
     "metadata": {},
     "output_type": "execute_result"
    }
   ],
   "source": [
    "with open('pusha_t.pkl', 'rb') as handle:\n",
    "    pusha = pickle.load(handle)\n",
    "pusha"
   ]
  },
  {
   "cell_type": "code",
   "execution_count": 17,
   "metadata": {},
   "outputs": [
    {
     "data": {
      "text/plain": [
       "{'artist': 'Kid Cudi',\n",
       " 'spotify_artist_id': '0fA0VVWsXO9YnASrzqfmYu',\n",
       " 'popularity': 77,\n",
       " 'followers': '2353954',\n",
       " 'genres': ['hip hop', 'pop rap', 'rap'],\n",
       " 'albums': {\"Day 'N' Nite (Crookers Remix)\",\n",
       "  'Indicud',\n",
       "  'KiD CuDi presents SATELLITE FLIGHT: The journey to Mother Moon',\n",
       "  'LoFi Chillhop',\n",
       "  'Man On The Moon II: The Legend Of Mr. Rager',\n",
       "  'Man On The Moon: The End Of Day',\n",
       "  'Man On The Moon: The End Of Day (Deluxe)',\n",
       "  'No One Believes Me',\n",
       "  \"Passion, Pain & Demon Slayin'\",\n",
       "  'Pursuit Of Happiness [Extended Steve Aoki Remix (Explicit)]',\n",
       "  \"Speedin' Bullet 2 Heaven\",\n",
       "  \"Surfin'\"}}"
      ]
     },
     "execution_count": 17,
     "metadata": {},
     "output_type": "execute_result"
    }
   ],
   "source": [
    "with open('kid_cudi.pkl', 'rb') as handle:\n",
    "    cudi = pickle.load(handle)\n",
    "cudi"
   ]
  },
  {
   "cell_type": "code",
   "execution_count": 18,
   "metadata": {},
   "outputs": [
    {
     "data": {
      "text/plain": [
       "{'artist': 'Future',\n",
       " 'spotify_artist_id': '1RyvyyTE3xzB2ZywiAwp0i',\n",
       " 'popularity': 91,\n",
       " 'followers': '6248707',\n",
       " 'genres': ['pop', 'pop rap', 'rap', 'southern hip hop', 'trap music'],\n",
       " 'albums': {'Astronaut Status',\n",
       "  'Beast Mode',\n",
       "  'Beast Mode (Instrumentals)',\n",
       "  'DS2 (Deluxe)',\n",
       "  'DS2 - Track by Track Commentary',\n",
       "  'EVOL',\n",
       "  'FUTURE',\n",
       "  'HNDRXX',\n",
       "  'Honest',\n",
       "  'No Shame (From the Original Motion Picture Soundtrack SUPERFLY)',\n",
       "  'Pluto',\n",
       "  'Pluto 3D',\n",
       "  'SUPER SLIMEY',\n",
       "  'What A Time To Be Alive'}}"
      ]
     },
     "execution_count": 18,
     "metadata": {},
     "output_type": "execute_result"
    }
   ],
   "source": [
    "with open('future.pkl', 'rb') as handle:\n",
    "    future = pickle.load(handle)\n",
    "future"
   ]
  },
  {
   "cell_type": "code",
   "execution_count": 19,
   "metadata": {},
   "outputs": [
    {
     "data": {
      "text/plain": [
       "{'artist': 'French Montana',\n",
       " 'spotify_artist_id': '6vXTefBL93Dj5IqAWq6OTv',\n",
       " 'popularity': 85,\n",
       " 'followers': '1519169',\n",
       " 'genres': ['hip hop',\n",
       "  'pop',\n",
       "  'pop rap',\n",
       "  'rap',\n",
       "  'southern hip hop',\n",
       "  'trap music'],\n",
       " 'albums': {'Boom Boom (Mr. Pauer Remix)',\n",
       "  'Boom Boom (Steven Spence Remix)',\n",
       "  'Casino Life - Mr. 16',\n",
       "  'Casino Life: Mr. 16',\n",
       "  'Cocaine Konvicts',\n",
       "  'Coke Boys',\n",
       "  'Coke Boys (Deluxe Collectors Edition)',\n",
       "  'Coke Boys 2',\n",
       "  'Coke Boys 3',\n",
       "  'Coke Boys Tour',\n",
       "  'Coke Wave 2',\n",
       "  'Excuse My French',\n",
       "  'Excuse My French (Deluxe)',\n",
       "  'French Revolution',\n",
       "  'Goon Music 2.0',\n",
       "  'Jungle Rules',\n",
       "  'Lock Out',\n",
       "  'Olha A Explosão (Remix)'}}"
      ]
     },
     "execution_count": 19,
     "metadata": {},
     "output_type": "execute_result"
    }
   ],
   "source": [
    "with open('french_montana.pkl', 'rb') as handle:\n",
    "    french = pickle.load(handle)\n",
    "french"
   ]
  },
  {
   "cell_type": "code",
   "execution_count": 20,
   "metadata": {},
   "outputs": [
    {
     "data": {
      "text/plain": [
       "{'artist': 'JAY Z',\n",
       " 'spotify_artist_id': '3nFkdlSjzX9mRTtwJOzDYB',\n",
       " 'popularity': 83,\n",
       " 'followers': '3968439',\n",
       " 'genres': ['bulgarian hip hop',\n",
       "  'east coast hip hop',\n",
       "  'gangster rap',\n",
       "  'hip hop',\n",
       "  'pop rap',\n",
       "  'rap',\n",
       "  'southern hip hop'],\n",
       " 'albums': {'All The Way Up (Remix) (feat. French Montana & Infared) - Single',\n",
       "  'Biking',\n",
       "  'Clique',\n",
       "  'Collision Course',\n",
       "  'Collision Course (Deluxe Version)',\n",
       "  'Dirt Off Your Shoulder/Lying From You: MTV Ultimate Mash-Ups Presents Collision Course',\n",
       "  'EPIC AF',\n",
       "  \"Frontin' On Debra (DJ Reset Mash Up)\",\n",
       "  'Grateful',\n",
       "  'Hip Hop Workout',\n",
       "  'H•A•M',\n",
       "  'Numb / Encore: MTV Ultimate Mash-Ups Presents Collision Course',\n",
       "  'Numb/Encore: MTV Ultimate Mash-Ups Presents Collision Course',\n",
       "  'Sound of Hip Hop',\n",
       "  'Top Off'}}"
      ]
     },
     "execution_count": 20,
     "metadata": {},
     "output_type": "execute_result"
    }
   ],
   "source": [
    "with open('hov.pkl', 'rb') as handle:\n",
    "    hov = pickle.load(handle)\n",
    "hov"
   ]
  },
  {
   "cell_type": "code",
   "execution_count": 21,
   "metadata": {},
   "outputs": [
    {
     "data": {
      "text/plain": [
       "{'artist': 'Chance The Rapper',\n",
       " 'spotify_artist_id': '1anyVhU62p31KFi8MEzkbf',\n",
       " 'popularity': 83,\n",
       " 'followers': '3018278',\n",
       " 'genres': ['hip hop', 'pop', 'pop rap', 'rap'],\n",
       " 'albums': {'2010s Hits',\n",
       "  'Angels (feat. Saba)',\n",
       "  'CARE FOR ME',\n",
       "  'Coloring Book',\n",
       "  'HEAVN',\n",
       "  'Heartbreak',\n",
       "  'Hip Hop Alternative',\n",
       "  'Hip Hop Love Songs',\n",
       "  'Humble Beast Deluxe',\n",
       "  'Invasion of Privacy',\n",
       "  'LSD (feat. Chance The Rapper) [RP Boo Remix]',\n",
       "  'Like Butter',\n",
       "  'Love Scars',\n",
       "  \"NOW That's What I Call Music, Vol. 63\",\n",
       "  \"New Year's Eve 2017/18\",\n",
       "  'Somewhere in Paradise (feat. Jeremih & R. Kelly)',\n",
       "  'The Landing'}}"
      ]
     },
     "execution_count": 21,
     "metadata": {},
     "output_type": "execute_result"
    }
   ],
   "source": [
    "with open('chance.pkl', 'rb') as handle:\n",
    "    chance = pickle.load(handle)\n",
    "chance"
   ]
  },
  {
   "cell_type": "code",
   "execution_count": 22,
   "metadata": {},
   "outputs": [
    {
     "data": {
      "text/plain": [
       "{'artist': 'Gucci Mane',\n",
       " 'spotify_artist_id': '13y7CgLHjMVRMDqxdx0Xdo',\n",
       " 'popularity': 88,\n",
       " 'followers': '1888404',\n",
       " 'genres': ['dirty south rap',\n",
       "  'hip hop',\n",
       "  'pop',\n",
       "  'pop rap',\n",
       "  'rap',\n",
       "  'southern hip hop',\n",
       "  'trap music'],\n",
       " 'albums': {'ATL Dons',\n",
       "  'Birds of a Feather 2',\n",
       "  'Brick Factory',\n",
       "  'Brick Factory 2',\n",
       "  'Droptopwop',\n",
       "  'East Atlanta Santa 2',\n",
       "  \"El Chapo's Home\",\n",
       "  'El Gato: The Human Glacier',\n",
       "  'Everybody Looking',\n",
       "  'Greatest Mixtape Hits',\n",
       "  'Gucci Vs. C-Note, 2',\n",
       "  'Meal Ticket',\n",
       "  'Mr. Davis',\n",
       "  'TRU COLORS',\n",
       "  'The Return of East Atlanta Santa',\n",
       "  'WOPTOBER'}}"
      ]
     },
     "execution_count": 22,
     "metadata": {},
     "output_type": "execute_result"
    }
   ],
   "source": [
    "with open('gucci.pkl', 'rb') as handle:\n",
    "    gucci = pickle.load(handle)\n",
    "gucci"
   ]
  },
  {
   "cell_type": "code",
   "execution_count": 23,
   "metadata": {},
   "outputs": [
    {
     "data": {
      "text/plain": [
       "{'artist': 'Childish Gambino',\n",
       " 'spotify_artist_id': '73sIBHcqh3Z3NyqHKZ7FOL',\n",
       " 'popularity': 80,\n",
       " 'followers': '2852851',\n",
       " 'genres': ['hip hop', 'pop rap', 'rap'],\n",
       " 'albums': {'\"Awaken, My Love!\"',\n",
       "  '2018 Award Nominees',\n",
       "  '3005 (Friction Remix)',\n",
       "  'Because The Internet',\n",
       "  'Best Of 2017',\n",
       "  'Best Of 2017 Pop',\n",
       "  'Bonfire',\n",
       "  'California Vibes',\n",
       "  'Camp',\n",
       "  'Crowd Pleasers (Vol. II)',\n",
       "  'EP (2011 Re-Release)',\n",
       "  'Heartbeat (Remix Bundle)',\n",
       "  'Kauai',\n",
       "  'Like Butter',\n",
       "  'Rainy Day R&B',\n",
       "  'This Is America',\n",
       "  'What Kind Of Love'}}"
      ]
     },
     "execution_count": 23,
     "metadata": {},
     "output_type": "execute_result"
    }
   ],
   "source": [
    "with open('bino.pkl', 'rb') as handle:\n",
    "    bino = pickle.load(handle)\n",
    "bino"
   ]
  },
  {
   "cell_type": "code",
   "execution_count": 24,
   "metadata": {},
   "outputs": [
    {
     "data": {
      "text/plain": [
       "{'artist': 'NAV',\n",
       " 'spotify_artist_id': '7rkW85dBwwrJtlHRDkJDAC',\n",
       " 'popularity': 82,\n",
       " 'followers': '663956',\n",
       " 'genres': ['canadian hip hop', 'pop', 'rap', 'trap music'],\n",
       " 'albums': {'88GLAM RELOADED',\n",
       "  '88glam',\n",
       "  'Drip Season 3',\n",
       "  'Freshman List',\n",
       "  \"MEMORIES DON'T DIE\",\n",
       "  'Maintain',\n",
       "  'NAV',\n",
       "  'Perfect Timing',\n",
       "  'Phone (feat. NAV)',\n",
       "  'Some Way',\n",
       "  'Still Striving',\n",
       "  'Wanted You (feat. Lil Uzi Vert)'}}"
      ]
     },
     "execution_count": 24,
     "metadata": {},
     "output_type": "execute_result"
    }
   ],
   "source": [
    "with open('nav.pkl', 'rb') as handle:\n",
    "    nav = pickle.load(handle)\n",
    "nav"
   ]
  },
  {
   "cell_type": "code",
   "execution_count": 25,
   "metadata": {},
   "outputs": [
    {
     "data": {
      "text/plain": [
       "{'artist': 'Young Thug',\n",
       " 'spotify_artist_id': '50co4Is1HCEo8bhOyUWKpn',\n",
       " 'popularity': 88,\n",
       " 'followers': '2739574',\n",
       " 'genres': ['dwn trap',\n",
       "  'gangster rap',\n",
       "  'hip hop',\n",
       "  'pop',\n",
       "  'pop rap',\n",
       "  'rap',\n",
       "  'southern hip hop',\n",
       "  'trap music'],\n",
       " 'albums': {'1017 Thug',\n",
       "  'Barter 6',\n",
       "  'Beautiful Thugger Girls',\n",
       "  'Been Thru a Lot',\n",
       "  'Brick Sqaud',\n",
       "  'Gang Up (with Young Thug, 2 Chainz & Wiz Khalifa feat. PnB Rock)',\n",
       "  'Gangster Shit',\n",
       "  'Hear No Evil',\n",
       "  'Homie (feat. Meek Mill)',\n",
       "  'I Came from Nothing 2',\n",
       "  \"I'm Up\",\n",
       "  'JEFFERY',\n",
       "  'Liger',\n",
       "  'On Me',\n",
       "  'Ride For Me (with Young Thug, feat. 24hrs)',\n",
       "  'SUPER SLIMEY',\n",
       "  'Slime Season 3',\n",
       "  'Young Martha',\n",
       "  'Young Thugger Mane La Flare',\n",
       "  'pick up the phone'}}"
      ]
     },
     "execution_count": 25,
     "metadata": {},
     "output_type": "execute_result"
    }
   ],
   "source": [
    "with open('young_thug.pkl', 'rb') as handle:\n",
    "    thugger = pickle.load(handle)\n",
    "thugger"
   ]
  },
  {
   "cell_type": "code",
   "execution_count": 26,
   "metadata": {},
   "outputs": [
    {
     "data": {
      "text/plain": [
       "{'artist': 'Kodak Black',\n",
       " 'spotify_artist_id': '46SHBwWsqBkxI7EeeBEQG7',\n",
       " 'popularity': 85,\n",
       " 'followers': '2913960',\n",
       " 'genres': ['pop', 'rap', 'southern hip hop', 'trap music'],\n",
       " 'albums': {'Bodak Yellow (feat. Kodak Black)',\n",
       "  'First Day Out',\n",
       "  'Halloween',\n",
       "  'Heart Break Kodak (HBK)',\n",
       "  'Heart of the Projects',\n",
       "  'Institution',\n",
       "  'Lil Big Pac',\n",
       "  'My Dawg',\n",
       "  'Painting Pictures',\n",
       "  'Project Baby',\n",
       "  'Project Baby 2',\n",
       "  'Project Baby 2: All Grown Up (Deluxe)',\n",
       "  'Real Hitta (feat. Kodak Black)',\n",
       "  'iSpy (feat. Kodak Black)'}}"
      ]
     },
     "execution_count": 26,
     "metadata": {},
     "output_type": "execute_result"
    }
   ],
   "source": [
    "with open('kodak_black.pkl', 'rb') as handle:\n",
    "    kodak = pickle.load(handle)\n",
    "kodak"
   ]
  },
  {
   "cell_type": "code",
   "execution_count": 27,
   "metadata": {},
   "outputs": [
    {
     "data": {
      "text/plain": [
       "{'artist': '6LACK',\n",
       " 'spotify_artist_id': '4IVAbR2w4JJNJDDRFP3E83',\n",
       " 'popularity': 81,\n",
       " 'followers': '819648',\n",
       " 'genres': ['indie r&b', 'pop', 'r&b', 'rap', 'trap music'],\n",
       " 'albums': {'BLUE',\n",
       "  'Bless Me - Single',\n",
       "  'Cutting Ties',\n",
       "  'FREE 6LACK',\n",
       "  'First Fuck',\n",
       "  'Grab The Wheel',\n",
       "  'Hip Hop Hit List (Vol. 3)',\n",
       "  'Hip Hop Love Songs',\n",
       "  'Loyal - Single',\n",
       "  'OTW',\n",
       "  'R&B Alternative',\n",
       "  'Spar (feat. 6LACK & Kodak Black)',\n",
       "  'That Far',\n",
       "  'WOO$AH'}}"
      ]
     },
     "execution_count": 27,
     "metadata": {},
     "output_type": "execute_result"
    }
   ],
   "source": [
    "with open('6lack.pkl', 'rb') as handle:\n",
    "    black = pickle.load(handle)\n",
    "black"
   ]
  },
  {
   "cell_type": "code",
   "execution_count": 28,
   "metadata": {},
   "outputs": [
    {
     "data": {
      "text/plain": [
       "{'artist': 'Flatbush Zombies',\n",
       " 'spotify_artist_id': '1dqGS5sT6PE2wEvP1gROZC',\n",
       " 'popularity': 75,\n",
       " 'followers': '453888',\n",
       " 'genres': ['hip hop', 'rap', 'trap music', 'underground hip hop'],\n",
       " 'albums': {'12',\n",
       "  '3001: A Laced Odyssey',\n",
       "  'All Trap Music 2',\n",
       "  'Aries (feat. Deadcuts)',\n",
       "  'Aston 3:16',\n",
       "  'Duck Down Presents: Too High To Die',\n",
       "  'Extended Play',\n",
       "  'Feel It Still (Flatbush Zombies Remix)',\n",
       "  'Feel It Still (The Remixes)',\n",
       "  'Good Knight (feat. Joey Bada$$, Flatbush Zombies & Dizzy Wright)',\n",
       "  'Headstone',\n",
       "  'Howie Made Me Do It 3',\n",
       "  'Lava (feat. Zombie Juice)',\n",
       "  'Sidewalk Exec',\n",
       "  'U&I (feat. Dia)',\n",
       "  'VDon Presents: Lab Work, Vol. 1',\n",
       "  'Vacation (feat. Joey Bada$$)',\n",
       "  'Vacation In Hell'}}"
      ]
     },
     "execution_count": 28,
     "metadata": {},
     "output_type": "execute_result"
    }
   ],
   "source": [
    "with open('flatbush.pkl', 'rb') as handle:\n",
    "    flatbush = pickle.load(handle)\n",
    "flatbush"
   ]
  },
  {
   "cell_type": "code",
   "execution_count": 29,
   "metadata": {},
   "outputs": [
    {
     "data": {
      "text/plain": [
       "{'artist': 'BlocBoy JB',\n",
       " 'spotify_artist_id': '4TEJudQY2pXxVHPE3gD2EU',\n",
       " 'popularity': 84,\n",
       " 'followers': '120339',\n",
       " 'genres': ['rap', 'southern hip hop', 'trap music'],\n",
       " 'albums': {'2 Heartless',\n",
       "  'Bad Company',\n",
       "  'Hard (feat. Tay-K and BlocBoy JB)',\n",
       "  'Look Alive (feat. Drake)',\n",
       "  'Nun Of Dat (feat. Lil Pump)',\n",
       "  'Produced by Blocboy',\n",
       "  'Rover',\n",
       "  'Rover 2.0 (feat. 21 Savage)',\n",
       "  'Simi',\n",
       "  'The Purple M&M',\n",
       "  'Three',\n",
       "  'Who Am I 3',\n",
       "  'Woah (feat. Drake & BlocBoy JB)',\n",
       "  'Young & Respected'}}"
      ]
     },
     "execution_count": 29,
     "metadata": {},
     "output_type": "execute_result"
    }
   ],
   "source": [
    "with open('blocboy.pkl', 'rb') as handle:\n",
    "    blocboy = pickle.load(handle)\n",
    "blocboy"
   ]
  },
  {
   "cell_type": "code",
   "execution_count": 30,
   "metadata": {},
   "outputs": [
    {
     "data": {
      "text/plain": [
       "{'artist': 'Lil Uzi Vert',\n",
       " 'spotify_artist_id': '4O15NlyKLIASxsJ0PrXPfz',\n",
       " 'popularity': 88,\n",
       " 'followers': '3812819',\n",
       " 'genres': ['pop', 'rap', 'trap music'],\n",
       " 'albums': {'Count Dem Rolls (feat. Uzi Gang)',\n",
       "  'Diver$e',\n",
       "  'Go Off',\n",
       "  'Hear No Evil',\n",
       "  'LFUTP (feat. Rizzoo Rizzoo & Lil Uzi Vert)',\n",
       "  'Lil Uzi Vert Vs. The World',\n",
       "  'Luv Is Rage',\n",
       "  'Luv Is Rage 2',\n",
       "  'Luv Is Rage 2 (Deluxe)',\n",
       "  'Sauce It Up',\n",
       "  'Smoke My Dope (with Steve Aoki & Lil Uzi Vert) (From Bright: The Album)',\n",
       "  'The Perfect LUV Tape',\n",
       "  'The Way Life Goes (feat. Nicki Minaj & Oh Wonder) [Remix]',\n",
       "  'Watch (feat. Lil Uzi Vert & Kanye West)',\n",
       "  'We Rollin (feat. Lil Uzi Vert & Rome Fortune)',\n",
       "  'Who Run It (Remix)',\n",
       "  'Zambamafoo'}}"
      ]
     },
     "execution_count": 30,
     "metadata": {},
     "output_type": "execute_result"
    }
   ],
   "source": [
    "with open('uzi.pkl', 'rb') as handle:\n",
    "    uzi = pickle.load(handle)\n",
    "uzi"
   ]
  },
  {
   "cell_type": "code",
   "execution_count": 31,
   "metadata": {},
   "outputs": [
    {
     "data": {
      "text/plain": [
       "{'artist': 'Lil Yachty',\n",
       " 'spotify_artist_id': '6icQOAFXDZKsumw3YXyusw',\n",
       " 'popularity': 87,\n",
       " 'followers': '2907549',\n",
       " 'genres': ['pop', 'rap', 'southern hip hop', 'trap music'],\n",
       " 'albums': {'2 Vaults (feat. Lil Yachty)',\n",
       "  'Boat Skirrt',\n",
       "  'Bring It Back',\n",
       "  'Gucci Flip Flops (feat. Lil Yachty)',\n",
       "  'Holiday',\n",
       "  'Ice Tray',\n",
       "  'Interlude',\n",
       "  'Lil Boat',\n",
       "  'Lil Boat 2',\n",
       "  \"Movin' Up\",\n",
       "  'On Me',\n",
       "  'Revenge',\n",
       "  'Solitaire (feat. Migos & Lil Yachty)',\n",
       "  'Summer Songs 2',\n",
       "  'Teenage Emotions',\n",
       "  'With My Team (Remix)',\n",
       "  'Worry No More',\n",
       "  'X Men'}}"
      ]
     },
     "execution_count": 31,
     "metadata": {},
     "output_type": "execute_result"
    }
   ],
   "source": [
    "with open('yachty.pkl', 'rb') as handle:\n",
    "    yachty = pickle.load(handle)\n",
    "yachty"
   ]
  },
  {
   "cell_type": "code",
   "execution_count": 32,
   "metadata": {},
   "outputs": [
    {
     "data": {
      "text/plain": [
       "{'artist': 'Young Thug',\n",
       " 'spotify_artist_id': '50co4Is1HCEo8bhOyUWKpn',\n",
       " 'popularity': 88,\n",
       " 'followers': '2739574',\n",
       " 'genres': ['dwn trap',\n",
       "  'gangster rap',\n",
       "  'hip hop',\n",
       "  'pop',\n",
       "  'pop rap',\n",
       "  'rap',\n",
       "  'southern hip hop',\n",
       "  'trap music'],\n",
       " 'albums': {'1017 Thug',\n",
       "  'Barter 6',\n",
       "  'Beautiful Thugger Girls',\n",
       "  'Been Thru a Lot',\n",
       "  'Brick Sqaud',\n",
       "  'Gang Up (with Young Thug, 2 Chainz & Wiz Khalifa feat. PnB Rock)',\n",
       "  'Gangster Shit',\n",
       "  'Hear No Evil',\n",
       "  'Homie (feat. Meek Mill)',\n",
       "  'I Came from Nothing 2',\n",
       "  \"I'm Up\",\n",
       "  'JEFFERY',\n",
       "  'Liger',\n",
       "  'On Me',\n",
       "  'Ride For Me (with Young Thug, feat. 24hrs)',\n",
       "  'SUPER SLIMEY',\n",
       "  'Slime Season 3',\n",
       "  'Young Martha',\n",
       "  'Young Thugger Mane La Flare',\n",
       "  'pick up the phone'}}"
      ]
     },
     "execution_count": 32,
     "metadata": {},
     "output_type": "execute_result"
    }
   ],
   "source": [
    "with open('young_thug.pkl', 'rb') as handle:\n",
    "    thugger = pickle.load(handle)\n",
    "thugger"
   ]
  },
  {
   "cell_type": "code",
   "execution_count": 33,
   "metadata": {},
   "outputs": [
    {
     "data": {
      "text/plain": [
       "{'artist': 'Jay Rock',\n",
       " 'spotify_artist_id': '28ExwzUQsvgJooOI0X1mr3',\n",
       " 'popularity': 78,\n",
       " 'followers': '256434',\n",
       " 'genres': ['dirty south rap',\n",
       "  'gangster rap',\n",
       "  'hip hop',\n",
       "  'pop rap',\n",
       "  'rap',\n",
       "  'southern hip hop',\n",
       "  'trap music',\n",
       "  'underground hip hop'],\n",
       " 'albums': {'1 Up Top Ahk',\n",
       "  '90059',\n",
       "  'Black Panther The Album Music From And Inspired By',\n",
       "  'Do You Know',\n",
       "  'Follow Me Home',\n",
       "  'From Hood Tales to the Cover of XXL',\n",
       "  'Gumbo',\n",
       "  \"King's Dead (with Kendrick Lamar, Future & James Blake)\",\n",
       "  'Momma We Made It',\n",
       "  'Money Trees Deuce',\n",
       "  'Nobody Knows (feat. Jay Rock & DCMBR)',\n",
       "  'Pay for It (feat. Kendrick Lamar & Chantal)',\n",
       "  'Spiritual Conversations - EP',\n",
       "  'The Big Brother',\n",
       "  'The Hookah Lounge, Vol. 1'}}"
      ]
     },
     "execution_count": 33,
     "metadata": {},
     "output_type": "execute_result"
    }
   ],
   "source": [
    "with open('jay_rock.pkl', 'rb') as handle:\n",
    "    jay_rock = pickle.load(handle)\n",
    "jay_rock"
   ]
  },
  {
   "cell_type": "code",
   "execution_count": 34,
   "metadata": {},
   "outputs": [
    {
     "data": {
      "text/plain": [
       "{'artist': 'ScHoolboy Q',\n",
       " 'spotify_artist_id': '5IcR3N7QB1j6KBL8eImZ8m',\n",
       " 'popularity': 80,\n",
       " 'followers': '1735236',\n",
       " 'genres': ['gangster rap',\n",
       "  'hip hop',\n",
       "  'pop',\n",
       "  'pop rap',\n",
       "  'rap',\n",
       "  'southern hip hop',\n",
       "  'trap music',\n",
       "  'underground hip hop'],\n",
       " 'albums': {'Blank Face LP',\n",
       "  'Break The Bank',\n",
       "  'Collard Greens',\n",
       "  'Groovy Tony',\n",
       "  'Habits & Contradictions',\n",
       "  'Hands On The Wheel',\n",
       "  'Man Of The Year',\n",
       "  'Oxymoron',\n",
       "  'Oxymoron (Deluxe)',\n",
       "  'Setbacks',\n",
       "  'THat Part (Black Hippy Remix)',\n",
       "  'Yay Yay'}}"
      ]
     },
     "execution_count": 34,
     "metadata": {},
     "output_type": "execute_result"
    }
   ],
   "source": [
    "with open('schoolboy.pkl', 'rb') as handle:\n",
    "    sbq = pickle.load(handle)\n",
    "sbq"
   ]
  },
  {
   "cell_type": "code",
   "execution_count": 35,
   "metadata": {},
   "outputs": [
    {
     "data": {
      "text/plain": [
       "{'artist': 'Joey Bada$$',\n",
       " 'spotify_artist_id': '2P5sC9cVZDToPxyomzF1UH',\n",
       " 'popularity': 77,\n",
       " 'followers': '945722',\n",
       " 'genres': ['hip hop', 'pop rap', 'rap', 'trap music', 'underground hip hop'],\n",
       " 'albums': {'500 Benz',\n",
       "  'ALL-AMERIKKKAN BADA$$',\n",
       "  'B4.Da.$$',\n",
       "  \"Brooklyn's Own\",\n",
       "  'Front & Center',\n",
       "  'Hood',\n",
       "  'Land of the Free',\n",
       "  'Lose Control',\n",
       "  'Love Is Only a Feeling',\n",
       "  'PURPLE TUESDAY (feat. Joey Bada$$ & Jesse Boykins III)',\n",
       "  'Pull Up (feat. Joey Bada$$ & A$AP Ferg)',\n",
       "  'ROCKABYE BABY',\n",
       "  'Ready',\n",
       "  'Spotify Sessions',\n",
       "  'Summer Knights',\n",
       "  'The Mood',\n",
       "  'Victory',\n",
       "  'What’s The Score (Remixes)'}}"
      ]
     },
     "execution_count": 35,
     "metadata": {},
     "output_type": "execute_result"
    }
   ],
   "source": [
    "with open('j_badass.pkl', 'rb') as handle:\n",
    "    badass = pickle.load(handle)\n",
    "badass"
   ]
  },
  {
   "cell_type": "code",
   "execution_count": 36,
   "metadata": {},
   "outputs": [
    {
     "data": {
      "text/plain": [
       "{'artist': 'Noname',\n",
       " 'spotify_artist_id': '1EpyA68dKpjf7jXmQL88Hy',\n",
       " 'popularity': 63,\n",
       " 'followers': '157967',\n",
       " 'genres': ['escape room', 'indie r&b'],\n",
       " 'albums': {'1 Time 4 the Road',\n",
       "  'A Humble Masterpiece',\n",
       "  'Apollo 13',\n",
       "  'Bucket List Project',\n",
       "  'Church / Liquor Store',\n",
       "  'Coloring Book',\n",
       "  'HEAVN',\n",
       "  'I Love You More (feat. Noname)',\n",
       "  'Kale',\n",
       "  'Late Knight Special',\n",
       "  'Private Stock',\n",
       "  'Realer Than Most',\n",
       "  'Smokes',\n",
       "  'Telefone',\n",
       "  'The Healing Component',\n",
       "  'The Water (S)',\n",
       "  'Twosyllable Records Chicago Cassette Compilation, Vol. 2'}}"
      ]
     },
     "execution_count": 36,
     "metadata": {},
     "output_type": "execute_result"
    }
   ],
   "source": [
    "with open('noname.pkl', 'rb') as handle:\n",
    "    noname = pickle.load(handle)\n",
    "noname"
   ]
  },
  {
   "cell_type": "code",
   "execution_count": 37,
   "metadata": {},
   "outputs": [
    {
     "data": {
      "text/plain": [
       "{'artist': 'Cardi B',\n",
       " 'spotify_artist_id': '4kYSro6naA4h99UJvo89HB',\n",
       " 'popularity': 93,\n",
       " 'followers': '2257130',\n",
       " 'genres': ['pop'],\n",
       " 'albums': {'Ahora Dice (Real Hasta La Muerte Remix)',\n",
       "  'Bodak Yellow (feat. Kodak Black)',\n",
       "  'Bodak Yellow (feat. Messiah) [Latin Trap Remix]',\n",
       "  'Bronx Season',\n",
       "  'Cheap Ass Weave - Single',\n",
       "  'Festival Fire',\n",
       "  'Finesse (Remix) [feat. Cardi B]',\n",
       "  'Finesse (Remixes) [feat. Cardi B]',\n",
       "  'Gangsta Bitch Music Vol 1',\n",
       "  'Gangsta Bitch Music Vol. 2',\n",
       "  'Invasion of Privacy',\n",
       "  'Spanglish Favorites',\n",
       "  'Stripper Hoe - Single',\n",
       "  'Um Yea',\n",
       "  'What a Girl Likes'}}"
      ]
     },
     "execution_count": 37,
     "metadata": {},
     "output_type": "execute_result"
    }
   ],
   "source": [
    "with open('cardi.pkl', 'rb') as handle:\n",
    "    cardi = pickle.load(handle)\n",
    "cardi"
   ]
  },
  {
   "cell_type": "code",
   "execution_count": 38,
   "metadata": {},
   "outputs": [
    {
     "data": {
      "text/plain": [
       "{'artist': 'Nicki Minaj',\n",
       " 'spotify_artist_id': '0hCNtLu0JehylgoiP8L4Gh',\n",
       " 'popularity': 91,\n",
       " 'followers': '10431818',\n",
       " 'genres': ['dance pop', 'hip pop', 'pop', 'pop rap', 'post-teen pop'],\n",
       " 'albums': {'Barbie Tingz',\n",
       "  'Pink Friday',\n",
       "  'Pink Friday (Deluxe Edition)',\n",
       "  'Pink Friday (Deluxe)',\n",
       "  'Pink Friday ... Roman Reloaded',\n",
       "  'Pink Friday ... Roman Reloaded (Deluxe Edition)',\n",
       "  'Pink Friday ... Roman Reloaded (Deluxe)',\n",
       "  'Pink Friday: Roman Reloaded The Re-Up',\n",
       "  'The Pinkprint',\n",
       "  'The Pinkprint (Deluxe Edition)',\n",
       "  'The Pinkprint (Deluxe)'}}"
      ]
     },
     "execution_count": 38,
     "metadata": {},
     "output_type": "execute_result"
    }
   ],
   "source": [
    "with open('nicki_minaj.pkl', 'rb') as handle:\n",
    "    nicki = pickle.load(handle)\n",
    "nicki"
   ]
  },
  {
   "cell_type": "code",
   "execution_count": 39,
   "metadata": {},
   "outputs": [
    {
     "data": {
      "text/plain": [
       "{'artist': 'Awkwafina',\n",
       " 'spotify_artist_id': '3SmyWs7ou3udD8gtM0Z6Vx',\n",
       " 'popularity': 44,\n",
       " 'followers': '21321',\n",
       " 'genres': ['escape room', 'hip pop'],\n",
       " 'albums': {'Awkwafina',\n",
       "  'Mountain Moves',\n",
       "  'Nyc Bitche$',\n",
       "  'Queef - Single',\n",
       "  'The Cookout Chronicles',\n",
       "  'Yellow Ranger',\n",
       "  \"You Can't Be Serious\",\n",
       "  \"Your Dystopic Creation Doesn't Fear You (feat. Awkwafina)\"}}"
      ]
     },
     "execution_count": 39,
     "metadata": {},
     "output_type": "execute_result"
    }
   ],
   "source": [
    "with open('awkwafina.pkl', 'rb') as handle:\n",
    "    awkwafina = pickle.load(handle)\n",
    "awkwafina"
   ]
  },
  {
   "cell_type": "code",
   "execution_count": 40,
   "metadata": {},
   "outputs": [
    {
     "data": {
      "text/plain": [
       "{'artist': 'Lil Pump',\n",
       " 'spotify_artist_id': '3wyVrVrFCkukjdVIdirGVY',\n",
       " 'popularity': 82,\n",
       " 'followers': '2775648',\n",
       " 'genres': ['rap'],\n",
       " 'albums': {'Battered Bruised & Bloody',\n",
       "  'Boss',\n",
       "  'Choppa 4',\n",
       "  'D Rose',\n",
       "  'Designer',\n",
       "  'Elementary',\n",
       "  'Esskeetit',\n",
       "  'Flex Like Ouu',\n",
       "  'Lie Detector (feat. Lil Pump)',\n",
       "  'Lil Pump',\n",
       "  'Lil Rich Mixtape',\n",
       "  'Molly',\n",
       "  'Next (feat. Rich the Kid)',\n",
       "  'Nun Of Dat (feat. Lil Pump)',\n",
       "  'Satisfaction',\n",
       "  'Simi',\n",
       "  'Walked in Ready',\n",
       "  'i Shyne'}}"
      ]
     },
     "execution_count": 40,
     "metadata": {},
     "output_type": "execute_result"
    }
   ],
   "source": [
    "with open('pump.pkl', 'rb') as handle:\n",
    "    pump = pickle.load(handle)\n",
    "pump"
   ]
  },
  {
   "cell_type": "code",
   "execution_count": 41,
   "metadata": {},
   "outputs": [
    {
     "data": {
      "text/plain": [
       "{'artist': 'Smokepurpp',\n",
       " 'spotify_artist_id': '21dooacK2WGBB5amYvKyfM',\n",
       " 'popularity': 78,\n",
       " 'followers': '665494',\n",
       " 'genres': ['canadian hip hop',\n",
       "  'pop',\n",
       "  'rap',\n",
       "  'southern hip hop',\n",
       "  'trap music',\n",
       "  'underground hip hop',\n",
       "  'vapor trap'],\n",
       " 'albums': {'123 (with Murda Beatz)',\n",
       "  '25/8',\n",
       "  '6 Rings',\n",
       "  'Big Bucks',\n",
       "  'Bless Yo Trap',\n",
       "  'Deadstar',\n",
       "  'Do Not Disturb',\n",
       "  'Geek A Lot',\n",
       "  'Glock In My Benz',\n",
       "  'Houdini',\n",
       "  'How That Make You Feel',\n",
       "  'Muddy',\n",
       "  'Phone (feat. NAV)',\n",
       "  'Ski Mask',\n",
       "  \"Sneakin' (Instrumental)\",\n",
       "  \"That's My Energy +\",\n",
       "  'Up Now Fuck Next',\n",
       "  'Whoa',\n",
       "  'Wokhardt'}}"
      ]
     },
     "execution_count": 41,
     "metadata": {},
     "output_type": "execute_result"
    }
   ],
   "source": [
    "with open('smokepurpp.pkl', 'rb') as handle:\n",
    "    smokepurpp = pickle.load(handle)\n",
    "smokepurpp"
   ]
  },
  {
   "cell_type": "code",
   "execution_count": 42,
   "metadata": {},
   "outputs": [
    {
     "data": {
      "text/plain": [
       "{'artist': 'Blac Youngsta',\n",
       " 'spotify_artist_id': '41klVmDluQZmGGqoidNfbe',\n",
       " 'popularity': 66,\n",
       " 'followers': '459292',\n",
       " 'genres': ['deep trap',\n",
       "  'dwn trap',\n",
       "  'pop rap',\n",
       "  'rap',\n",
       "  'southern hip hop',\n",
       "  'trap music'],\n",
       " 'albums': {'223',\n",
       "  'Beat It',\n",
       "  'Birthday',\n",
       "  \"Can't Fake the Real\",\n",
       "  'Cheat On Me (feat. Blac Youngsta)',\n",
       "  'Double Up',\n",
       "  'Drummin (feat. OneInThe4Rest & Blac Youngsta)',\n",
       "  'F*ck Everybody',\n",
       "  'Hate on Me',\n",
       "  'Heavy',\n",
       "  'Hip Hopper',\n",
       "  'Letter to Yo Gotti',\n",
       "  'Red Chuck Red Flag (feat. Lotto Savage)',\n",
       "  \"Sky's The Limit\",\n",
       "  'Trapaholic',\n",
       "  'True Story',\n",
       "  'Young & Reckless'}}"
      ]
     },
     "execution_count": 42,
     "metadata": {},
     "output_type": "execute_result"
    }
   ],
   "source": [
    "with open('blac_youngsta.pkl', 'rb') as handle:\n",
    "    blac_youngsta = pickle.load(handle)\n",
    "blac_youngsta"
   ]
  },
  {
   "cell_type": "code",
   "execution_count": 43,
   "metadata": {},
   "outputs": [
    {
     "data": {
      "text/plain": [
       "{'artist': 'Tyler, The Creator',\n",
       " 'spotify_artist_id': '4V8LLVI7PbaPR0K2TGSxFF',\n",
       " 'popularity': 81,\n",
       " 'followers': '1840774',\n",
       " 'genres': ['hip hop', 'rap'],\n",
       " 'albums': {'After The Storm (feat. Tyler, The Creator & Bootsy Collins)',\n",
       "  'Biking',\n",
       "  'Boredom',\n",
       "  'Cherry Bomb',\n",
       "  'Cozy Tapes: Vol. 1 Friends -',\n",
       "  'Domo23',\n",
       "  'Festival Fire',\n",
       "  'Flower Boy',\n",
       "  'Goblin',\n",
       "  'Goblin (Deluxe Edition)',\n",
       "  \"I Ain't Got Time!\",\n",
       "  'Isolation',\n",
       "  'Like Butter',\n",
       "  'OKRA',\n",
       "  'Salute Me Or Shoot Me 4 (Banned From America)',\n",
       "  'Sandwitches',\n",
       "  'Who Dat Boy / 911',\n",
       "  'Wolf',\n",
       "  'Yonkers'}}"
      ]
     },
     "execution_count": 43,
     "metadata": {},
     "output_type": "execute_result"
    }
   ],
   "source": [
    "with open('tyler.pkl', 'rb') as handle:\n",
    "    tyler = pickle.load(handle)\n",
    "tyler"
   ]
  },
  {
   "cell_type": "code",
   "execution_count": 44,
   "metadata": {},
   "outputs": [
    {
     "data": {
      "text/plain": [
       "{'artist': 'Frank Ocean',\n",
       " 'spotify_artist_id': '2h93pZq0e7k5yf4dywlkpM',\n",
       " 'popularity': 83,\n",
       " 'followers': '3225770',\n",
       " 'genres': ['hip hop',\n",
       "  'indie r&b',\n",
       "  'neo soul',\n",
       "  'pop',\n",
       "  'pop rap',\n",
       "  'r&b',\n",
       "  'rap'],\n",
       " 'albums': {'Biking',\n",
       "  'Biking (Solo)',\n",
       "  'Blonde',\n",
       "  'Chanel',\n",
       "  'Cozy Tapes Vol. 2: Too Cozy',\n",
       "  'Flower Boy',\n",
       "  'Funk Wav Bounces Vol.1',\n",
       "  'Lens',\n",
       "  'Moon River',\n",
       "  \"NOW That's What I Call Music, Vol. 63\",\n",
       "  \"New Year's Eve 2017/18\",\n",
       "  'Novacane',\n",
       "  'Provider',\n",
       "  'RAF',\n",
       "  'Swim Good',\n",
       "  'Thinkin Bout You',\n",
       "  'Who Dat Boy / 911',\n",
       "  'channel ORANGE'}}"
      ]
     },
     "execution_count": 44,
     "metadata": {},
     "output_type": "execute_result"
    }
   ],
   "source": [
    "with open('frank_ocean.pkl', 'rb') as handle:\n",
    "    frank_ocean = pickle.load(handle)\n",
    "frank_ocean"
   ]
  },
  {
   "cell_type": "code",
   "execution_count": 45,
   "metadata": {},
   "outputs": [
    {
     "data": {
      "text/plain": [
       "{'artist': 'Tyga',\n",
       " 'spotify_artist_id': '5LHRHt1k9lMyONurDHEdrp',\n",
       " 'popularity': 79,\n",
       " 'followers': '2857994',\n",
       " 'genres': ['dance pop',\n",
       "  'hip hop',\n",
       "  'pop',\n",
       "  'pop rap',\n",
       "  'rap',\n",
       "  'southern hip hop',\n",
       "  'trap music'],\n",
       " 'albums': {'#BitchImTheShit',\n",
       "  \"B*tch I'm the Sh*t 2\",\n",
       "  \"Bitch I'm the Shit 2\",\n",
       "  'Black Thoughts',\n",
       "  'Black Thoughts Vol. 2',\n",
       "  'Bugatti Raww',\n",
       "  'Careless World: Rise Of The Last King',\n",
       "  'Fan of A Fan The Album (Deluxe Version)',\n",
       "  'Fuk Wat They Talkin Bout',\n",
       "  'Hotel California',\n",
       "  'Hotel California (Deluxe)',\n",
       "  'Kyoto',\n",
       "  'Rawwest Alive',\n",
       "  'The Gold Album: 18th Dynasty',\n",
       "  'U Cry',\n",
       "  'Well Done 4'}}"
      ]
     },
     "execution_count": 45,
     "metadata": {},
     "output_type": "execute_result"
    }
   ],
   "source": [
    "with open('tyga.pkl', 'rb') as handle:\n",
    "    tyga = pickle.load(handle)\n",
    "tyga"
   ]
  },
  {
   "cell_type": "code",
   "execution_count": 46,
   "metadata": {},
   "outputs": [
    {
     "data": {
      "text/plain": [
       "{'artist': 'DRAM',\n",
       " 'spotify_artist_id': '5M0lbkGluOPXLeFjApw8r8',\n",
       " 'popularity': 74,\n",
       " 'followers': '589997',\n",
       " 'genres': ['hip hop',\n",
       "  'indie r&b',\n",
       "  'pop',\n",
       "  'pop rap',\n",
       "  'rap',\n",
       "  'southern hip hop',\n",
       "  'trap music',\n",
       "  'underground hip hop'],\n",
       " 'albums': {'#1EpicEP',\n",
       "  '#1HappyHoliday',\n",
       "  'Big Baby DRAM',\n",
       "  'Big Baby DRAM (Deluxe)',\n",
       "  \"Cakin'\",\n",
       "  'Campfire (with DRAM & Neil Young) [From Bright: The Album]',\n",
       "  'Crumbs',\n",
       "  'Cute (Remix) [feat. Cardi B]',\n",
       "  'Gahdamn!',\n",
       "  'Group Thang (DEMO)',\n",
       "  'I Miss You (feat. Julia Michaels) [DRAM Remix]',\n",
       "  'ILL NANA (feat. Trippie Redd)',\n",
       "  'Look Back',\n",
       "  \"Must've Been (feat. DRAM)\",\n",
       "  'Myself (feat. DRAM)'}}"
      ]
     },
     "execution_count": 46,
     "metadata": {},
     "output_type": "execute_result"
    }
   ],
   "source": [
    "with open('dram.pkl', 'rb') as handle:\n",
    "    dram = pickle.load(handle)\n",
    "dram"
   ]
  },
  {
   "cell_type": "code",
   "execution_count": 47,
   "metadata": {},
   "outputs": [
    {
     "data": {
      "text/plain": [
       "{'artist': 'G-Eazy',\n",
       " 'spotify_artist_id': '02kJSzxNuaWGqwubyUba0Z',\n",
       " 'popularity': 88,\n",
       " 'followers': '3012083',\n",
       " 'genres': ['indie pop rap'],\n",
       " 'albums': {'1942',\n",
       "  'Love Is Gone',\n",
       "  'Must Be Nice',\n",
       "  'No Limit REMIX',\n",
       "  'Sober',\n",
       "  'Summer In December',\n",
       "  'The Beautiful & Damned',\n",
       "  'The Plan',\n",
       "  'These Things Happen',\n",
       "  \"When It's Dark Out\"}}"
      ]
     },
     "execution_count": 47,
     "metadata": {},
     "output_type": "execute_result"
    }
   ],
   "source": [
    "with open('g-eazy.pkl', 'rb') as handle:\n",
    "    eazy = pickle.load(handle)\n",
    "eazy"
   ]
  },
  {
   "cell_type": "code",
   "execution_count": 48,
   "metadata": {},
   "outputs": [
    {
     "data": {
      "text/plain": [
       "{'artist': 'Logic',\n",
       " 'spotify_artist_id': '4xRYI6VqpkE3UwrDrAZL8L',\n",
       " 'popularity': 89,\n",
       " 'followers': '2303543',\n",
       " 'genres': ['pop rap', 'rap'],\n",
       " 'albums': {'1-800-273-8255',\n",
       "  '44 More',\n",
       "  'Bobby Tarantino',\n",
       "  'Bobby Tarantino II',\n",
       "  \"Broken People (with Logic & Rag'n'Bone Man) [From Bright: The Album]\",\n",
       "  'Everybody',\n",
       "  'Everyday',\n",
       "  'The Incredible True Story',\n",
       "  'Under Pressure',\n",
       "  'Under Pressure (Deluxe)',\n",
       "  'Wrist'}}"
      ]
     },
     "execution_count": 48,
     "metadata": {},
     "output_type": "execute_result"
    }
   ],
   "source": [
    "with open('logic.pkl', 'rb') as handle:\n",
    "    logic = pickle.load(handle)\n",
    "logic"
   ]
  },
  {
   "cell_type": "code",
   "execution_count": 49,
   "metadata": {},
   "outputs": [
    {
     "data": {
      "text/plain": [
       "{'artist': 'Mac Miller',\n",
       " 'spotify_artist_id': '4LLpKhyESsyAXpc4laK94U',\n",
       " 'popularity': 76,\n",
       " 'followers': '2206356',\n",
       " 'genres': ['hip hop',\n",
       "  'pop',\n",
       "  'pop rap',\n",
       "  'rap',\n",
       "  'southern hip hop',\n",
       "  'trap music'],\n",
       " 'albums': {'100 Grandkids',\n",
       "  '100 Grandkids (Short Radio Edit)',\n",
       "  'Best Day Ever (5th Anniversary Remastered Edition)',\n",
       "  'Blue Slide Park',\n",
       "  'Blue Slide Park (Commentary Version)',\n",
       "  'Blue Slide Park (Edited Version)',\n",
       "  'Break The Law',\n",
       "  'Clubhouse',\n",
       "  'Dang! (feat. Anderson .Paak) [Radio Edit]',\n",
       "  'GO:OD AM',\n",
       "  'Live From Space',\n",
       "  'Lucky Ass Bitch',\n",
       "  'Macadelic (Remastered Edition)',\n",
       "  'S.D.S.',\n",
       "  'The Divine Feminine',\n",
       "  'Watching Movies',\n",
       "  'Watching Movies with the Sound Off',\n",
       "  'Watching Movies with the Sound Off (Deluxe Edition)'}}"
      ]
     },
     "execution_count": 49,
     "metadata": {},
     "output_type": "execute_result"
    }
   ],
   "source": [
    "with open('mac_miller.pkl', 'rb') as handle:\n",
    "    mac_miller = pickle.load(handle)\n",
    "mac_miller"
   ]
  },
  {
   "cell_type": "code",
   "execution_count": 50,
   "metadata": {},
   "outputs": [
    {
     "data": {
      "text/plain": [
       "{'artist': 'Anderson .Paak',\n",
       " 'spotify_artist_id': '3jK9MiCrA42lLAdMGUZpwa',\n",
       " 'popularity': 75,\n",
       " 'followers': '607578',\n",
       " 'genres': ['escape room', 'hip hop', 'indie r&b', 'la indie', 'rap'],\n",
       " 'albums': {\"'Til It's Over\",\n",
       "  'Am I Wrong (feat. ScHoolboy Q) - Single',\n",
       "  'Black Panther The Album Music From And Inspired By',\n",
       "  'Chris Dave And The Drumhedz',\n",
       "  'Come Down - Single',\n",
       "  'Link Up & Suede',\n",
       "  'Malibu',\n",
       "  'Miss Right',\n",
       "  'Pacific Rim Uprising (Original Motion Picture Soundtrack)',\n",
       "  'Put It Down (feat. Anderson .Paak & KRNE)',\n",
       "  'Room In Here (DJ Jazzy Jeff Remix)',\n",
       "  'Room In Here (feat. The Game & Sonyae Elise) - Single',\n",
       "  'The Season / Carry Me - Single',\n",
       "  'Venice',\n",
       "  'Yes Lawd!',\n",
       "  'Yes Lawd! Remixes'}}"
      ]
     },
     "execution_count": 50,
     "metadata": {},
     "output_type": "execute_result"
    }
   ],
   "source": [
    "with open('paak.pkl', 'rb') as handle:\n",
    "    paak = pickle.load(handle)\n",
    "paak"
   ]
  },
  {
   "cell_type": "code",
   "execution_count": 51,
   "metadata": {},
   "outputs": [
    {
     "data": {
      "text/plain": [
       "{'artist': 'J. Cole',\n",
       " 'spotify_artist_id': '6l3HvQ5sa6mXTsMTB19rO5',\n",
       " 'popularity': 93,\n",
       " 'followers': '5074440',\n",
       " 'genres': ['pop', 'pop rap', 'rap'],\n",
       " 'albums': {'2014 Forest Hills Drive',\n",
       "  '4 Your Eyez Only',\n",
       "  'Born Sinner',\n",
       "  'Cole World: The Sideline Story',\n",
       "  'Exclusive Commentary',\n",
       "  'False Prophets',\n",
       "  'Forest Hills Drive: Live from Fayetteville, NC',\n",
       "  'High For Hours',\n",
       "  'KOD',\n",
       "  'Miss America',\n",
       "  'Power Trip',\n",
       "  'everybody dies'}}"
      ]
     },
     "execution_count": 51,
     "metadata": {},
     "output_type": "execute_result"
    }
   ],
   "source": [
    "with open('cole.pkl', 'rb') as handle:\n",
    "    cole = pickle.load(handle)\n",
    "cole"
   ]
  },
  {
   "cell_type": "code",
   "execution_count": 52,
   "metadata": {},
   "outputs": [
    {
     "data": {
      "text/plain": [
       "{'artist': 'Lil Dicky',\n",
       " 'spotify_artist_id': '1tqhsYv8yBBdwANFNzHtcr',\n",
       " 'popularity': 84,\n",
       " 'followers': '813129',\n",
       " 'genres': ['pop rap', 'rap'],\n",
       " 'albums': {'$ave Dat Money (feat. Fetty Wap & Rich Homie Quan)',\n",
       "  'All K',\n",
       "  'Classic Male Pregame',\n",
       "  'Dirty Work',\n",
       "  'EPIC AF',\n",
       "  'Freaky Friday (feat. Chris Brown)',\n",
       "  'Free Bread At The Outback - Single',\n",
       "  'Free Bread at the Outback',\n",
       "  'Hump Days',\n",
       "  \"I'm Brain\",\n",
       "  \"Just A Lil' Thick (She Juicy)\",\n",
       "  'Professional Rapper',\n",
       "  'Really Scared (feat. Azadeh) - Single',\n",
       "  'Sit Down',\n",
       "  'The Gumption - Single',\n",
       "  'Would You Believe That - Single'}}"
      ]
     },
     "execution_count": 52,
     "metadata": {},
     "output_type": "execute_result"
    }
   ],
   "source": [
    "with open('dicky.pkl', 'rb') as handle:\n",
    "    dicky = pickle.load(handle)\n",
    "dicky"
   ]
  },
  {
   "cell_type": "code",
   "execution_count": 53,
   "metadata": {},
   "outputs": [
    {
     "data": {
      "text/plain": [
       "{'artist': 'Wiz Khalifa',\n",
       " 'spotify_artist_id': '137W8MRPWKqSmrBGDBFSop',\n",
       " 'popularity': 86,\n",
       " 'followers': '6767452',\n",
       " 'genres': ['hip hop', 'pop rap', 'rap', 'southern hip hop', 'trap music'],\n",
       " 'albums': {'Blacc Hollywood',\n",
       "  'Blacc Hollywood (Deluxe)',\n",
       "  'Deal Or No Deal',\n",
       "  'Flight School',\n",
       "  'Khalifa',\n",
       "  'Laugh Now, Fly Later',\n",
       "  'Mac and Devin Go To High School (Music From and Inspired By The Movie)',\n",
       "  'O.N.I.F.C.',\n",
       "  'O.N.I.F.C. (Deluxe)',\n",
       "  'Prince Of The City 2',\n",
       "  'Real Rich (feat. Gucci Mane)',\n",
       "  'Rolling Papers',\n",
       "  'Show And Prove',\n",
       "  'TGOD Mafia: Rude Awakening'}}"
      ]
     },
     "execution_count": 53,
     "metadata": {},
     "output_type": "execute_result"
    }
   ],
   "source": [
    "with open('wiz.pkl', 'rb') as handle:\n",
    "    wiz = pickle.load(handle)\n",
    "wiz"
   ]
  },
  {
   "cell_type": "code",
   "execution_count": 54,
   "metadata": {},
   "outputs": [
    {
     "data": {
      "text/plain": [
       "{'artist': 'Tory Lanez',\n",
       " 'spotify_artist_id': '2jku7tDXc6XoB6MO2hFuqg',\n",
       " 'popularity': 83,\n",
       " 'followers': '1281854',\n",
       " 'genres': ['canadian hip hop',\n",
       "  'indie r&b',\n",
       "  'pop',\n",
       "  'pop rap',\n",
       "  'r&b',\n",
       "  'rap',\n",
       "  'southern hip hop',\n",
       "  'trap music'],\n",
       " 'albums': {'Cold Hard Love',\n",
       "  'Flex',\n",
       "  'I Sip',\n",
       "  'I Told You',\n",
       "  'LA Confidential',\n",
       "  'LUV',\n",
       "  'LUV (Remix)',\n",
       "  'LUV (Snakehips Remix)',\n",
       "  'LUV (Tieks Remix)',\n",
       "  \"MEMORIES DON'T DIE\",\n",
       "  'Miss You (Remixes)',\n",
       "  'Miss You (with Major Lazer & Tory Lanez)',\n",
       "  'Paid (feat. WithADollarSign & Hella Lavish)',\n",
       "  'Spotify Sessions'}}"
      ]
     },
     "execution_count": 54,
     "metadata": {},
     "output_type": "execute_result"
    }
   ],
   "source": [
    "with open('tory_lanez.pkl', 'rb') as handle:\n",
    "    tory_lanez = pickle.load(handle)\n",
    "tory_lanez"
   ]
  },
  {
   "cell_type": "code",
   "execution_count": 55,
   "metadata": {},
   "outputs": [
    {
     "data": {
      "text/plain": [
       "{'artist': 'Lil Xan',\n",
       " 'spotify_artist_id': '3EXdLajEO02ziZ90P90bSW',\n",
       " 'popularity': 81,\n",
       " 'followers': '859562',\n",
       " 'genres': ['underground hip hop'],\n",
       " 'albums': {'Awe Swear Tah Goddess (Remix)',\n",
       "  'Been Bout It',\n",
       "  'Betrayed',\n",
       "  'Betrayed (Remix)',\n",
       "  'Color Blind',\n",
       "  'Crash the Whip',\n",
       "  'Far',\n",
       "  'I Got (feat. Lil Xan and $teven Cannon)',\n",
       "  'Slingshot',\n",
       "  'Sorry',\n",
       "  'TOTAL XANARCHY',\n",
       "  'The Man',\n",
       "  'Vicodin',\n",
       "  'Wake Up',\n",
       "  'Water (Models) [feat. Smokeasac]',\n",
       "  'Xanarchy'}}"
      ]
     },
     "execution_count": 55,
     "metadata": {},
     "output_type": "execute_result"
    }
   ],
   "source": [
    "with open('xan.pkl', 'rb') as handle:\n",
    "    xan = pickle.load(handle)\n",
    "xan"
   ]
  },
  {
   "cell_type": "code",
   "execution_count": 56,
   "metadata": {},
   "outputs": [
    {
     "data": {
      "text/plain": [
       "{'artist': 'Denzel Curry',\n",
       " 'spotify_artist_id': '6fxyWrfmjcbj5d12gXeiNV',\n",
       " 'popularity': 69,\n",
       " 'followers': '438027',\n",
       " 'genres': ['drill',\n",
       "  'hip hop',\n",
       "  'rap',\n",
       "  'trap music',\n",
       "  'underground hip hop',\n",
       "  'vapor trap'],\n",
       " 'albums': {'13',\n",
       "  '32 Zel',\n",
       "  'Babylon (feat. Denzel Curry)',\n",
       "  'Babylon (feat. Denzel Curry) [Remixes]',\n",
       "  'Imperial',\n",
       "  \"It's a Long Game\",\n",
       "  'Knotty Head (UK Remix)',\n",
       "  'Kristi',\n",
       "  'No Wave (feat. Denzel Curry)',\n",
       "  'OMGRONNY',\n",
       "  'Revelation (feat. Denzel Curry)',\n",
       "  'Skywalker',\n",
       "  'Sumo',\n",
       "  'The U Album',\n",
       "  'Threatz',\n",
       "  'Uh Huh',\n",
       "  'Ultimate',\n",
       "  'Ultimate / Sick & Tired (BADBADNOTGOOD Sessions)',\n",
       "  'Vacation In Hell'}}"
      ]
     },
     "execution_count": 56,
     "metadata": {},
     "output_type": "execute_result"
    }
   ],
   "source": [
    "with open('denzel_curry.pkl', 'rb') as handle:\n",
    "    denzel_curry = pickle.load(handle)\n",
    "denzel_curry"
   ]
  }
 ],
 "metadata": {
  "kernelspec": {
   "display_name": "Python 3",
   "language": "python",
   "name": "python3"
  },
  "language_info": {
   "codemirror_mode": {
    "name": "ipython",
    "version": 3
   },
   "file_extension": ".py",
   "mimetype": "text/x-python",
   "name": "python",
   "nbconvert_exporter": "python",
   "pygments_lexer": "ipython3",
   "version": "3.6.5"
  },
  "toc": {
   "base_numbering": 1,
   "nav_menu": {},
   "number_sections": true,
   "sideBar": true,
   "skip_h1_title": false,
   "title_cell": "Table of Contents",
   "title_sidebar": "Contents",
   "toc_cell": false,
   "toc_position": {},
   "toc_section_display": true,
   "toc_window_display": false
  }
 },
 "nbformat": 4,
 "nbformat_minor": 2
}
