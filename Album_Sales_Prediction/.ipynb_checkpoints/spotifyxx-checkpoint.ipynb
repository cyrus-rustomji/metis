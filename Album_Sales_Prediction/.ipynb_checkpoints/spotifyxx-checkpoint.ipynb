{
 "cells": [
  {
   "cell_type": "code",
   "execution_count": 3,
   "metadata": {},
   "outputs": [],
   "source": [
    "import os\n",
    "import sys\n",
    "import json\n",
    "import spotipy\n",
    "import webbrowser\n",
    "import spotipy.util as util\n",
    "from json.decoder import JSONDecodeError"
   ]
  },
  {
   "cell_type": "code",
   "execution_count": 4,
   "metadata": {},
   "outputs": [
    {
     "name": "stdout",
     "output_type": "stream",
     "text": [
      "\n",
      "            You need to set your Spotify API credentials. You can do this by\n",
      "            setting environment variables like so:\n",
      "\n",
      "            export SPOTIPY_CLIENT_ID='your-spotify-client-id'\n",
      "            export SPOTIPY_CLIENT_SECRET='your-spotify-client-secret'\n",
      "            export SPOTIPY_REDIRECT_URI='your-app-redirect-url'\n",
      "\n",
      "            Get your credentials at     \n",
      "                https://developer.spotify.com/my-applications\n",
      "        \n"
     ]
    },
    {
     "ename": "FileNotFoundError",
     "evalue": "[Errno 2] No such file or directory: '.cache--f'",
     "output_type": "error",
     "traceback": [
      "\u001b[0;31m---------------------------------------------------------------------------\u001b[0m",
      "\u001b[0;31mSpotifyException\u001b[0m                          Traceback (most recent call last)",
      "\u001b[0;32m<ipython-input-4-dec1cb4a0636>\u001b[0m in \u001b[0;36m<module>\u001b[0;34m()\u001b[0m\n\u001b[1;32m      7\u001b[0m \u001b[0;32mtry\u001b[0m\u001b[0;34m:\u001b[0m\u001b[0;34m\u001b[0m\u001b[0m\n\u001b[0;32m----> 8\u001b[0;31m     \u001b[0mtoken\u001b[0m \u001b[0;34m=\u001b[0m \u001b[0mutil\u001b[0m\u001b[0;34m.\u001b[0m\u001b[0mprompt_for_user_token\u001b[0m\u001b[0;34m(\u001b[0m\u001b[0musername\u001b[0m\u001b[0;34m)\u001b[0m\u001b[0;34m\u001b[0m\u001b[0m\n\u001b[0m\u001b[1;32m      9\u001b[0m \u001b[0;32mexcept\u001b[0m\u001b[0;34m:\u001b[0m\u001b[0;34m\u001b[0m\u001b[0m\n",
      "\u001b[0;32m~/anaconda3/lib/python3.6/site-packages/spotipy/util.py\u001b[0m in \u001b[0;36mprompt_for_user_token\u001b[0;34m(username, scope, client_id, client_secret, redirect_uri)\u001b[0m\n\u001b[1;32m     46\u001b[0m         ''')\n\u001b[0;32m---> 47\u001b[0;31m         \u001b[0;32mraise\u001b[0m \u001b[0mspotipy\u001b[0m\u001b[0;34m.\u001b[0m\u001b[0mSpotifyException\u001b[0m\u001b[0;34m(\u001b[0m\u001b[0;36m550\u001b[0m\u001b[0;34m,\u001b[0m \u001b[0;34m-\u001b[0m\u001b[0;36m1\u001b[0m\u001b[0;34m,\u001b[0m \u001b[0;34m'no credentials set'\u001b[0m\u001b[0;34m)\u001b[0m\u001b[0;34m\u001b[0m\u001b[0m\n\u001b[0m\u001b[1;32m     48\u001b[0m \u001b[0;34m\u001b[0m\u001b[0m\n",
      "\u001b[0;31mSpotifyException\u001b[0m: http status: 550, code:-1 - no credentials set",
      "\nDuring handling of the above exception, another exception occurred:\n",
      "\u001b[0;31mFileNotFoundError\u001b[0m                         Traceback (most recent call last)",
      "\u001b[0;32m<ipython-input-4-dec1cb4a0636>\u001b[0m in \u001b[0;36m<module>\u001b[0;34m()\u001b[0m\n\u001b[1;32m      8\u001b[0m     \u001b[0mtoken\u001b[0m \u001b[0;34m=\u001b[0m \u001b[0mutil\u001b[0m\u001b[0;34m.\u001b[0m\u001b[0mprompt_for_user_token\u001b[0m\u001b[0;34m(\u001b[0m\u001b[0musername\u001b[0m\u001b[0;34m)\u001b[0m\u001b[0;34m\u001b[0m\u001b[0m\n\u001b[1;32m      9\u001b[0m \u001b[0;32mexcept\u001b[0m\u001b[0;34m:\u001b[0m\u001b[0;34m\u001b[0m\u001b[0m\n\u001b[0;32m---> 10\u001b[0;31m     \u001b[0mos\u001b[0m\u001b[0;34m.\u001b[0m\u001b[0mremove\u001b[0m\u001b[0;34m(\u001b[0m\u001b[0;34mf\".cache-{username}\"\u001b[0m\u001b[0;34m)\u001b[0m\u001b[0;34m\u001b[0m\u001b[0m\n\u001b[0m\u001b[1;32m     11\u001b[0m     \u001b[0mtoken\u001b[0m \u001b[0;34m=\u001b[0m \u001b[0mutil\u001b[0m\u001b[0;34m.\u001b[0m\u001b[0mprompt_for_user_token\u001b[0m\u001b[0;34m(\u001b[0m\u001b[0musername\u001b[0m\u001b[0;34m)\u001b[0m\u001b[0;34m\u001b[0m\u001b[0m\n\u001b[1;32m     12\u001b[0m \u001b[0;34m\u001b[0m\u001b[0m\n",
      "\u001b[0;31mFileNotFoundError\u001b[0m: [Errno 2] No such file or directory: '.cache--f'"
     ]
    }
   ],
   "source": [
    "# Get username from terminal\n",
    "username = sys.argv[1]\n",
    "\n",
    "# User Id: 123181425\n",
    "\n",
    "# Erase cache and prompt for user permission\n",
    "try:\n",
    "    token = util.prompt_for_user_token(username)\n",
    "except:\n",
    "    os.remove(f\".cache-{username}\")\n",
    "    token = util.prompt_for_user_token(username)\n",
    "\n",
    "# Create our spotipyObject\n",
    "spotipyObject = spotipy.Spotify(auth=token)\n",
    "\n",
    "user = spotipyObject.current_user()\n",
    "\n",
    "displayName = user['display_name']\n",
    "followers = user['followers']['total']"
   ]
  },
  {
   "cell_type": "code",
   "execution_count": null,
   "metadata": {},
   "outputs": [],
   "source": [
    "while True:\n",
    "    print()\n",
    "    print('>>> Welcome to Spotipy ' + displayName + '!')\n",
    "    print('>>> You have ' + str(followers) + ' followers.')\n",
    "    print()\n",
    "    print('0 - Search for an artist')\n",
    "    print('1 - exit')\n",
    "    print()\n",
    "    choice = input('Your choice: ')\n",
    "\n",
    "# Search for the artist\n",
    "    if choice == '0':\n",
    "        print(spotipyObject.me( ))\n",
    "        print()\n",
    "        searchQuery = input(\"0k, what's their name?: \")\n",
    "        print()\n",
    "        # Get search results\n",
    "        searchResults = spotipyObject.search(searchQuery,1,0,'artist')\n",
    "        # print(json.dumps(searchResults, sort_keys=True,indent=4))\n",
    "\n",
    "        # artist details\n",
    "\n",
    "        artist = searchResults['artists']['items'][0]\n",
    "        print(artist['name'])\n",
    "        print(str(artist['followers']['total']) + 'followers')\n",
    "        print(artist['genres'])\n",
    "        print()\n",
    "        webbrowser.open(artist['images'][0]['url'])\n",
    "        artistID = artist['id']\n",
    "\n",
    "        # album and track details\n",
    "        trackURIs = []\n",
    "        trackArt = []\n",
    "        z = 0\n",
    "\n",
    "        # Extract album data\n",
    "        albumResults = spotipyObject.artist_albums(artistID)\n",
    "        albumResults = albumResults['items']\n",
    "        # print(current_user_playing_track)\n",
    "\n",
    "        for item in albumResults:\n",
    "            # looping through album\n",
    "            print('ALBUM ' + item['name'])\n",
    "            albumID = item['id']\n",
    "            albumArt = item['images'][0]['url']\n",
    "\n",
    "            # Extract track data\n",
    "            trackResults = spotipyObject.album_tracks(albumID)\n",
    "            trackResults = trackResults['items']\n",
    "\n",
    "\n",
    "            for item in trackResults:\n",
    "                # looping through track results\n",
    "                print(str(z) + ':' + item['name'])\n",
    "                trackURIs.append(item['uri'])\n",
    "                trackArt.append(albumArt)\n",
    "                z += 1\n",
    "            print()\n",
    "\n",
    "        # see album art\n",
    "        while True:\n",
    "            songSelection = input('Enter a song number to see the album art associated with it (or set x to exit): ')\n",
    "            if songSelection == 'x':\n",
    "            break\n",
    "            webbrowser.open(trackArt[int(songSelection)])\n",
    "\n",
    "\n",
    "# End the program\n",
    "    if choice == '1':\n",
    "        break\n",
    "\n",
    "\n",
    "\n",
    "# print(json.dumps(VARIABLE, sort_keys=True,indent=4))"
   ]
  },
  {
   "cell_type": "code",
   "execution_count": null,
   "metadata": {},
   "outputs": [],
   "source": []
  },
  {
   "cell_type": "code",
   "execution_count": null,
   "metadata": {},
   "outputs": [],
   "source": []
  },
  {
   "cell_type": "code",
   "execution_count": null,
   "metadata": {},
   "outputs": [],
   "source": []
  },
  {
   "cell_type": "code",
   "execution_count": null,
   "metadata": {},
   "outputs": [],
   "source": []
  },
  {
   "cell_type": "code",
   "execution_count": null,
   "metadata": {},
   "outputs": [],
   "source": []
  }
 ],
 "metadata": {
  "kernelspec": {
   "display_name": "Python 3",
   "language": "python",
   "name": "python3"
  },
  "language_info": {
   "codemirror_mode": {
    "name": "ipython",
    "version": 3
   },
   "file_extension": ".py",
   "mimetype": "text/x-python",
   "name": "python",
   "nbconvert_exporter": "python",
   "pygments_lexer": "ipython3",
   "version": "3.6.4"
  },
  "toc": {
   "base_numbering": 1,
   "nav_menu": {},
   "number_sections": true,
   "sideBar": true,
   "skip_h1_title": false,
   "title_cell": "Table of Contents",
   "title_sidebar": "Contents",
   "toc_cell": false,
   "toc_position": {},
   "toc_section_display": true,
   "toc_window_display": false
  }
 },
 "nbformat": 4,
 "nbformat_minor": 2
}
