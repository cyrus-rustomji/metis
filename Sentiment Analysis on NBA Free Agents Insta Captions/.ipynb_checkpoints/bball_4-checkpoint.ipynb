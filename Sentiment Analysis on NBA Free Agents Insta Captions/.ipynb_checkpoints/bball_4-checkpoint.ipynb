{
 "cells": [
  {
   "cell_type": "code",
   "execution_count": 1,
   "metadata": {},
   "outputs": [],
   "source": [
    "from instagram.client import InstagramAPI\n",
    "import httplib2\n",
    "import json\n",
    "import sys"
   ]
  },
  {
   "cell_type": "code",
   "execution_count": 2,
   "metadata": {},
   "outputs": [],
   "source": [
    "# client_id = a77706e323a7486083cfe1d7cd9e1a42\n",
    "# client_secret = 00432157818642949f978b7996a692cf"
   ]
  },
  {
   "cell_type": "code",
   "execution_count": 5,
   "metadata": {},
   "outputs": [
    {
     "name": "stdout",
     "output_type": "stream",
     "text": [
      "Client ID: a77706e323a7486083cfe1d7cd9e1a42\n",
      "Client Secret: 00432157818642949f978b7996a692cf\n",
      "Redirect URI: http://google.com/\n",
      "Requested scope (separated by spaces, blank for just basic read): \n",
      "Visit this page and authorize access in your browser: https://www.instagram.com/accounts/login/?force_classic_login=&client_id=a77706e323a7486083cfe1d7cd9e1a42&next=/oauth/authorize%3Fclient_id%3Da77706e323a7486083cfe1d7cd9e1a42%26response_type%3Dcode%26redirect_uri%3Dhttp%3A//google.com/%26scope%3Dbasic\n",
      "Paste in code in query string after redirect: 50ad7850827644d7a95617e322b93eeb\n"
     ]
    },
    {
     "ename": "OAuth2AuthExchangeError",
     "evalue": "You must provide a client_id",
     "output_type": "error",
     "traceback": [
      "\u001b[0;31m---------------------------------------------------------------------------\u001b[0m",
      "\u001b[0;31mOAuth2AuthExchangeError\u001b[0m                   Traceback (most recent call last)",
      "\u001b[0;32m<ipython-input-5-598acd506555>\u001b[0m in \u001b[0;36m<module>\u001b[0;34m()\u001b[0m\n\u001b[1;32m     39\u001b[0m \u001b[0mcode\u001b[0m \u001b[0;34m=\u001b[0m \u001b[0minput\u001b[0m\u001b[0;34m(\u001b[0m\u001b[0;34m\"Paste in code in query string after redirect: \"\u001b[0m\u001b[0;34m)\u001b[0m\u001b[0;34m.\u001b[0m\u001b[0mstrip\u001b[0m\u001b[0;34m(\u001b[0m\u001b[0;34m)\u001b[0m\u001b[0;34m\u001b[0m\u001b[0m\n\u001b[1;32m     40\u001b[0m \u001b[0;34m\u001b[0m\u001b[0m\n\u001b[0;32m---> 41\u001b[0;31m \u001b[0maccess_token\u001b[0m \u001b[0;34m=\u001b[0m \u001b[0mapi\u001b[0m\u001b[0;34m.\u001b[0m\u001b[0mexchange_code_for_access_token\u001b[0m\u001b[0;34m(\u001b[0m\u001b[0mcode\u001b[0m\u001b[0;34m)\u001b[0m\u001b[0;34m\u001b[0m\u001b[0m\n\u001b[0m\u001b[1;32m     42\u001b[0m \u001b[0mprint\u001b[0m \u001b[0;34m(\u001b[0m\u001b[0;34m\"access token: \"\u001b[0m \u001b[0;34m)\u001b[0m\u001b[0;34m\u001b[0m\u001b[0m\n\u001b[1;32m     43\u001b[0m \u001b[0mprint\u001b[0m \u001b[0;34m(\u001b[0m\u001b[0maccess_token\u001b[0m\u001b[0;34m)\u001b[0m\u001b[0;34m\u001b[0m\u001b[0m\n",
      "\u001b[0;32m~/anaconda3/lib/python3.6/site-packages/instagram/oauth2.py\u001b[0m in \u001b[0;36mexchange_code_for_access_token\u001b[0;34m(self, code)\u001b[0m\n\u001b[1;32m     46\u001b[0m     \u001b[0;32mdef\u001b[0m \u001b[0mexchange_code_for_access_token\u001b[0m\u001b[0;34m(\u001b[0m\u001b[0mself\u001b[0m\u001b[0;34m,\u001b[0m \u001b[0mcode\u001b[0m\u001b[0;34m)\u001b[0m\u001b[0;34m:\u001b[0m\u001b[0;34m\u001b[0m\u001b[0m\n\u001b[1;32m     47\u001b[0m         \u001b[0mreq\u001b[0m \u001b[0;34m=\u001b[0m \u001b[0mOAuth2AuthExchangeRequest\u001b[0m\u001b[0;34m(\u001b[0m\u001b[0mself\u001b[0m\u001b[0;34m)\u001b[0m\u001b[0;34m\u001b[0m\u001b[0m\n\u001b[0;32m---> 48\u001b[0;31m         \u001b[0;32mreturn\u001b[0m \u001b[0mreq\u001b[0m\u001b[0;34m.\u001b[0m\u001b[0mexchange_for_access_token\u001b[0m\u001b[0;34m(\u001b[0m\u001b[0mcode\u001b[0m\u001b[0;34m=\u001b[0m\u001b[0mcode\u001b[0m\u001b[0;34m)\u001b[0m\u001b[0;34m\u001b[0m\u001b[0m\n\u001b[0m\u001b[1;32m     49\u001b[0m \u001b[0;34m\u001b[0m\u001b[0m\n\u001b[1;32m     50\u001b[0m     \u001b[0;32mdef\u001b[0m \u001b[0mexchange_user_id_for_access_token\u001b[0m\u001b[0;34m(\u001b[0m\u001b[0mself\u001b[0m\u001b[0;34m,\u001b[0m \u001b[0muser_id\u001b[0m\u001b[0;34m)\u001b[0m\u001b[0;34m:\u001b[0m\u001b[0;34m\u001b[0m\u001b[0m\n",
      "\u001b[0;32m~/anaconda3/lib/python3.6/site-packages/instagram/oauth2.py\u001b[0m in \u001b[0;36mexchange_for_access_token\u001b[0;34m(self, code, username, password, scope, user_id)\u001b[0m\n\u001b[1;32m    113\u001b[0m         \u001b[0mparsed_content\u001b[0m \u001b[0;34m=\u001b[0m \u001b[0msimplejson\u001b[0m\u001b[0;34m.\u001b[0m\u001b[0mloads\u001b[0m\u001b[0;34m(\u001b[0m\u001b[0mcontent\u001b[0m\u001b[0;34m.\u001b[0m\u001b[0mdecode\u001b[0m\u001b[0;34m(\u001b[0m\u001b[0;34m)\u001b[0m\u001b[0;34m)\u001b[0m\u001b[0;34m\u001b[0m\u001b[0m\n\u001b[1;32m    114\u001b[0m         \u001b[0;32mif\u001b[0m \u001b[0mint\u001b[0m\u001b[0;34m(\u001b[0m\u001b[0mresponse\u001b[0m\u001b[0;34m[\u001b[0m\u001b[0;34m'status'\u001b[0m\u001b[0;34m]\u001b[0m\u001b[0;34m)\u001b[0m \u001b[0;34m!=\u001b[0m \u001b[0;36m200\u001b[0m\u001b[0;34m:\u001b[0m\u001b[0;34m\u001b[0m\u001b[0m\n\u001b[0;32m--> 115\u001b[0;31m             \u001b[0;32mraise\u001b[0m \u001b[0mOAuth2AuthExchangeError\u001b[0m\u001b[0;34m(\u001b[0m\u001b[0mparsed_content\u001b[0m\u001b[0;34m.\u001b[0m\u001b[0mget\u001b[0m\u001b[0;34m(\u001b[0m\u001b[0;34m\"error_message\"\u001b[0m\u001b[0;34m,\u001b[0m \u001b[0;34m\"\"\u001b[0m\u001b[0;34m)\u001b[0m\u001b[0;34m)\u001b[0m\u001b[0;34m\u001b[0m\u001b[0m\n\u001b[0m\u001b[1;32m    116\u001b[0m         \u001b[0;32mreturn\u001b[0m \u001b[0mparsed_content\u001b[0m\u001b[0;34m[\u001b[0m\u001b[0;34m'access_token'\u001b[0m\u001b[0;34m]\u001b[0m\u001b[0;34m,\u001b[0m \u001b[0mparsed_content\u001b[0m\u001b[0;34m[\u001b[0m\u001b[0;34m'user'\u001b[0m\u001b[0;34m]\u001b[0m\u001b[0;34m\u001b[0m\u001b[0m\n\u001b[1;32m    117\u001b[0m \u001b[0;34m\u001b[0m\u001b[0m\n",
      "\u001b[0;31mOAuth2AuthExchangeError\u001b[0m: You must provide a client_id"
     ]
    }
   ],
   "source": [
    "# %load get_access_token.py\n",
    "from instagram.client import InstagramAPI\n",
    "import sys\n",
    "\n",
    "if len(sys.argv) > 1 and sys.argv[1] == 'local':\n",
    "    try:\n",
    "        from test_settings import *\n",
    "\n",
    "        InstagramAPI.host = test_host\n",
    "        InstagramAPI.base_path = test_base_path\n",
    "        InstagramAPI.access_token_field = \"access_token\"\n",
    "        InstagramAPI.authorize_url = test_authorize_url\n",
    "        InstagramAPI.access_token_url = test_access_token_url\n",
    "        InstagramAPI.protocol = test_protocol\n",
    "    except Exception:\n",
    "        pass\n",
    "\n",
    "# Fix Python 2.x.\n",
    "try:\n",
    "    import __builtin__\n",
    "    input = getattr(__builtin__, 'raw_input')\n",
    "except (ImportError, AttributeError):\n",
    "    pass\n",
    "\n",
    "client_id = input(\"Client ID: \").strip()\n",
    "client_secret = input(\"Client Secret: \").strip()\n",
    "redirect_uri = input(\"Redirect URI: \").strip()\n",
    "raw_scope = input(\"Requested scope (separated by spaces, blank for just basic read): \").strip()\n",
    "scope = raw_scope.split(' ')\n",
    "# For basic, API seems to need to be set explicitly\n",
    "if not scope or scope == [\"\"]:\n",
    "    scope = [\"basic\"]\n",
    "\n",
    "api = InstagramAPI(client_id=client_id, client_secret=client_secret, redirect_uri=redirect_uri)\n",
    "redirect_uri = api.get_authorize_login_url(scope = scope)\n",
    "\n",
    "print (\"Visit this page and authorize access in your browser: \"+ redirect_uri)\n",
    "\n",
    "code = input(\"Paste in code in query string after redirect: \").strip()\n",
    "\n",
    "access_token = api.exchange_code_for_access_token(code)\n",
    "print (\"access token: \" )\n",
    "print (access_token)"
   ]
  },
  {
   "cell_type": "code",
   "execution_count": null,
   "metadata": {},
   "outputs": [],
   "source": [
    "# client_id = a77706e323a7486083cfe1d7cd9e1a42\n",
    "# client_secret = 00432157818642949f978b7996a692cf"
   ]
  },
  {
   "cell_type": "markdown",
   "metadata": {},
   "source": [
    "# Imports"
   ]
  },
  {
   "cell_type": "code",
   "execution_count": null,
   "metadata": {},
   "outputs": [],
   "source": [
    "from instagram.client import InstagramAPI\n",
    "import httplib2\n",
    "import json\n",
    "import sys"
   ]
  },
  {
   "cell_type": "markdown",
   "metadata": {},
   "source": [
    "# Authentication"
   ]
  },
  {
   "cell_type": "code",
   "execution_count": null,
   "metadata": {},
   "outputs": [],
   "source": [
    "access_token = \"a77706e323a7486083cfe1d7cd9e1a42\"\n",
    "client_secret = \"00432157818642949f978b7996a692cf\"\n",
    "api = InstagramAPI(access_token=access_token, client_secret=client_secret)\n",
    "recent_media, next_ = api.user_recent_media(user_id=\"userid\", count=10)\n",
    "for media in recent_media:\n",
    "    print(media.caption.text)"
   ]
  },
  {
   "cell_type": "code",
   "execution_count": null,
   "metadata": {},
   "outputs": [],
   "source": []
  }
 ],
 "metadata": {
  "kernelspec": {
   "display_name": "Python 3",
   "language": "python",
   "name": "python3"
  },
  "language_info": {
   "codemirror_mode": {
    "name": "ipython",
    "version": 3
   },
   "file_extension": ".py",
   "mimetype": "text/x-python",
   "name": "python",
   "nbconvert_exporter": "python",
   "pygments_lexer": "ipython3",
   "version": "3.6.5"
  },
  "toc": {
   "base_numbering": 1,
   "nav_menu": {},
   "number_sections": true,
   "sideBar": true,
   "skip_h1_title": false,
   "title_cell": "Table of Contents",
   "title_sidebar": "Contents",
   "toc_cell": false,
   "toc_position": {},
   "toc_section_display": true,
   "toc_window_display": false
  }
 },
 "nbformat": 4,
 "nbformat_minor": 2
}
