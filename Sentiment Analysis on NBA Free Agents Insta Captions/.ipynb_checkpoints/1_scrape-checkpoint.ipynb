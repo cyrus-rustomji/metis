{
 "cells": [
  {
   "cell_type": "markdown",
   "metadata": {
    "heading_collapsed": true
   },
   "source": [
    "# Imports"
   ]
  },
  {
   "cell_type": "code",
   "execution_count": 22,
   "metadata": {
    "hidden": true
   },
   "outputs": [],
   "source": [
    "# pip install selenium \n",
    "# download chromedriver: https://sites.google.com/a/chromium.org/chromedriver/downloads      \n",
    "\n",
    "from selenium import webdriver\n",
    "from selenium.webdriver.common.keys import Keys\n",
    "from bs4 import BeautifulSoup\n",
    "import pickle\n",
    "import time\n",
    "import os\n",
    "import requests\n",
    "import re\n",
    "import pandas as pd\n",
    "import csv\n",
    "import pandas as pd\n",
    "import emoji"
   ]
  },
  {
   "cell_type": "markdown",
   "metadata": {},
   "source": [
    "# Data Cleaning"
   ]
  },
  {
   "cell_type": "code",
   "execution_count": 2,
   "metadata": {},
   "outputs": [
    {
     "data": {
      "text/plain": [
       "['kingjames',\n",
       " 'kevindurant',\n",
       " 'cp3',\n",
       " 'ygtrece',\n",
       " 'boogiecousins',\n",
       " 'ccapela15',\n",
       " 'deandre',\n",
       " 'original00g',\n",
       " 'juliusrandle30',\n",
       " 'jabariparker',\n",
       " 'isaiahthomas',\n",
       " 'rekehavoc1',\n",
       " 'zachlavine8',\n",
       " 'carmeloantony',\n",
       " '_dfavors15',\n",
       " 'trevor1ariza',\n",
       " 'eneskanter11',\n",
       " 'willthethrillb5',\n",
       " 'bosnianbeast27',\n",
       " 'dwyanewade',\n",
       " 'younggamechanger',\n",
       " 'brookiethewookie11',\n",
       " 'hoodie5',\n",
       " 'swish41',\n",
       " 'caldwellpope',\n",
       " 'rajonrondo',\n",
       " 'teamslowmo',\n",
       " 'austinjrivers',\n",
       " 'wayne_elli',\n",
       " 'moosemonroe15',\n",
       " 'fredvanvleet',\n",
       " 'lucmbahmoute',\n",
       " 'michael8easley',\n",
       " 'rudygay',\n",
       " 'illwil21',\n",
       " 'ersanilyasova7',\n",
       " 'jlin7',\n",
       " 'milosteodosic4',\n",
       " 'shabazznap13r',\n",
       " 'mbeli21',\n",
       " '_tonyparker09',\n",
       " 'joeharris_12',\n",
       " 'kyle.oquinn',\n",
       " 'daanteee',\n",
       " 'stephensonlance',\n",
       " 'nerlensnoel3',\n",
       " 'd_dedmon3',\n",
       " '35_fitz',\n",
       " 'unclejeffgreen',\n",
       " 'iamamirjohnson',\n",
       " 'eddavisxvii',\n",
       " 'greenranger14',\n",
       " 'supermariohezonja',\n",
       " 'nemanjabjelica8',\n",
       " 'zazapachulia',\n",
       " 'joejohnson247',\n",
       " 'yogiferre11',\n",
       " 'sdotcurry',\n",
       " 'bkw34',\n",
       " 'dougmcd03']"
      ]
     },
     "execution_count": 2,
     "metadata": {},
     "output_type": "execute_result"
    }
   ],
   "source": [
    "# put insta handles of free agent ballers into a list\n",
    "columns = ['insta_handles']\n",
    "data = pd.read_csv('/Users/cyrusrustomji/Documents/metis/personal_metis/passion_projects/bball_4/Data/insta_handles.csv',names=columns)\n",
    "insta = data.insta_handles.tolist()\n",
    "insta"
   ]
  },
  {
   "cell_type": "code",
   "execution_count": 3,
   "metadata": {},
   "outputs": [
    {
     "data": {
      "text/plain": [
       "['Lebron James',\n",
       " 'Kevin Durant',\n",
       " 'Chris Paul',\n",
       " 'Paul George',\n",
       " 'Demarcus Cousins',\n",
       " 'Clint Capela',\n",
       " 'Deandre Jordan',\n",
       " 'Aaron Gordon',\n",
       " 'Julius Randle',\n",
       " 'Jabari Parker',\n",
       " 'Isaiah Thomas',\n",
       " 'Tyreke Evans',\n",
       " 'Zach Lavine',\n",
       " 'Carmelo Anthony',\n",
       " 'Derrick Favors',\n",
       " 'Trevor Ariza',\n",
       " 'Enes Kanter',\n",
       " 'Will Barton',\n",
       " 'Jusuf Nurkic',\n",
       " 'Dwyane Wade',\n",
       " 'Marcus Smart',\n",
       " 'Brook Lopez',\n",
       " 'Rodney Hood',\n",
       " 'Dirk Nowitzki',\n",
       " 'Kentavious Caldwell-Pope',\n",
       " 'Rajon Rondo',\n",
       " 'Kyle Anderson',\n",
       " 'Austin Rivers',\n",
       " 'Wayne Ellington',\n",
       " 'Greg Monroe',\n",
       " 'Fred Van Vleet',\n",
       " 'Luc Mbah A Moute',\n",
       " 'Michael Beasley',\n",
       " 'Rudy Gay',\n",
       " 'Wilson Chandler',\n",
       " 'Ersan Ilyasova',\n",
       " 'Jeremy Lin',\n",
       " 'Milos Teodosic',\n",
       " 'Shabazz Napier',\n",
       " 'Marco Bellinelli',\n",
       " 'Tony Parker',\n",
       " 'Joe Harris',\n",
       " \"Kyle O'Quinn\",\n",
       " 'Dante Exum',\n",
       " 'Lance Stephenson',\n",
       " 'Nerlens Noel',\n",
       " 'Dewayne Dedmon',\n",
       " 'Trevor Booker',\n",
       " 'Jeff Green',\n",
       " 'Amir Johnson',\n",
       " 'Ed Davis',\n",
       " 'Danny Green',\n",
       " 'Mario Hezonja',\n",
       " 'Nemanja Bjelica',\n",
       " 'Zaza Pachulia',\n",
       " 'Joe Johnson',\n",
       " 'Yogi Ferrell',\n",
       " 'Seth Curry',\n",
       " 'Brandan Wright',\n",
       " 'Doug McDermott']"
      ]
     },
     "execution_count": 3,
     "metadata": {},
     "output_type": "execute_result"
    }
   ],
   "source": [
    "# put insta handles of free agent ballers into a list\n",
    "columns3 = ['players_names']\n",
    "data3 = pd.read_csv('/Users/cyrusrustomji/Documents/metis/personal_metis/passion_projects/bball_4/Data/players_names.csv',names=columns3)\n",
    "players2 = data3.players_names.tolist()\n",
    "players2"
   ]
  },
  {
   "cell_type": "code",
   "execution_count": 4,
   "metadata": {},
   "outputs": [
    {
     "data": {
      "text/plain": [
       "['Lebron James',\n",
       " 'Kevin Durant',\n",
       " 'Chris Paul',\n",
       " 'Paul George',\n",
       " 'Demarcus Cousins',\n",
       " 'Clint Capela',\n",
       " 'Deandre Jordan',\n",
       " 'Aaron Gordon',\n",
       " 'Julius Randle',\n",
       " 'Jabari Parker',\n",
       " 'Isaiah Thomas',\n",
       " 'Tyreke Evans',\n",
       " 'Zach Lavine',\n",
       " 'Carmelo Anthony',\n",
       " 'Derrick Favors',\n",
       " 'Trevor Ariza',\n",
       " 'Enes Kanter',\n",
       " 'Will Barton',\n",
       " 'Jusuf Nurkic',\n",
       " 'Dwyane Wade',\n",
       " 'Marcus Smart',\n",
       " 'Brook Lopez',\n",
       " 'Rodney Hood',\n",
       " 'Dirk Nowitzki',\n",
       " 'Kentavious Caldwell-Pope',\n",
       " 'Rajon Rondo',\n",
       " 'Kyle Anderson',\n",
       " 'Austin Rivers',\n",
       " 'Wayne Ellington',\n",
       " 'Greg Monroe',\n",
       " 'Fred Van Vleet',\n",
       " 'Luc Mbah A Moute',\n",
       " 'Michael Beasley',\n",
       " 'Rudy Gay',\n",
       " 'Wilson Chandler',\n",
       " 'Ersan Ilyasova',\n",
       " 'Jeremy Lin',\n",
       " 'Milos Teodosic',\n",
       " 'Shabazz Napier',\n",
       " 'Marco Bellinelli',\n",
       " 'Tony Parker',\n",
       " 'Joe Harris',\n",
       " \"Kyle O'Quinn\",\n",
       " 'Dante Exum',\n",
       " 'Lance Stephenson',\n",
       " 'Nerlens Noel',\n",
       " 'Dewayne Dedmon',\n",
       " 'Trevor Booker',\n",
       " 'Jeff Green',\n",
       " 'Amir Johnson',\n",
       " 'Ed Davis',\n",
       " 'Danny Green',\n",
       " 'Mario Hezonja',\n",
       " 'Nemanja Bjelica',\n",
       " 'Zaza Pachulia',\n",
       " 'Joe Johnson',\n",
       " 'Yogi Ferrell',\n",
       " 'Seth Curry',\n",
       " 'Brandan Wright',\n",
       " 'Doug McDermott']"
      ]
     },
     "execution_count": 4,
     "metadata": {},
     "output_type": "execute_result"
    }
   ],
   "source": [
    "# put insta handles of free agent ballers into a list\n",
    "columns2 = ['players_names']\n",
    "data2 = pd.read_csv('/Users/cyrusrustomji/Documents/metis/personal_metis/passion_projects/bball_4/Data/players_names.csv',names=columns2)\n",
    "players = data2.players_names.tolist()\n",
    "players"
   ]
  },
  {
   "cell_type": "code",
   "execution_count": 5,
   "metadata": {},
   "outputs": [
    {
     "name": "stdout",
     "output_type": "stream",
     "text": [
      "['https://www.instagram.com/kingjames/', 'https://www.instagram.com/kevindurant/', 'https://www.instagram.com/cp3/', 'https://www.instagram.com/ygtrece/', 'https://www.instagram.com/boogiecousins/', 'https://www.instagram.com/ccapela15/', 'https://www.instagram.com/deandre/', 'https://www.instagram.com/original00g/', 'https://www.instagram.com/juliusrandle30/', 'https://www.instagram.com/jabariparker/', 'https://www.instagram.com/isaiahthomas/', 'https://www.instagram.com/rekehavoc1/', 'https://www.instagram.com/zachlavine8/', 'https://www.instagram.com/carmeloantony/', 'https://www.instagram.com/_dfavors15/', 'https://www.instagram.com/trevor1ariza/', 'https://www.instagram.com/eneskanter11/', 'https://www.instagram.com/willthethrillb5/', 'https://www.instagram.com/bosnianbeast27/', 'https://www.instagram.com/dwyanewade/', 'https://www.instagram.com/younggamechanger/', 'https://www.instagram.com/brookiethewookie11/', 'https://www.instagram.com/hoodie5/', 'https://www.instagram.com/swish41/', 'https://www.instagram.com/caldwellpope/', 'https://www.instagram.com/rajonrondo/', 'https://www.instagram.com/teamslowmo/', 'https://www.instagram.com/austinjrivers/', 'https://www.instagram.com/wayne_elli/', 'https://www.instagram.com/moosemonroe15/', 'https://www.instagram.com/fredvanvleet/', 'https://www.instagram.com/lucmbahmoute/', 'https://www.instagram.com/michael8easley/', 'https://www.instagram.com/rudygay/', 'https://www.instagram.com/illwil21/', 'https://www.instagram.com/ersanilyasova7/', 'https://www.instagram.com/jlin7/', 'https://www.instagram.com/milosteodosic4/', 'https://www.instagram.com/shabazznap13r/', 'https://www.instagram.com/mbeli21/', 'https://www.instagram.com/_tonyparker09/', 'https://www.instagram.com/joeharris_12/', 'https://www.instagram.com/kyle.oquinn/', 'https://www.instagram.com/daanteee/', 'https://www.instagram.com/stephensonlance/', 'https://www.instagram.com/nerlensnoel3/', 'https://www.instagram.com/d_dedmon3/', 'https://www.instagram.com/35_fitz/', 'https://www.instagram.com/unclejeffgreen/', 'https://www.instagram.com/iamamirjohnson/', 'https://www.instagram.com/eddavisxvii/', 'https://www.instagram.com/greenranger14/', 'https://www.instagram.com/supermariohezonja/', 'https://www.instagram.com/nemanjabjelica8/', 'https://www.instagram.com/zazapachulia/', 'https://www.instagram.com/joejohnson247/', 'https://www.instagram.com/yogiferre11/', 'https://www.instagram.com/sdotcurry/', 'https://www.instagram.com/bkw34/', 'https://www.instagram.com/dougmcd03/']\n"
     ]
    }
   ],
   "source": [
    "# put instagram links of ballers into a list\n",
    "\n",
    "site = \"https://www.instagram.com/\"\n",
    "new_site = []\n",
    "for i in insta:\n",
    "    new_site.append(site + i + '/')\n",
    "print(new_site)"
   ]
  },
  {
   "cell_type": "code",
   "execution_count": 6,
   "metadata": {},
   "outputs": [],
   "source": [
    "chromedriver = \"/Users/cyrusrustomji/Downloads/chromedriver-2\" # path to the chromedriver executable\n",
    "os.environ[\"webdriver.chrome.driver\"] = chromedriver\n",
    "driver = webdriver.Chrome(chromedriver)"
   ]
  },
  {
   "cell_type": "raw",
   "metadata": {},
   "source": [
    "d = {}\n",
    "p = 0\n",
    "captions = []\n",
    "for i in new_site:\n",
    "    driver.get(i)\n",
    "    innerHTML = driver.execute_script(\"return document.body.innerHTML\")\n",
    "    soup = BeautifulSoup(innerHTML,\"lxml\")\n",
    "#     lenOfPage = driver.execute_script(\"window.scrollTo(0, document.body.scrollHeight);var lenOfPage=document.body.scrollHeight;return lenOfPage;\")\n",
    "#     match = False\n",
    "#     while(match==False):\n",
    "#         lastCount = lenOfPage\n",
    "#         time.sleep(3)\n",
    "#         lenOfPage = driver.execute_script(\"window.scrollTo(0, document.body.scrollHeight);var lenOfPage=document.body.scrollHeight;return lenOfPage;\")\n",
    "#         if lastCount==lenOfPage:\n",
    "#             match=True\n",
    "    # finds all '_2di5p' classes\n",
    "    followers = soup.find_all('img', {'class':'_2di5p'})\n",
    "    n = 0\n",
    "    # loops through 'alt' from all 'img' in the class '_2di5p'\n",
    "    for j in followers:\n",
    "        b = j.get('alt','')\n",
    "        # appends all items in 'alt' to a list called 'captions'\n",
    "        captions.append(b)\n",
    "    # loops through players\n",
    "    for k in players:\n",
    "        d[k] = captions\n",
    "        if k == k[n]:\n",
    "            break\n",
    "    n += 1\n",
    "\n",
    "#     d['LeBron James'] = bron\n",
    "\n",
    "#     time.sleep(3)\n",
    "print(d)\n",
    "    # driver.get(\"https://www.instagram.com/kingjames/\")\n",
    "\n",
    "# Alternatives to Chrome: Firefox, phantomjs"
   ]
  },
  {
   "cell_type": "raw",
   "metadata": {},
   "source": [
    "print(captions)"
   ]
  },
  {
   "cell_type": "raw",
   "metadata": {},
   "source": [
    "pd.DataFrame.from_dict(d)"
   ]
  },
  {
   "cell_type": "code",
   "execution_count": 17,
   "metadata": {},
   "outputs": [
    {
     "name": "stdout",
     "output_type": "stream",
     "text": [
      "{'https://www.instagram.com/kingjames/': ['“Life’s most persistent and urgent question is, ‘What are you doing for others?’” – MLK 🤝 IG Stories will be used on this page as a platform for people bringing light to this world. #AlwaysBelieve', 'Zero Dark Thirty-23 Mode is about to commence. I’m going dark so others can be the light. Watch this space. Peace.\\n#AlwaysBelieve ✊🏾👑', 'My Princess Z👸🏽 wasn’t messing around about getting outside today! Told her she better get as much as she can cause it maybe 20 below 0 tomorrow! 🤣😞🤦🏾\\u200d♂️!!! #DaddysLilAngel👼🏽 #IAintRockingwitThatFaceThoughSheMadeThough. 🤣🤣🤣🤣🤣🤣🤣🤣🤣', 'Before I go dark tomorrow night I wanted to leave you with some more #LEBRONWATCH Fire 🔥🔥🔥🔥🔥🔥\\nThis was one of my favorite colorways from this season so wanted to make sure you guys have a chance to get them. Stay tuned- Summer’18 #LetsGo #striveforgreatness🚀 #thekidfromakron🤴🏾 #jamesgang👑 #rwtw🏅', 'Well they say it’s a first time for everything huh?!?! Guess so in this case. 82/82 in my 15th season. Just wanna be available to my teammates as much as I can throughout a long season as well as keep my mind and body as fresh as it can be too! #SFG🚀 #RWTW🏅 #JamesGang👑  #ThekidfromAKRON🤴🏾', 'Reds!! 🔴🔴🔴 Get that semi-final W!! @liverpoolfc 🏆 #SFG🚀 #LFC⚽', 'Up up and away!!! Let’s continue to travel to parts unknown. #Season15 #SFG🚀 #JamesGang👑', 'Walk with me! We’re all Kings and Queens!!!! 🤴🏾👸🏾. “I’m King” #StriveforGreatness🚀 #RWTW🏅', 'KING JAMES X FRESH PRINCE 👑 👑 #FamilyTies #Klutch #RWTW', 'Another 1 in my @djkhaled voice! 🤦🏾\\u200d♂️🤷🏾\\u200d♂️. They did get that W over us though. #Season15 #striveforgreatness🚀 #jamesgang👑 #thekidfromakron🤴🏾', 'Last night I had no choice but to go back to where it all started for me in 2003 with the Air Zoom Generation #LeBronWatch. Felt like I was actually back in the original while on the floor. Crazy! #striveforgreatness🚀 #jamesgang👑 #thekidfromakron🤴🏾 #rwtw🏅 #fabfive✊🏾', '🤣🤣Wit my heavy hitta aka The Queen 👸🏽 post game last night! We ride and die together #JamesGang👑'], 'https://www.instagram.com/kevindurant/': ['Thanks for having us at #BrainstormHealth @ariannahuff @fortunemag @richkleiman', 'Happy steph year, 30 clip', 'That’s how it’s done! 🙏🏾🙏🏾', 'Was an honor to be a judge at the @bgcp Youth of the Year awards this week. Congrats to Alysia! #TeamBGCP', 'The Durant Company has invested in @Overtime, gonna do more videos soon with them for you guys on my YouTube channel...stay tuned', 'Solid D. Better O. \\nAs a 19 year old rook Kobe inspired me. I Still feel the same 10 years later. Love to 24 and 8, nobody like him!! #mambaout.......', '8 v 24', 'BTS this week with @AlaskaAir. Got some good things coming...video up soon', 'Don’t sleep on the Parking Lot Chronicles! New episode up on my Youtube channel now @javalemcgee @richkleiman #thirtyfivemedia', 'When Klay gets Scorching....... #dubs', '🌀', 'Lets keep it going my Gs'], 'https://www.instagram.com/cp3/': [\"Prayers to the kids and families affected by today's tragedy. We need to do better by our children. #BiggerThanBasketball\", 'Stay The Course #RedNation 🤘🏾', 'Last night’s rotation 👀🔥', 'The power of focus and persistence is real!! Congrats Andre Ingram on your NBA debut. Well deserved!', 'National Sibling Day!', 'Masters Champ!!! Congrats @preedgolf!', 'Roadtrip ready. Thank you @hookandalbert 🙏🏾', 'Family Business', \"Back like we’re in '07🤘🏾\", 'My dream is that all kids have access to the same resources and grow up in a world full of opportunities. #DreamStillLives #MLK50', 'Not a bad way for me and my guy to do our first Final Four together!! Big Thank You to the Brunson family and way to hoop @jalenbrunson1 ✊🏾#FinalFour #MarchMadness', '#ad In partnership with @nbacares and @statefarm, we opened the new library at C.E. King Middle school, providing hundreds of students with the resources they need to succeed. Find out how you can make a difference at NeighborhoodOfGood.com (link in bio) #HereToHelp #HoustonStrong'], 'https://www.instagram.com/ygtrece/': ['Happy Mother’s Day my love ❤️😘🤗 thank you for all that you do for our kids and I. So thankful for the beautiful family we have.. I love you ❤️😘', 'Happy Mother’s Day to my amazing mother! Your strength as a woman has always pushed me to be a better MAN. I love you mom 🤗😘😍 #HerBabyBoy #MyTwin', 'Happy bday to my amazing princess Pooka butt.. I love being your father lil lady! #Big4 ❤️❤️', '“Strength and growth come only through continuous effort and struggle” #ThunderUp #LetsRally', 'Locked in! #PlayoffP', 'When she fishes too 😍❤️🙌🏾', '4.13.18 Happy Mamba Day @kobebryant 🐍', 'Great night to fish Oklahoma', 'Me and my Fortnite coach lol ❤️', 'Like the Brodie would say #WhyNot 🤷🏾\\u200d♂️', 'Plug walk ⚡️', 'Happy Easter 🐥🐥❤️'], 'https://www.instagram.com/boogiecousins/': ['TMC “ Quote me on this I got a lot more to prove “\\n\\n#TheResurgence \\n#0Doubt', '“ playing chess and the bishop on the muscle “\\n\\n#TheResurgence #0Doubt', '“ it’s complimentary to the savages “...', '', '', '“ I serve and I Hussle under any condition “\\n#TheResurgence #0Doubt', '', '32 YEAR OLD DOMINIQUE WILKINS INJURES ACHILLES IN 1992 / COMES BACK NEXT YEAR TO AVERAGE 30 PPG\\n\\n#TheResurgence #0Doubt #1992', 'Zero Doubt shirts now avail #TheResurgence #0DOUBT (LINK IN BIO) @demarcuscousinsdotcom', 'As a kid I turned my pain into aggression... #TheResurgence  #0Doubt', '“ Better a diamond with a flaw than a pebble without “\\n\\n#TheResurgence  #0Doubt', 'Can’t wait for my next crawfish boil! I can practically smell the @Zatarains. #zerodoubt #TheResurgence #ad'], 'https://www.instagram.com/ccapela15/': ['Tout est plus grand au Texas, especially the playoffs. H-TOWN STAND UP! The @HoustonRockets are READY! (With @playerstribune and @reliantenergy) Full piece at http://playerstribu.ne/ClintCapela', 'Game 78 and still soaring #TunnelVision 🤘🏾', 'T-78 days till the @fifaworldcup ⚽️ @paniniamerica #ThoseThatKnowKnow #LesVraisSavent #TraditionSince2002', 'No letting up now. This is DEDICATION. #ClutchCity 🔒🚀', 'Never forget and never settle! Go gold for the Astros today at your local Houston-area @Academy stores. #AcademyGoesGold #ad', 'Want something? Go get it.  #Houston 🚀🚀', 'Had a great time shooting with @att, check it out (Swipe for more)  #MakeSoccerShoesForTallPeople 😁', 'BE SOMEONE #HoustonKnows 🤘🏾', '“You are a good man, with a good heart. And it’s hard for a good man to be a king.” #WakandaForever #GameDayKicks #JustALittlePreview | 🎨 : @sierato', 'Hot Topic like your everyday clothes| 14🚀🚀', '“Ryan, you sure you want to take off from there?! “ 😮🤔🤷🏽\\u200d♂️ #MOOD #13 #RunAsOne 🚀🚀', '🚀🚀🚀🚀🚀🚀'], 'https://www.instagram.com/deandre/': ['Had a great time at the launch of #BlackOps4. Check it out! #CallofDutyPartner', 'My serious face is excited for everyone to play the gnarly new Call of Duty!!! #BlackOps4 #CallOfDutyPartner', 'Love you Avery! Caption this...', 'Love you Brett! Caption this...', 'Love you Cory! Caption this...', '', 'i’m wired up...hol’ up!!!', 'great seeing my brother the legend last night! oh and thanks for the cookies jess!', 'far out.', '', '@BlackPanther with some moves in this one. And don’t worry, Kenny Mayne got me to the game on time #AD', 'Extremely saddened by this news we all got today! Rasual was an amazing teammate, friend, husband, and father...thank you for always looking out for me and being a true brother on and off the court. Rest In Peace to Rasual and Leah.'], 'https://www.instagram.com/original00g/': ['@kyrieirving big time shoe, homie! Congrats and it’s well deserved. \\n@uncledrewfilm @wheatiescereal @nike the collaboration is great', 'All in a days work! You see it here first. Sink my roots in the dirt and watch me emerge \\n#AlwaysGrowing \\n@ayotheproducer @itskeyzbaby for the beat 🙏\\n@ty_jackson94 📸', '3 feet 6 inch vert out of a pool Straight into a J. If the sound was on you heard me say bank! #firsttake #banksopen', 'My day 1s! Love these dudes', 'All smiles mama!! I Love you. happy Mothers Day.', 'Livin day to day\\n@ty_jackson94 photo cred📸', 'Aaron Addison', 'Namaste ready for anything 🙏\\n#hotyoga', 'Let’s skate!!\\nAlways been a fan of teal @sanjosesharks thanks for the hospitality!!!\\n#408 #sharktank', 'Thank you @elonmusk \\nI know my mama is gunna love it\\n#backinthebay', '', 'I’ve been balling since a young age! Win or lose I give my heart to this game.\\nYear four in the NBA done but\\nI’m hungry as ever!!! @samlimon_ good looking on the mix bro'], 'https://www.instagram.com/juliusrandle30/': ['Work @amoila_cesar 🎥 🎥 🎥: @jonathan.j.lim', '', 'Bruh at the park looking at shawty like 😋😂', 'Everyday we wake up to the happiest kid in the world and that’s bc of his loving and caring mom. Keeping everything in line and making sure we are the happy at the same time. We take you for granted. Idk how you do it but you are the definition of SUPERWOMAN. Happy Mother’s Day and we love you baby girl', 'There through it all. None of this is possible without you. Kyden has a perfect nana. Love you mom. Happy Mother’s Day!', '', 'Some work with my brother @tylerrelph10 🏁🏁🏁🏁', 'Congrats to The Troutt family and Winstar Farms on winning the @kentuckyderby Well deserved! Happy for you guys.', 'Who I do it for🙏', 'To the city and All Laker fans thanks for another great year!! Your support kept me going every night', 'Tbt New York🗽', 'BIG INGRAM! Living example of perseverance and dedication! Well deserved my guy!'], 'https://www.instagram.com/jabariparker/': ['', 'Brothers.', \"Just because I don't come here often...\", '“Stay humble.” Being patient. Being gracious. Thank you God.', 'You know I had to show love @rapsody. My favorite rapper. #jamla', \"“Picket lines and picket signs, Don't punish me with brutality, C'mon talk to me, So you can see, What's going on.”\\n-HAPPY HALLOWEEN ‘17 #blackpantherparty’66\", 'Blessed to have @joeysredhots provide food for the kids at my camp this past Thursday and Friday in Chi-town. I can testify that when we decided to do things through pure service, the Lord will find a way to provide. Big thank you!', 'Big thank you to @bucks partner @cousinssubs for supporting my camps these past two days in Milwaukee!! #TeamCousins ..... off to Chi-town for my second one. Stay tuned.', 'Happy to always be by your side Dad. Still LilSonny no matter what. Thank you @champssports and @jumpman23 for honoring him. #RE2PECT.', '#QUAI54', 'The young Paris.... Rocking \\'Jaures\\' for  @jordanbastille with @louisecarrasco. \"It\\'s a great city, Paris, a beautiful city -and- it was very good for me.\" -James Baldwin', \"Without basketball, I wouldn't of been able to see half the places I've been to. Also very fortunate to see some future int'l hoopers this morning in Paris. I'm blessed with the small amount of influence I have to still impact lives. Excited to see more of the city and check out #Quai54 this weekend.\"], 'https://www.instagram.com/isaiahthomas/': ['#TBT Back 2 Back Covers @uw_mbb', '#Tacoma 🏁', 'Thanks for a dope night @thewebbyawards & for recognizing Book of Isaiah II with @playerstribune & @slowgrindmedia. The Slow Grind Never Stops!', '“My Man” #TheEqualizer2 #CommercialShoot', 'Happy Birthday Chyna, We love and miss you so much! ❤️🙏🏾❤️🙏🏾 5/2/94 #53piece', 'Happy Birthday to my beautiful Mom @teti46! Enjoy today, you deserve everything and more! Thank you for everything, love you momma!', 'One of the few guys I’m waaaaaaay taller than lol @kevinhart4real. Appreciate the love & Thanks for having me on your show “Cold As Balls” I had a blast fam. Keep inspiring the world bro! @obb @ratty', 'Damn!!!! 1 yr ago today I got the worse news I could ever imagine. I love and miss you so much Chyna!', 'Keep pushing, Keep fighting and believe. The Marathon Continues. Link in my bio for full episode. #ThatSLOWGrind #BookOfIsaiah2\\n@PlayersTribune @TeeJayRegan\\n🎵: @NipseyHussle (Sinister Pook)', 'Heading into the offseason ready to come back better than ever. Minor set back for a MAJOR comeback #ThatSLOWgrind. Link in bio for the full episode. #BookofIsaiah2 @teejayregan @playerstribune @slowgrindmedia\\n🎵: @mrjacobbanks', '#TBT Now this is not ok LOL. How big were my clothes tho?? Lol', 'Never let a hard time humble us 🏁 #ThatSLOWgrind'], 'https://www.instagram.com/rekehavoc1/': ['Out of date', '🏊🏾\\u200d♂️💦', 'They said I lost it came back on ⛽️ lol', 'Can’t trick me out my spot #nonotnever', 'Her baby u like this outfit  Me I’m hungry lol', 'savage up', 'Drip or drown', '#allgasnobreaks⛽️⛽️⛽️🏁🏁🏁', '🏊🏾\\u200d♂️', 'Patiently waiting ..............', 'It’s a 🌊', 'Got to let them know here my vision clear'], 'https://www.instagram.com/zachlavine8/': ['All Work is....', 'Clocking in', '#threestripes', 'Love u Mom! Not just today but everyday is yours ❤️', 'Big Kids sometimes 😎', 'Late nights and early mornings WORK\\n\\n@samlimon_  @drewhanlen @puresweat', 'Game. Scent. Match. \\nWin an Official Game Ball signed by me and my exclusive cologne package. Just follow @zachlavine8 and @hawthorne and tag a friend in the comments for your chance to win. Winner will be selected this Friday @ 11:59pm PT', 'Happy birthday to my best friend, motivator, and of course Dad! Love you man💯', '#uptimeenergy 💯', 'At the home compound getting it in #BeGreat', 'Long day of work always got to end with some ones 😂😂 @s_wiggs2', '#BeGreat'], 'https://www.instagram.com/carmeloantony/': ['', '', '', '', '', ''], 'https://www.instagram.com/_dfavors15/': ['Congrats to my lil bro @b.favors2 on his graduation.. I’m proud of you and excited about your next chapter.. ❤️ @_kweenjo', '', '', '', '', '❤️', '', '', '', '', '', ''], 'https://www.instagram.com/trevor1ariza/': ['We got it!🚀🚀🚀', 'Game day! Let’s do it!🚀🚀🚀', '👀🚀', '@nike 1️⃣,2️⃣or3️⃣?', '❤️', 'Another W🚀'], 'https://www.instagram.com/eneskanter11/': ['\\u202aOne of the 2 coolest dudes around @direalshaggy @theofficialsting 💯\\u202c\\n\\u202a#KnicksFamily \\u202c', '👀 #WeAreLiverpool #UCLfinal', 'Batıla T A M A M - Hakka D E V A M \\nVar mı ulan bir problemi olan\\nBaşta ki Tiran etti ülkeyi talan\\nBütün İşi gücü yalan dolan \\nOna inanan hep uğramış ziyan\\nHizmet bitti diye anırır hayvan\\nKonuşma be yetti saçma sapan\\nSen bu saçmalıklarla oyalan\\nHayırdır zoruna mı gitti ulan\\nEn iyisi sen gel Hakka dayan\\nBu işin ahireti de var ha aman\\nNeyse pek güzel anladı anlayan\\n\\nYazan da ben Enes Kanter. O Kaddar... 💋', '\\u202aCool hanging out with @BonJovi \\u202c\\n\\u202aThis dude is awesome 💯 \\u202c', '🇺🇸❤️🇹🇷 #Senate 🙏', '\\u202aI’m with you brother @sterlingbrown23 \\u202a🙏 \\u202c\\n\\u202aIn case anyone forgot, this is why @Kaepernick7 was kneeling.\\u202c\\n\\u202a💯 \\u202c\\n\\u202a#StandWithSterling\\u202c\\n\\u202a#NBAFamily\\u202c\\n\\u202a#SterlingBrown\\u202c', 'Hizmetteki tüm abi,abla bütün kardeşlerimin ellerinden ayaklarından öperim. Hepinizi çok seviyorum. ❤️ Dua ile...\\n#MaklubeKral \\U0001f932 😄', \"\\u202a\\U0001f932❤️\\u202c\\n\\u202aThanks for all the birthday wishes. \\u202c\\n\\u202aHad another amazing year. I m so grateful for ALLAH (GOD)'s grace and all the blessing..!\\u202c\\n\\u202a🙏❤️\\u202c\", 'Crazy!! They brought back IT 😂👏🏽', '\\u202aShow me a better pic 🙏🏽\\u202c \\u202a#MalcolmX \\u202c', \"\\u202a“I’m for truth, no matter who tells it. I'm for justice, no matter who it's for or against.” \\u202c\\n\\u202aHappy Birthday #MalcolmX \\u202c\\n\\u202a✊✊🏻✊🏼✊🏽✊🏾✊🏿\\u202c \\u202aR.I.P\\u202c\", '❤️🇺🇸'], 'https://www.instagram.com/willthethrillb5/': ['going Viral for da Family #PTF', 'I don’t know her but this is tough! Female lead role on national television! BMORE stand up! @jesshilarious_official keep doing ya thing', 'Just trying make an impact', 'Right or Wrong you always there for me, Tone, & Rina. Our biggest support system & biggest fan. Never judging us, checking us when we need it, but always loving us unconditionally. The best mom ever. Thank you for everything KB i really appreciate you. I’ll always be their & do anything for you. I strive to be better because I want you to always be proud of me like you tell me everyday. Without you & GOD who knows what i would be. But I had a praying mother. I could go on & on about you but that would take forever & a day. I love you & happy Mother’s Day K Bizzle. The real protector, the first one! #PTF', 'Unexpected.....', \"I'll never give up on me I came out a murder zone\", 'I made it by not letting em tell me who i was but showing em who I am', 'I be so icy I might as well try hockey', 'Originals From Time #CA #PTF', 'My drip made me a legend', '200 on da dash for life now', 'Big guy.....Lil guy.....'], 'https://www.instagram.com/bosnianbeast27/': ['Nije nikome dat bolji dar od sabura. \\n#ellhamdulillah', 'Here we go ✊🏻#RipCityOnTheyAss #PlayoffsOnTheyAss', 'Keep working fellas ✊ \\n#HereWeGo #StillRipCityOnTheyAss', 'Honored to be able to give some #RipCity fans the VIP treatment at the Moda Center with a private meet-and-greet and shopping spree, thanks to @carmax.', '#HereWeGo #RipCity', 'To the next ☝🏻 #RipCity', '#RipCity', 'First thing accomplished. #ToTheNextOne #RipCityOnTheyAss', \"Ma nek', neka padaje cuskije \\nneka me sevdah opije \\ndzaba srce bez tebe ne umije #HadzijaDino #RipCity  #PDX\", 'Good game and win! #RipCityOnTheyAss', 'Tough loss fellas.. but all good going back home #RipCity', 'Good job fellas! To the next one... @moe_harkless get better brotha 🙏🏻 #HereWeGo \\n#RipCityOnTheyAss'], 'https://www.instagram.com/dwyanewade/': ['Join me this summer for my @celebritysportsacademy! Two days, one unforgettable experience! Open to boys & girls ages 7-18, featuring basketball & cheerleading.\\n🏀\\nMiami Dates: July 7 & 8\\nChicago Dates: August 4 & 5\\n🏀\\n#Chicago campers register by #MemorialDay to save big! 🏀\\nFor more information visit www.celebritysportsacademy.com', 'Fit on point ✅ Swag on infinity ✅ Co-pilot on Wookiee ✅\\xa0\\xa0Let’s roll. #ad', 'Thank you @bookingcom for helping me surprise @gabunion in France this weekend with this lovely stay! #BookingYeah #BookingPartner #wadeworldtour2018 🇫🇷', 'Swipe ➡️. It’s getting real in the kitchen with @chefrli. We’re taking things to another level with my “Kitchen Convos” series launching this week on my YouTube channel. It’s real talk, real life, real moments, real food. Subscribe and stay tuned! Link in Bio [🎥: @bobmetelusstudio]', 'Got alil chuckle out of this throwback @gatorade commercial. Vid cred @dwyanewadeedits', '(Swipe)Hamper basketball has become our after dinner turn up!!!!', 'You want it for yourself but you want it for your kids even more. This one’s for @zmane2 . Video link in bio! 📹: @bobmetelusstudio', '(Swipe)Picture 1: When I thought it was a good idea to move our 16yr old son up on the 17U EYBL circuit but Gab didn’t give her approval. Picture 2: When the both of us started to believe it was a good idea. Picture3: When we both started to feel like good parents and perhaps making decisions while drinking sangria(with WADE wine) wasn’t such a bad idea. Picture 4: Me: I told you. Gab: Shut up and smile for this picture. Picture 5: Smiling like unified Parents. Picture 6: Joy! @zmane2 @real_e1t1untd Big thanks to @cassyathenaphoto for capturing all these moments.', 'Excited to share this project I’ve been working on with my bro, my Day 1, the peanut butter to my jelly, my co-pilot…y’all know who I’m talking about #ad', 'I Miss You!', 'WOY = Wookie of the Year #ad', 'Happy Mother\\'s Day Miami!!! 🥂 💛\\U0001f9e1💚💜💙\\nAs a special gift to Miami we have bought out #BreakingInMovie showings at\\n4:15p showing 168 seats \\n5:10p showing 219 seats\\nJust go to AMC Aventura 24, located at 19501 Biscayne Blvd, Aventura, FL\\xa0\\xa033180\\n\\n1st come 1st serve and just tell em \"The Wade\\'s sent me!\"'], 'https://www.instagram.com/younggamechanger/': [], 'https://www.instagram.com/brookiethewookie11/': ['Just met with our 1st Round Draft Pick out of Bel-Air Academy @therealalfonsoribeiro #HesGrownSinceThen #HesThePGImTheRapper #TheChoiceOfANewGeneration\\n\\n#Repost @therealalfonsoribeiro\\n・・・\\nWhen you need to stand on a chair to take a picture with @brookiethewookie11 at the @lakers golf tournament.', '🦁🦁🦁 I asked @iamzlatanibrahimovic if I could join the Galaxy through transfer in the offseason...I think the look on his face says it all... #ImIn 😃😃😃 #ImTheGoalie #ImQualified #ISawHalfOfBigGreenOnce #TheFirstPartWhereTheyreBad', '', \"As we head to halftime, a Patriot and an Eagle. Never forget Sam's message. #AmericasBeenGreat #AndYouAreAllWeirdos #HalftimeIsASaluteToAllNationsButMostlyAmerica #WhenEnteringTheStadiumPleaseMoveAsFarToTheEndOfTheRowAsPossible #StoppingInTheMiddleIsDistinctlyUnpatriotic #TakeItAwayJT\", \"I'm a whiz at @photoshop I think it looks just like me!\\n(@sarahkatesilverman gave me buckets)\", \"HS starting five eleven years later! Crazy to see where we are proud of our guys!! Doesn't seem like that long ago miss those days! Also got that dub!! #Lakers #TakeThatRob #HisNicknameWasSpaghettiHead\", 'Escaped the Room tonight in Milwaukee!! Shoutout to @joshhart_3 for doing pretty much all the work and @zo for solving the final puzzle. We were just like those kids on Legends of the Hidden Temple. Just like that. (Also some other people helped I guess) We #BlueBarracudas  #WheresOurTripToSpaceCamp #AndMagnavoxPortableCDPlayer#LegendsOfTheHiddenTemple #ThisOnesForYou @kirkfogg #WhatLegendsTeamAreYallOn ?!', '', 'Heard the Mayor of Albuquerque is making the Dallas Cowboys play ball tonite! #TheyllPlayWhatHeTellsThemToPlay #ForHeIsTheMayorOfAlbuquerque #TheyPlayTheChihuahuas #LuckyItsNotTheGrizzlies #OrTheTacos #GPaw #Growlifornia #GrowlMexico? #ScoutingTheEnemyForNextWeek @instagrizz_ff @abqtopes @epchihuahuas @thesimpsonsfox #ImKindOfLikeJesus #ButNotInASacreligiousWay #HomieSaidItNotMe', \"What're peoples favorite pirate, ghost, and doll from Pirates of the Caribbean, Haunted Mansion, and it's a small world?!? I NEED TO KNOW!!! @disneyland #ImportantQuestions #WhatKeepsMeUpAtNight #TheThreeAboveAreMine #Obviously #Pirates OfTheCaribbean #TheHauntedMansion #itsasmallworld #SixBottlesORum\", \"Just rode Guardians of the Galaxy Mission: Breakout---I'll just say it's no Tower of Terror #IThotStoryWasKing #NotDoingThatOneAgain #NextTimeIllTakeTheStairs @Disney #IfYouWannaTalkAboutItImHere #RodDefinitelyDidntWriteThisEpisode\", 'That time our guy Fish @miketrout was up at bat in the bottom of the ninth and we tried to tell him we saw an angel #thehaloway #thefish  #yougottabelieve #itcouldhappen #doyouseethem #ithinkso #RIPmelclark'], 'https://www.instagram.com/hoodie5/': ['Good win last night! Gotta keep getting better!', 'Flip the Page.... this chapter gets interesting! #ALLFORONE', \"THANK YOU to Utah for three and a half incredible years. Ive grown so much in this city as an athlete and as a man. Shoutout to all my teammates, coaches, and fans for an experience I will never forget. Now it's time to get after it for The Land 🙌🏽🎯\", 'Happy birthday to my ride or die, my partner in crime, my why! Big 26!', \"It's my lil mans birthday! 2 years of pure joy. Love you JR!\", 'You never know where life will take you! (Swipe left) 🙌🏽', 'Was a trip to remember! 🇧🇸', '1 year and counting..... #thehoods', 'LA with my young hittas!', 'Duuuukkeeee!!! History was made!!', 'My young boys won the gold ball last night! Proud of them! ✊🏽', ''], 'https://www.instagram.com/swish41/': ['', '', '', '', '', \"Who's coming out to support Sunday? Link for tickets is in my bio!\", '', '', '', 'Only 24 hours left for a chance to win autographed tickets to @heroesfoundation celebritu baseball game and signed cards! Click the link in my bio.', \"Click the link in my bio for a chance to win sign cards,and tickets to this year's @heroesfoundation celebrity baseball game! #heroes16\", '#Repost @dallasmavs\\n・・・\\nTo the men & women in our armed forces, we thank you. Not just today but everyday. 🇺🇸 #MemorialDay2016'], 'https://www.instagram.com/caldwellpope/': ['Link in bio!! July 27th going to be fun!!', 'WOW!! Where do I start? You have been nothing but amazing. The things you do for our family is unreal and I really appreciate everything you do. I couldn’t have ask for a better half. “You go girl” Martin voice. Lol  We love you mommy 😍😘♥️♥️♥️♥️♥️', 'Good times at @uninterrupted The Score today!', 'Junior 👶🏽', 'Took some time to reflect on my 5th season in the NBA...This season I lost some fans and gained some fans. I let some people down and surprised others. Couldn’t have done it without God and the people He placed around me. This off season I will continue my growth as a player on and off the court. Thank you to the fans who are still rockin with me, I will not let you down. #GodsPlan #TheRebirth', '#kjrookieyear was a blast! Can’t believe this little guy is 1 already! Always has a big smile 😃 on his face. I love you Jr.', 'My little man turns 1 today! I remember the day you were born and I held you for the first time, that day will forever be special to me. Now you’re walking and talking... Where did the time go? Happy Birthday JR!', 'Happy Easter from my family to your!!!! 🐰🐣', 'Not surprised to catch him into something lol 😂 he loves to make a mess..', '25 👑 What a time to be alive! 2.18.18', 'THAT’S MY DAWG!!! 🐾', 'Happy Valentine’s day to this amazing beautiful woman! I know we celebrated early but I wish you could have made it on this trip. Enjoy this day with the boys and daddy will be home soon!!! Love you “Shoogs”'], 'https://www.instagram.com/rajonrondo/': ['Congrats to the homies ✊🏾✊🏾 #wealreadyknew👆🏾👆🏾', '@essentiawater', 'squad', 'Always good to be back home. Enjoyed taking these kids to the movies to watch Black Panther this weekend.', 'some of the greatest basketball minds I’ve ever been around.', 'Was a true honor to be in your presence. Friend, mentor, biggest supporter. Rest In Peace Jo Jo.', 'hat game bih', 'always with me\\n@essentiawater', 'Great day giving back to my hometown. Thank you to the Metro United Way and all who came out to today’s coat drive. Wishing you all a Merry Christmas #assistingyouth', 'on the way...', 'Happy birthday mama', '@essentiawater'], 'https://www.instagram.com/teamslowmo/': ['always got your back X ❤️❤️', 'Yoooo!!!!! @ycespedes52', '🚶', '\"can never sleep till morning on all my quiet nights but you can rest assured that my mind is right.\" #playofftime 💰', '', '🍔 🍟', '', '#tbt westwood days😅', '❤️❤️', '\"we change the weather, stick together like we from the group home.\" #postcrustaceans #hereforthegarlicnoodles', '', 'check out my boys gettin some love. @slamonline'], 'https://www.instagram.com/austinjrivers/': ['My OG. Say what u want about me...but every year there has been major progress. Men lie woman lie numbers don’t. Sam been one of biggest reasons for my development as a player and person. 💯🙏🏼 #thankfulalways', 'Family is everything ❤️', 'Young champs!!! Team M.o.a.M', 'Not exactly the ending we wanted....would love to be heading into the playoffs especially with how close we were to getting in! But I’m still proud of the team. Considering all the injuries we had...Guy after guy stepped up and made the most of it. Will learn from this and improve. Back to the grind of getting better and getting ready for 18-19! For the ones who did support me or the clips I really appreciate you! 🙏🏼', 'No matter what people say, I’m going to keep working...keep grinding and keep getting better. The untrue negative comments....stories...and coverage will never phase me as a player, nor as a person. This cover means a lot to me for what it symbolizes! My early career struggles for one, and the constant scrutiny for playing for “Doc” aka my pops lol. In a weird way I’m thankful for it.....the early career struggles and the hate. It has helped mold me into the player and person I am today. It’s apart of what drives me to keep getting better besides the obvious, To Win!! My early career struggles taught me a lot! Taught me I wasn’t as good as I thought I was and that I needed to work harder to get much better. A slice of humble pie sort of speak. I’m thankful for it because it really made me grow tougher skin. Tough skin that i needed to have if I were to ever play for my pops at this level. People seem to forget I was the number 1 high school player in America....or a Lottery pick in the draft. These same people judge me now before watching...and can’t realize no matter who I play for that I’m out there on that court alone like every other player. But that’s fine! Honestly that’s real. It’s a what have you done for me lately world. Who cares about the past....doesn’t do anything for us now. So in that case, who cares about the early career struggles, the bad numbers, the no playoff appearances!! I’m here now and I’m going! Do To hard work and God first, my family’s support, great team mates and coaches over the years who taught me right. And lastly the will to be the greatest me I can be, and hopefully 1 day Win a ring. I appreciate the the people who do support me, means more than u know. And to the people who don’t... to each its own. But just know...I’m not stoping! I’m not perfect, far from it, still will have bad games and good games like every other player. But overall Imma keep hoopin, keep getting better, and keep doing as much as I can to help the team win!! Again I’m thankful as always!!! @dimemagazine  Thanks for the opportunity. Sorry to get a little deep in here lol. Just like to tell my truth before someone else writes it for me. God bless all 🙏🏼', '#ittakeseverything', 'Keep em coming. \\n#clipsnation #teamdepth', 'Close to getting back at it 👌🏼', 'It was a pleasure meeting you man. Getting to work with you last year was amazing. For you were not only a knowledgeable player....but more so a great man! Smh Crazy this just happened. May you and your wife RIP in heaven. 🙏🏼🙏🏼', 'Put this filter in slumber....cause they sleeping on us.... 💤 @louwillville', 'Crazy how time flies......remember when we first starting dating all the way back in 10th grade. It’s been nearly ten years since than. We have had our fair share of trials, obstacles, and problems as a couple....mostly my fault lol! But u being one of the strongest woman I know stood by my side, and here we are today....stronger than ever! So glad to now call you my fiancée! Look forward to loving you unconditionally and providing the best life I can for you and our family as your husband! Love you B!', 'Always good to see the fam tho... @jrdup21'], 'https://www.instagram.com/wayne_elli/': ['III', 'It wasn’t the ending we all wanted but this smile is to a fun ass season that was filled with too many special moments to even list. Love to my brothers that I battled in the trenches with every night! Came a long way. We have a ton of motivation for this off season grind to get better and come back stronger! I appreciate you guys as well as my coaches and the entire organization.  #TheGrindDontStop #year9closed #GoldenArmsigningOut', 'At the craps game before tip off.. Dragon’s shot @the_1_dragon', 'Happy 1st Birthday to the best blessing I could ever ask for! Dada loves you young king 👑 🖤', 'Love catchin up with my brother. #09champs #family #tbt #fromtheotherday', 'And vice versa...', 'Enjoyed being a part of #nbaallstarweekend 2018!! Didn’t come back with that three point trophy but I’ll put the work in to make sure I get back for it next year! Appreciate all the support from the entire @MiamiHeat organization, my teammates, coaches, family, friends and Heat Nation all over the world! I had a blast.. Now it’s time to get back to the grind! We got business to handle.', 'Ran in to the OG 🐐#TarHeeltalk', 'Enjoying the media circuit! #nbaallstarweekend #3pointsniper', 'He’ll be everywhere his Dad goes! #laallstarweekend #3pointsnipers', 'As you can see, we had a ball the other night at the annual Miami HEAT gala!', 'Congrats to my brother Dragon 🐉 on being selected to be an All Star!!! Nobody deserves it like you my guy! #Gogi #TheDragon #AllStar #mybrother'], 'https://www.instagram.com/moosemonroe15/': ['Wanna know how i maintain, well the secret stay solid.', '', 'Happy Mothers Day! Love you Silky', \"Would you switch or change on me if you knew the truth?Knowing I ain't the same person that was introduced.Thank the Lord 'cause I don't look like what I been through\", 'Through the fire.', 'Balance', 'Happy Gday to da 🐐🐐!! #thefamily u kno what it is!! 💉💉', \"See, it's a cold world, so homie bundle up\\nWe ain't on this grind for nothing\\nNow get your hustle up\", 'Happy New Year! Focused on sticking to God’s plan. Everything else will follow.', 'They cant understand it, they haven’t been there.', '', 'Bully through the bs. Not hook tho @johnhenson31 Thats my guy!'], 'https://www.instagram.com/fredvanvleet/': ['#HDMH x 💰\\n@mstrooo6', 'Reset. Refresh. Recharged.', 'Happy Mother’s Day ❤️', 'Year 2✔️', 'FVV23.com', 'FVV23.com', 'B💰Y', 'Prayers to the families and those effected by this tragedy 🙏🏽 #humboldtstrong', '', '@BayStBull\\n#BSB30X30\\n@Diesel\\nPhotographer: @Mauriciojcalero\\nDirection: @mrlancechung @salitabacchi\\nStylist: @MrM0han', '', ''], 'https://www.instagram.com/lucmbahmoute/': [], 'https://www.instagram.com/michael8easley/': ['On my mind...', 'You lie without a mask, thus making you an honest man.... #respect #wb', '@nyknicks congrats!! #brightfuture #respect #wb', 'I hope you love me as much as I love you!!! #wb #respect', 'Get it done DOT.com!!!! @wholeteamdot way to play charlie, now build on it!! #respect #wb #wholeteam #DOTcom', 'More Everything!! @kyle.oquinn #respect #wb', 'Reintroduced to people I been introduced..... did you forget me #respect #wb', 'Wishing you well!! @ronbaker620', '🙏🏼🙏🏼🙏🏼 #prayforkp @kporzee', 'This ain’t a movie baby that’s a real dead body #respect #wb #gameday #imstrappedin', 'What ever it is you got is clearly appealing #respect #wb #imstrappedin', 'He’s baaaaccccccccc!!!!!! #myyoungin'], 'https://www.instagram.com/rudygay/': ['\\U0001f92b #imuptosomething', 'The #Flight22Classic is back! July 6-8 in Baltimore. Registration for #AAU teams is open at rudygayofficial.com/flight22classic or link in bio. See you at the elite showcase 👌🏾🏀🏆', '#tbt @toysforboysofficial', '', 'It was a long season. A lot of emotions. A lot of ups and downs for me and my teammates/spurs family. And a lot of dope outfits😁. But I enjoyed every moment', 'When you get a win @promotorsports and your outfit all come thru lol', '#protecthomecourt', \"I've been cooking up a few things for y'all. Launching my YouTube channel tomorrow! Subscribe 👉🏾 youtube.com/rudygay\", '', '#Playoff push', 'Had a good time in DC with the kids from Mary E Rodman elementary school. I said if y’all have perfect attendance I would bring you to a game. Congrats to all these kids!', ''], 'https://www.instagram.com/illwil21/': ['', 'RP @erykahbadu', 'Not a day goes by that I don’t appreciate what you did for me. Taking me in after you raised 11 kids. All the sacrifices. Love you. Happy Mother’s Day #MyRealLordAndSavior', 'Growing up so fast. Happy 10 J. #unconditionallove #bestfriend', 'On my Lavar Ball 🅱️🅱️🅱️', 'Manifest the mind to be better. You’ll never experience what I’ve endured. Anything for you. Happy birthday to the most hilarious person ever. Love you killa.', 'Either build or destroy. Where you come from?', '', '', '', '', 'Baby J'], 'https://www.instagram.com/ersanilyasova7/': ['Happy Mother’s Day 😘🌹', 'It was an amazing season!!!\\nThanks to all 76ers fans you guys been great 👍. And best teammates 👊 @sixers  #nba #turkiye #76ers #trusttheprocess', 'Sizi Seviyorum🇹🇷 TURKIYE 🇹🇷 !!! #turkey #turkiye #nbaturkey #enbuyukturkiye #turkiyem', '🇹🇷 to 🇦🇺 ⬆️🏀 👀 to be continued in round 2 @bensimmons @sixers #nba #nbaplayoffs #trusttheprocess #turkey', '3-1 One more to go W⬆️🏀 #trusttheprocess #76ers #turkey #nba', 'Team work make the dream work \\U0001f9d0 W', 'Game1W #nbaplayoffs #trusttheprocess #76ers', '#HereTheyCome #PhilaUnite', 'And another one!!! W51. One more to go ⬆️🏀 before playoffs #trusttheprocess #nba #76ers #turkey', 'W14 👀 @mbeli21 #trusttheprocess #nba #76ers', 'Turkish🇹🇷 night and W13 👀 #trusttheprocess #76ers #turkey #nba @furkankorkkmaz @cediosman', 'W12 ⬆️🏀 #trusttheprocess #76ers  #nba #turkiye'], 'https://www.instagram.com/jlin7/': ['DUNK HIM!! Also whys our PF shorter than our SG? @chap @joeharris__12 #summernights #baptismservice', 'Love what you do!! 我很感謝每天有機會打籃球！#PeopleMagazine #hopethefloorsclean', 'GOD’S SON 🙏🏼🙌🏼', 'The only time he lets me sneak a kiss in on his forehead lol!! Love this lil guy...laughter is the best medicine! #chunkzzz #familybusiness #dinosaurtee', '請大家現在去看我的新MV！我已經快到6M views！Everyone, please checkout my new music video, Im almost at 6M views in just a few days! @jaychou https://m.youtube.com/watch?v=MAjY8mCTXWk #我不是開玩笑 #需要看 #butseriouslygowatch #itsreallygood', 'Honored to be on the cover of PEOPLE China Magazine!! A look at the real me!「林书豪 移动那座山峰」For all my fans who stuck w me, this articles for you! Link in bio (but all text is in Chinese) #NeverDone #Adamsappleonfleek #cheekbonelowkeyflexintoo (📷: @kframestudio)', 'VIBRANT 🔥🔥 @jparkitrighthere #respect #gamerecognizegame', 'Happy Mothers Day Mom!! The one thing I know is I’ll never fully understand the depths of your sacrifice for me! 母親節快樂媽媽！', 'My fans are hella creative. Wish I could rock a chain in a game lol #fridayfanlove #fanartwork @13thvision', 'Custom Naruto swag by @kickstradomis!! 🔥🔥 Thanks for the kicks bro! Naruto trumps all other anime...this isnt open for debate lol #dattebayo #rasenganlife', 'Fan Artwork!! This is like a super pro etch-a-sketch by @amkccc #fanlove', 'Loyalty, Loyalty, Loyalty!! 忠心，忠心，忠心！#familybusiness #doeskendrickhaveachinesename'], 'https://www.instagram.com/milosteodosic4/': ['Slobodna je još samo prva smena, vidimo se na Srebrnom jezeru. #Teo4', '', '', '👉 www.teo4.rs 👈', 'Vidimo se na Srebrnom jezeru.', '🔺www.teo4.rs🔻', 'Srećan Uskrs!', '➡ www.teo4.rs ⬅', '', '', 'Hvala svima na rođendanskim čestitkama!\\nThank you all for birthday wishes!', ''], 'https://www.instagram.com/shabazznap13r/': ['& the journey continues.', 'Last team standing is what I play for! #NothingElseMatters #Huskies', 'Against All Odds', 'No telling', 'When you find it send me the address!', 'We too old for this... you not changing in 2018', 'It’s all about angles. 🤣', '... got to make sure she is looking before you take the shot 🤣', 'For every challenge encountered there is opportunity for growth.', 'do more.. @cemcondition83', 'if you want more..', 'I WILL ALWAYS & FOREVER APPRECIATE THE LOVE & SUPPORT I RECEIVE FROM YOU ALL!'], 'https://www.instagram.com/mbeli21/': [\"Verso gli studi di @skysport con un bodyguard d'eccezione,vero @alessandromamoli ??? 😜😎\", 'Bella chiacchierata con @robertodeponti venerdì sul @corriere', 'Oggi ho avuto il previlegio di partecipare alla redazione del @corriere nella storica sala Albertini #staytuned #corrieredellasera', '', 'Stasera 23:30 su rai1', 'Ci vediamo stasera su rai1 alle 23:30 a CHE FUORI TEMPO CHE FA', '', 'Philly, I trusted the process since day one and I gave you all my commitment till the last second on the court. You gave me your unconditional love and support. Not the end we wanted, but I am sure that was just the begininnig for the Sixers. \\nIt’s time to come back home🇮🇹 for some rest ... thank you Philadelphia, thank you Sixers, this is The Style of Play I Love.\\nI would love to comeback and play in this jersey', '🇮🇹 + 🇹🇷 + 🇦🇺', 'Ogni dettaglio conta... @americancrew \\n#BELIthegroomer #GroomToWin #AmericanCrew #ACCreamPomade #ACBeardSerum #ACFirmHold #backtoorigin #grooming #style #beard #capelli #stile #icon #interview #inspirational\\n\\nEverything counts...', '', 'Ogni giorno cerco di dare il massimo, ma per dare il massimo ho bisogno dei compagni migliori. American Crew mi ha insegnato a prendermi cura di me restando fedele alla mia personalità, non potevo scegliere di meglio! @americancrew \\n#BELIthegroomer #GroomToWin #AmericanCrew #ACCreamPomade #ACBeardSerum #ACFirmHold #backtoorigin #grooming #style #beard #capelli #stile #icon #interview #inspirational\\n\\nI try to do my best everyday and I need the best partners for doing that. Thanks to American Crew I learn all about men’s care according to my behavior. Couldn’t have chosen better!'], 'https://www.instagram.com/_tonyparker09/': ['4 years old! \\nHappy Birthday my sweet Josh 🎂🍦🎉🎈', 'Amazing Broadway Musical! 🎬\\nTime for Playoffs now, 17 in a row\\n#WifeyDateNoKids #GoSpursGo \\n@meangirlsbway @spurs', '#loyolachicago #finalfour #sanantonio #alamo', 'Having fun in Aspen ❄️☃️ #AllStarBreak #FamilyTime', 'Merry Christmas from my family to yours!\\nJoyeux Noël 🎄🎅🏼', 'Loving this snow in #SanAntonio ❄️⛄️ #snow #childhood', 'Repost @tjparker5 \\nTP is back ! Hardwork pays off. *** Thank you for staying lil bro, love you!👌🏽', '#ImBack\\n\\nThank you for the support @paugasol @balapat @manuginobili @greenranger14 🙏🏽', 'Soccer game at the Toyota Field tonight! Thanks for the invitation @10apg & @tkolo_25 ⚽️🏀 #frenchconnection #tigres', 'Behind the scenes w/ @aldridge_121 😂⚫️⚪️ #HEB #commercial', 'Bobo est venu dire bonjour ce matin ! 👋🏽😬 cc. @diawboris @7jololo7 \\nNice surprise from Boris this morning at the practice site! ⚫️⚪️', 'First time at an @nfl game ! Awesome ⭐️✌🏽🏈\\n#gocowboys'], 'https://www.instagram.com/joeharris_12/': [], 'https://www.instagram.com/kyle.oquinn/': ['🔬', '♠️ 🇨🇦', '🦐 📸: @dloc', 'Happy Bday to my beautiful and lovely sister!!!! I love you. Enjoy your day stupid 😒(Yes mommy I called her stupid. Ain’t nothing change!) lol I love you Sheena. Looking good shorty! ❤️❤️❤️❤️', '😎 ❌🌨', 'MARCH MADNESS! #besttimeoftheyear #beholdthegreenandgold', '💯 📸: @tommyzweibel', '🔥', '#BreaktheCurse 😆', '📸: @tommyzweibel', '🍎', '😆'], 'https://www.instagram.com/daanteee/': ['Man , what a year. Glad I was able to battle adversity and be a part of this great team. Excited to see what the future holds and ready to get back to work.', 'For you. ❤️', 'THANK YOU Jazz fans for the support shown in my first game this season. Another one tonight. #takenote', '💯', 'quick break, now let’s get back to work. #return', 'SOON 👀', 'Everyday.', 'Had a blast playing  #CODWWII with @bensimmons. Thanks to @CallofDuty for having me and to all who watched. #CallofDutyPartner', 'Worked hard to get where I am now. This ain’t gonna stop me one bit. #returnstronger', 'Determined. #Year4', 'Great summer of work. Ready for the season. #TakeNote 📸 @cassyathenaphoto', \"#Destiny2 is out today! I hung out with the @SydneyRoosters and we play'd some Destiny together! Catch the full video via the link in my bio\"], 'https://www.instagram.com/stephensonlance/': ['💧', 'Blessings come to those who wait and work hard 💪🏿', 'Watching a lot of Larry film this summer 💪🏿 unstoppable', 'Mi amor', 'Welcome to good burger home of the good burger', 'Love 🔷🔶🔷🔶', 'Be great 💪🏿💫', 'Winner', 'Happy Mother’s Day to the Lové of my life. I love you mommy 😘😘😘😘😘', '', 'Gotta Lové it 🔥🙏🏿', 'True to the game 🏀'], 'https://www.instagram.com/nerlensnoel3/': ['Let’s rock tonight! #RnbVoice', 'Little man @KevinHart4Real tried to get on my level on his show #ColdAsBalls, lol it was cute. Check out the full episode on @LOLnetwork’s Youtube channel. @OBB with the look', 'I keep my eyes always on the LORD. With him at my right hand, I will not be shaken.. Psalm 16:8', \"TSA ain't ready for me.. #Gameday 👌🏾\", \"'I gave you realness and that's all you gon get from me ... 🤷🏾\\u200d♂️\", \"Cool summer .. I'm 23 and I been workin' on me! #JordanYear #IdBetOnMyself 🔑🏀 @chrisgastonbasketball\", '', 'Cool it Now! #Espys2017', 'Lol same nxgga that used to bench press anybody for the top bunk bed haha love you brudda mahn - Enjoy your day ! @rod_5', '😎', 'This some sh!t I thought about when I was broke .. 🏝', \"I remember when I was little I'd stay up for you to come home from work around 11:30 to give you my mothers day art class Picasso and see the biggest smile on your face that made us unbreakable.. Happy Mothers Day!\"], 'https://www.instagram.com/d_dedmon3/': ['Congrats bro on 2nd team all rookie @jcollins20_ 🤙🏿', 'Waking up feeling great to start my week. Appreciate the gift and the sleeps @tuftandneedle 🤙🏿', 'Good to be home', 'Season didn’t go as planned but wanna thank everybody for their support this season through the highs an lows. Especially the hawks fans for coming out an cheering for us every game. Year 5 is in the books now. #justwatch', '\\U0001f92a', 'Gotta give a shoutout to Blue and Bella #nationalpuppyday', 'Appreciate y’all for showing out. Family first ! 🙌🏿', 'Back at it #justwatch', '🌀', 'Nice getaway in paradise. Time to get back to work #justwatch', '⚰️', ''], 'https://www.instagram.com/35_fitz/': ['Ruff Rydin #lasvegasrazoradventures #wenotashy #thatssand', 'Got to see lil bro do work professionally for the first time, he killed as usual. #germany #yesituckeditonpurpose', 'Visit Pacers.com to bid on these bad boys. All proceeds go to the @pacers foundation.', 'Surprise Surprise... lil bro had no clue I was coming to visit him in Germany.', 'It’s that time of year again!!! My annual camp in Union South Carolina will take place on June 1st-2nd and The Mauldin South Carolina Camp starts on June 11th-15th. This year, we pushed it back for Greenville County Schools so that everyone has the opportunity to attend. We’ve had surprise special guests in the past, so you never know who may drop in. I can’t wait to get back to the Upstate. See you all in June. REGISTER NOW at \\nwww.trevorbookerhoops.com', 'Until next time Indy #kaidenstrong', 'Man, where do I start? Definitely the most challenging season of my career, but wouldn’t trade the experiences that I had for anything. 3 different teams where I formed bonds with some great guys. 2 times I had to leave my family in the middle of the season. 1 more incredible season in the books. Thank you to my family for the sacrifices and support all season. And to the fans of each team, I thank you for cheering us on every night!', 'We back', 'We still here', 'Mood', 'He matched my fly for Game 1. #pacernation', 'We killed them with this one @kickstradomis 🔥🔥🔥 @reggiemillertnt'], 'https://www.instagram.com/unclejeffgreen/': ['Got to spend more time with @hashtagfostercare last night. The people behind and within the #FosterCare organization are real blessings 🙏🏾 Definitely take the time to learn more about them', '#MyMotivation 👩🏻👧🏻👧🏻', 'My guy put on an amazing show for #TheLand #MOTW #HatersGonSayItsFake', 'Feeling truly humbled. I had the opportunity to watch @blackpanther yesterday with the most amazing group of kids from #FosterCare @hashtagfostercare. Huge respect for the organizations who were able to come out yesterday. Each one of them provide support services, youth programs and housing to foster youth and families ✊🏾🙏🏾\\nThank you for sharing your stories and inviting me into your lives', 'Happy #InternationalWomensDay to this beauty #LoveYouBoo', 'When papa leaves for treatment to the facility 😥😍 #DaddysGirl #MyBooki #MyWorld #ZoomInIfYouCantSeeHer #MeltsMyHeart ❤️❤️', '🙏🏾 #Trust', 'Since #All-Met in high school to now 10+yrs in the Nba, been A1 since day one . #DMV #RocLafamilia 🙌🏾', '#SuccaProof', 'Impromptu pregnancy photo shoot in the grass to our little princess taking her first couple steps alone...what a day. #LoveMyLadies #IDidntWannaGetInTheGrass #ItMadeMeItch #ICriedWatchingThoseSteps', '“I ain’t gon’ front you,  keep it 💯, I don’t know you, Boss like top dawg , bossed my life up, crossin ova” @remyworkouts @thedopetographer @king_shawn223  ##BreakWork #AlwaysReady #Remyworkouts', 'Me and my guy @remyworkouts chopping it up before workouts today. told him i gotta be sharp for this second half run. He said #SayNoMore  #MyJ’sFreshTho'], 'https://www.instagram.com/iamamirjohnson/': ['Happy Birthday Big Sis I love you enjoy your day @iamindiajay', 'I know I’m a little late but just wanted to say this year has been a great one we set goals in the beginning and although all of them weren’t met we did accomplish a lot. I’d like to say thank you to the entire organization and to the fans and the city of Philadelphia. #TheProcessContinues', '🔴⚪️🔵', '#HereTheyCome #PhilaUnite', 'JOHNSONS❗️', 'A Few Good Men  #family', 'Shakuump!! (( @filayyyy Voice))', 'Big AJ x Lil AJ', '#Mood So much love on this Day, I am forever humble to be in your life happy Valentine’s Day', 'Hell of a game from the 🐐 aka #whiteiverson @tjmcconnell', 'Lil miss sunshine 🌞 #millirock', 'Happy birthday to my best friend, the mother of my child, and one of the strongest women I know.. #ILoveYouForever #RideOrDie💪🏾'], 'https://www.instagram.com/eddavisxvii/': ['Family', '', '', 'Thanks Shannon #dicksautogroup', '', 'Happy birthday brotha #alllove', '', '', '', '', '', 'Gon miss my dawg'], 'https://www.instagram.com/greenranger14/': ['Young Ace! #whennaturecalls #DR', 'Everybody screaming #GANGGANGGANG! #DR', '#details', 'Happy bday Brodie, say goodbye to the 20s my guy! @0ddshad #dirty30 #newchapter', 'Now it’s all about the kids! Camp time! Register ASAP! Link in the bio', 'Was a rough one, but a helluva ride with guys I wouldn’t trade the world for...couldn’t have done it without the fans! Thank you! #GSG #SpursFamily #season9inthebooks', '#FEARNOMAN #Game5', '‘Handle ya business...that always comes first..’ #BBP #Game2 #Playoffs', 'Keep pushing young king! We all got your back! #thisoneisforyou', '*insert caption here* #itsGOtime #playoffsBABY!', 'S/O to @jblaudio for hooking the squad up before playoffs! Thanks for the new Link 20 🔥 #JBLxNBA #ad', '#SignUpNow Early Bird 15% Discount: TarHeelTriple\\n\\nOffer ends April 2nd...link in the bio also'], 'https://www.instagram.com/supermariohezonja/': ['#magic #supermario', '#super #mario #in #air', 'SUPEEER!  #supermario #magic #8', 'I feel you.. #germanshepherd #supermario', 'Thoughts on double sleeve? #orlando #supermario', '🇭🇷🙏🏻 #SuperMario #monday', 'Χρόνια πολλά ΘΡΥΛΕ! ☘️', '', '@elfrid 54:17', 'Moltes gràcies per tot Andrés!! #8', 'ΚΑΛΗ ΕΠΙΤΥΧΙΑ, ΠΑΜΕ ΔΥΝΑΤΑ!! ☘️', ''], 'https://www.instagram.com/nemanjabjelica8/': ['My everything !👫❤️ #urija #djudju #fandjo #ulovan', 'Some moments of this season. Thanks Wolves Nation, can’t wait to be back on the court! You guys always supporting and you are our motivation to push harder @timberwolves #readyfornextseason 👌🏼💦', 'Lil bro and big sis...👫✌🏻\\U0001f91f🏻 #djudju #fandjo', 'Great to see @spidadmitchell in Belgrade for  the @adidashoops event. You already know 🕷 ROY #heretocreate', 'Great to see all the Fener fans at the Adidas Final Four event in Belgrade #adidasbasketball @adidashoops #heretocreate @euroleague #f4glory', 'Best part of off season is chilling with my son watching some ball #fandjo #djudju', 'We fought and worked hard, but it couldn’t be this year. Season 2017-2018 has been a year of improvements and I appreciate all the support you guys have been showing since day one. We will be back stronger #wolvespack #alleyesnorth', 'Let’s go Wolves! Great effort to get this team back to Playoffs. Thank you all for your support this season, we are proud of what we have done and we are ready for what’s next #clinched #playoffmodeON', 'Mood #djudju #fandjo', 'Great win last night, but already focused on the next game. 6 more finals to reach our goal #gowolves #hustlehard', 'My #tomorrowsleepresolution is to discover new things that motivate me. My @tomorrow sleep system keep me well rested to accomplish my goals on and off the court', 'Time flies...Birthday girl ❤️#djudju #fandjo'], 'https://www.instagram.com/zazapachulia/': [\"You have to have a big vision and take very small steps to get there. You have to be humble as you execute but visionary and gigantic in terms of your aspiration. In the Internet industry, it's not about grand innovation, it's about a lot of little innovations: every day, every week, every month, making something a little bit better. \\nJason Calacanis\\n\\nPlayoffs2018\", 'Looking forward to this amazing @warriorscamp with my guy @sdot1414. It’s going to be fun 🏀', 'Western Conference Finals ✌🏼\\nLet’s goo', 'Start the week right 💪🏼\\nPlayoffs2018', '', 'Where have you been @stephencurry30?!\\n#WelcomeBack 👌🏼', 'Playoffs2018', 'Priceless', 'On to the next round \\n#playoffs2018', 'Welcome back to US @jamiroquaihq. It was great concert.', '👌🏼', 'Sorry for terrible form but I had fun playing tennis today vs @lukeloucks'], 'https://www.instagram.com/joejohnson247/': ['These old pics brings back so many great! Memories 🔥🔥🔥', 'Just saying what’s up to the @razorbackmbb.... college was some of the best times in my life... make sure y’all still enjoying the game... we often lose sight on why we started hoopin.... I\\u200et was for the Love of the game nothing else. #Enjoyit #goodluckthisyear', '', '', 'Great! Week of Work Fellas... 😳', 'Bang! Bang! 😳', 'What does your Friday night consist of? 🏀👀', 'Great! Week of Camp wit the fellas....', '#Lies&Rumors', 'My brothers from day 1.... If u know me u know them 😝😝😜😜', \"Let's go!\", 'Showtime!!'], 'https://www.instagram.com/yogiferre11/': ['I am excited to partner with @budajuice. They have everything I need pre, during, and post workouts! The juices are not only fire but also really good for your body and give you lots of energy. If you order from the link in my bio you get 10% off the products! The code is Yogi10', 'simple🌺🌺🌺🌺🌺', 'Excited to launch my foundation @ferrellfamilyfoundation with the support of @jonathansplacetx Thank You @mcuban @dallasmavs @kilism @courtlove33 @michelleobeso for not only being a part of Foster Care Saturday but helping make it happen. If you want to get involved, donate to @jonathansplacetx', 'pineapple express 🍍🍍🍍🍍🍍', 'Weezy: When we making the next trip to Indiana?\\n\\nMe: We can pull up wheneverrrr. Hoosier Nation always ready. 📷: @jedjacobsohn', 'Year 2 complete! I want to thank all #MFFL for supporting us all season long. The atmosphere in the AAC was electric. i’m looking forward for things to come. Thank you Dallas! 🙌🏾', 'Enjoyed doing this piece with @playerstribune. Check it out, 5 things you can’t google about me. Let me know if I have anything in common with you!', 'always shoot yah shot', 'i see u👀', '🙏🏾', 'There’s no relationship between introspection and insight. What not why', 'Willing to die to change the world X No bad vibes'], 'https://www.instagram.com/sdotcurry/': ['#TBT \\nThe beginning of my journey.. Hardworking, Dedication, and the WILL to never give up allowed me to reach one of my dreams, the league! Feel free to share you own stories of the will in the comments or your own post #WillFindsAWay @underarmour', 'Curry year!! Happy Birthday @stephencurry30 . Love you bro', '“...And God is faithful; he will not let you be tempted beyond what you can bear. But when you are tempted, he will also provide a way out so that you can endure it.”1 Cor. \\u202d10:13\\u202c \\u202d— Thanks for all the prayers and well wishes with the surgery. It’s been a long and frustrating season for me but the comeback will be great! #30back', 'Rolling into 2018, styled up with @GQ x @vincecamuto. 📷@nathanielwood #vincecamutomens #sponsored', 'Getting tailored up with @gq, @vincecamuto and their Terra fragrance. Keep an eye out for one more look from our shoot back in August.\\n#vincecamutomens 📷: @nathanielwood', '....\\n(📷: @seehendo)', 'One of a few looks by @vincecamuto x @gq #vincecamutomens', 'I appreciate all your support as you all motivate me to get back ASAP. I do want to do my part on #givingtuesday and a portion of every sale is going to help raise money for @sethcurryfoundation I also want to give away 10 shirts to some fans that show me how they are giving back today in my comments. (Link in bio)', '#Repost @sethcurryfoundation ・・・\\nHappy #NationalEntrepreneursDay!  Today we celebrate entrepreneurs and are proud to cultivate the entrepreneurial spirit in students with the @EverFi Venture program at @dallasschools with our partners @dallasmavs', 'Excited to watch my boys get the season started tonight! Another year, another reload. Let’s get it! #TheBrotherhood  @dukembb', 'Facts! #Hero', 'An American history lesson! \\nIf you get a chance to go it’s a must see. Thank you for having us @nmaahc #apeoplesjourney'], 'https://www.instagram.com/bkw34/': ['Congratulations @coachpenny1 👍🏽', 'Football Sunday with the 👶🏽👶🏽', 'Trust Discipline 🙏🏽 #Him', 'Always a pleasure... @mickeyryan1045 @brentdougherty3hl @dawndavenporttn @3hl @1045thezone', 'My boy @jaycroff summer 17 is over due to surgery so I said a prayer for him. #BlackFriday @psuede05 @tp13lewis @sreall2408 KP', 'Where ya going @sreall2408 🤔', 'Feeling like Oliver Queen... @cw_arrow', 'One of my favorite scenes from the 2017 RunNGun Training Camp. 40 minutes of 🔥#TeamBrandanWright #TBW', 'Loved the way the ladies worked at the 2017 RunNGun Training Camp! We are ready for July! @aaglzbasketball @aagbasketball10 @jaycroff @tp13lewis @coachpenny1 @ba_eagles_tn #TeamBrandanWright #TBW', 'Another great year of the AAG Run N Gun Camp! #2017 @aagbasketball10 @aag_basketball @jg_gst @jaycroff @tp13lewis @ba_eagles_tn', '40 minutes of pain @ba_eagles_tn @aaglzbasketball @jg_gst @aagbasketball10 @jaycroff @tp13lewis #RunNGunCamp #2017', 'Reps...'], 'https://www.instagram.com/dougmcd03/': ['Happy 26th 🤔Birthday @eneskanter11 ! Enjoy your day bro. #turkishdelight #kingoftarrytown', 'Come and join me for my first camp in Iowa with TNBA ! Find out more info in bio!', 'March Madness shoutout to @bluejaymbb. Let’s make some noise fellas!', 'Never know who you’ll run into at the mall 🐐@troyaikman great meeting you', 'Happy BD brotha @stickity13 🙏🏻', '', 'Road W. Time for a 💇🏻\\u200d♂️', 'Great seeing the Chicago fam last night @tajgibson22 @stickity13 @theinterruptercobe @yungreg18 🤙🏼', 'NYC with my favorite tourist @syd_mcdermott3', '#StrangerThings', 'Great win fellas 🤙🏻', 'Happy Thanksgiving everyone! ✈️ATL. #KnicksWay']}\n"
     ]
    }
   ],
   "source": [
    "d = {}\n",
    "for i in new_site:\n",
    "    driver.get(i)\n",
    "    innerHTML = driver.execute_script(\"return document.body.innerHTML\")\n",
    "    soup = BeautifulSoup(innerHTML,\"lxml\")\n",
    "    bron = []\n",
    "    followers = soup.find_all('img', {'class':'_2di5p'})\n",
    "    for j in followers:\n",
    "        b = j.get('alt','')\n",
    "        bron.append(b)\n",
    "    d[i] = bron\n",
    "print(d)\n",
    "\n",
    "# emoji_pattern = re.compile(\"[\"\n",
    "#         u\"\\U0001F600-\\U0001F64F\"  # emoticons\n",
    "#         u\"\\U0001F300-\\U0001F5FF\"  # symbols & pictographs\n",
    "#         u\"\\U0001F680\"  # transport & map symbols\n",
    "#                            \"]+\", flags=re.UNICODE)\n",
    "# for j in bron:\n",
    "#     lebron = emoji_pattern.sub(r'',j)\n",
    "#     james.append(lebron)"
   ]
  },
  {
   "cell_type": "code",
   "execution_count": 23,
   "metadata": {},
   "outputs": [],
   "source": [
    "with open('insta.pkl', 'wb') as handle:\n",
    "    pickle.dump(d, handle, protocol=pickle.HIGHEST_PROTOCOL)"
   ]
  },
  {
   "cell_type": "code",
   "execution_count": null,
   "metadata": {},
   "outputs": [],
   "source": []
  }
 ],
 "metadata": {
  "kernelspec": {
   "display_name": "Python 3",
   "language": "python",
   "name": "python3"
  },
  "language_info": {
   "codemirror_mode": {
    "name": "ipython",
    "version": 3
   },
   "file_extension": ".py",
   "mimetype": "text/x-python",
   "name": "python",
   "nbconvert_exporter": "python",
   "pygments_lexer": "ipython3",
   "version": "3.6.5"
  },
  "toc": {
   "base_numbering": 1,
   "nav_menu": {},
   "number_sections": true,
   "sideBar": true,
   "skip_h1_title": false,
   "title_cell": "Table of Contents",
   "title_sidebar": "Contents",
   "toc_cell": false,
   "toc_position": {},
   "toc_section_display": true,
   "toc_window_display": false
  }
 },
 "nbformat": 4,
 "nbformat_minor": 2
}
