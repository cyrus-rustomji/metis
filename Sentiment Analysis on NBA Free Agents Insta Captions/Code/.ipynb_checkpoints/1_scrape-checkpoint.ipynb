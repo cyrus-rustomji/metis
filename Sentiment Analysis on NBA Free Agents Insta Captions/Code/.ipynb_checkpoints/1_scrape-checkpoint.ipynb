{
 "cells": [
  {
   "cell_type": "markdown",
   "metadata": {},
   "source": [
    "# Imports"
   ]
  },
  {
   "cell_type": "code",
   "execution_count": 33,
   "metadata": {},
   "outputs": [],
   "source": [
    "# pip install selenium \n",
    "# download chromedriver: https://sites.google.com/a/chromium.org/chromedriver/downloads      \n",
    "\n",
    "from selenium import webdriver\n",
    "from selenium.webdriver.common.keys import Keys\n",
    "from bs4 import BeautifulSoup\n",
    "import time\n",
    "import os\n",
    "import requests\n",
    "import re\n",
    "import pandas as pd\n",
    "import csv\n",
    "import pandas as pd\n",
    "import emoji\n",
    "import numpy as np\n",
    "import pickle"
   ]
  },
  {
   "cell_type": "markdown",
   "metadata": {},
   "source": [
    "# Data Cleaning"
   ]
  },
  {
   "cell_type": "code",
   "execution_count": 9,
   "metadata": {},
   "outputs": [],
   "source": [
    "# put insta handles of free agent ballers into a list\n",
    "columns = ['insta_handles']\n",
    "data = pd.read_csv('/Users/cyrusrustomji/Documents/metis/personal_metis/passion_projects/bball_4/Data/insta_handles.csv',names=columns)\n",
    "insta = data.insta_handles.tolist()"
   ]
  },
  {
   "cell_type": "code",
   "execution_count": 10,
   "metadata": {},
   "outputs": [
    {
     "name": "stdout",
     "output_type": "stream",
     "text": [
      "https://www.instagram.com/boogiecousins/\n"
     ]
    }
   ],
   "source": [
    "# put instagram links of ballers into a list\n",
    "\n",
    "site = \"https://www.instagram.com/boogiecousins/\"\n",
    "# new_site = []\n",
    "# for i in insta:\n",
    "#     new_site.append(site + i + '/')\n",
    "print(site)"
   ]
  },
  {
   "cell_type": "code",
   "execution_count": 11,
   "metadata": {},
   "outputs": [],
   "source": [
    "# 3. run chromedriver through the list through a loop\n",
    "# 4. then while loop with match == false\n",
    "# 5. then dictionary scenes with followers loop\n",
    "# 6. figure out how to have diff names for each column, LAST"
   ]
  },
  {
   "cell_type": "code",
   "execution_count": 19,
   "metadata": {},
   "outputs": [],
   "source": [
    "chromedriver = \"/Users/cyrusrustomji/Downloads/chromedriver-2\" # path to the chromedriver executable\n",
    "os.environ[\"webdriver.chrome.driver\"] = chromedriver\n",
    "driver = webdriver.Chrome(chromedriver)"
   ]
  },
  {
   "cell_type": "code",
   "execution_count": 20,
   "metadata": {},
   "outputs": [
    {
     "name": "stdout",
     "output_type": "stream",
     "text": [
      "{'Demarcus Cousins': ['Check out my young ones and their 1st All Star experience  S o to  DexRob    ParkerPosse for keeping them fresh \\n\\nSpecial thnx to brands  Melijoe  Lovemyalannah  akidbrand  appaman  gapkids for making this happen for my little ones during NBA All Star Weekend as well ', 'OG x Trill', 'Young Trill  ', '  I was been supposed to change up, I was been supposed to fold with all this pressure      ', 'OG Boogie Smooth   I m Young, Wild, and Free   \\nSerious inquires only  OLDBLACKPEOPLEMEET COM', 'It s Wednesday    ', '', '  Wise men change, fools stay the same  ', 'Gates  Vibin out    ', 'My family so solid  ', '', '', '', 'We some Hot       ', 'Had fun at the  NikeBasketball clinic for youth at Dyckman Park', 'Third Splash brother   wardell30', 'Who got better hands   husky4lyfe8', 'Like who I m becoming, blessed to see another year', 'Boogie Smooth', ' Espys', 'Movie date with my lil sis', 'Vibin', 'My youngin getting right for the season  ', '  Hard times inspired me      ', ' Eastside showed some love  205  last_of_a_dying_breeed', 'Adrianna sang for us today at St  Jude children s hospital', '  The update on my state of mind to everything I been through    ', 'Messing around after getting some work In     ', ' tbt me and my bros Ebled and Jwall']}\n"
     ]
    }
   ],
   "source": [
    "driver.get(site)\n",
    "lenOfPage = driver.execute_script(\"window.scrollTo(0, document.body.scrollHeight);var lenOfPage=document.body.scrollHeight;return lenOfPage;\")\n",
    "match = False\n",
    "while(match==False):\n",
    "    lastCount = lenOfPage\n",
    "    time.sleep(5)\n",
    "    lenOfPage = driver.execute_script(\"window.scrollTo(0, document.body.scrollHeight);var lenOfPage=document.body.scrollHeight;return lenOfPage;\")\n",
    "    if lastCount==lenOfPage:\n",
    "        match=True\n",
    "d = {}\n",
    "boogie = []\n",
    "innerHTML = driver.execute_script(\"return document.body.innerHTML\")\n",
    "soup = BeautifulSoup(innerHTML,\"lxml\")\n",
    "followers = soup.find_all('img', {'class':'FFVAD'})\n",
    "for i in followers:\n",
    "    b = i.get('alt','')\n",
    "    no_emoji = re.sub(r'[^\\w\\s,]', ' ', b)\n",
    "    boogie.append(str(no_emoji))\n",
    "\n",
    "d['Demarcus Cousins'] = boogie\n",
    "\n",
    "print(d)\n",
    "time.sleep(3)\n",
    "# driver.get(\"https://www.instagram.com/kingjames/\")\n",
    "\n"
   ]
  },
  {
   "cell_type": "code",
   "execution_count": 21,
   "metadata": {},
   "outputs": [
    {
     "name": "stdout",
     "output_type": "stream",
     "text": [
      "29\n"
     ]
    }
   ],
   "source": [
    "for key, value in d.items():\n",
    "    print(len(value))"
   ]
  },
  {
   "cell_type": "code",
   "execution_count": 23,
   "metadata": {},
   "outputs": [
    {
     "data": {
      "text/html": [
       "<div>\n",
       "<style scoped>\n",
       "    .dataframe tbody tr th:only-of-type {\n",
       "        vertical-align: middle;\n",
       "    }\n",
       "\n",
       "    .dataframe tbody tr th {\n",
       "        vertical-align: top;\n",
       "    }\n",
       "\n",
       "    .dataframe thead th {\n",
       "        text-align: right;\n",
       "    }\n",
       "</style>\n",
       "<table border=\"1\" class=\"dataframe\">\n",
       "  <thead>\n",
       "    <tr style=\"text-align: right;\">\n",
       "      <th></th>\n",
       "      <th>Demarcus Cousins</th>\n",
       "    </tr>\n",
       "  </thead>\n",
       "  <tbody>\n",
       "    <tr>\n",
       "      <th>0</th>\n",
       "      <td>Check out my young ones and their 1st All Star...</td>\n",
       "    </tr>\n",
       "    <tr>\n",
       "      <th>1</th>\n",
       "      <td>OG x Trill</td>\n",
       "    </tr>\n",
       "    <tr>\n",
       "      <th>2</th>\n",
       "      <td>Young Trill</td>\n",
       "    </tr>\n",
       "    <tr>\n",
       "      <th>3</th>\n",
       "      <td>I was been supposed to change up, I was been...</td>\n",
       "    </tr>\n",
       "    <tr>\n",
       "      <th>4</th>\n",
       "      <td>OG Boogie Smooth   I m Young, Wild, and Free  ...</td>\n",
       "    </tr>\n",
       "    <tr>\n",
       "      <th>5</th>\n",
       "      <td>It s Wednesday</td>\n",
       "    </tr>\n",
       "    <tr>\n",
       "      <th>6</th>\n",
       "      <td></td>\n",
       "    </tr>\n",
       "    <tr>\n",
       "      <th>7</th>\n",
       "      <td>Wise men change, fools stay the same</td>\n",
       "    </tr>\n",
       "    <tr>\n",
       "      <th>8</th>\n",
       "      <td>Gates  Vibin out</td>\n",
       "    </tr>\n",
       "    <tr>\n",
       "      <th>9</th>\n",
       "      <td>My family so solid</td>\n",
       "    </tr>\n",
       "    <tr>\n",
       "      <th>10</th>\n",
       "      <td></td>\n",
       "    </tr>\n",
       "    <tr>\n",
       "      <th>11</th>\n",
       "      <td></td>\n",
       "    </tr>\n",
       "    <tr>\n",
       "      <th>12</th>\n",
       "      <td></td>\n",
       "    </tr>\n",
       "    <tr>\n",
       "      <th>13</th>\n",
       "      <td>We some Hot</td>\n",
       "    </tr>\n",
       "    <tr>\n",
       "      <th>14</th>\n",
       "      <td>Had fun at the  NikeBasketball clinic for yout...</td>\n",
       "    </tr>\n",
       "    <tr>\n",
       "      <th>15</th>\n",
       "      <td>Third Splash brother   wardell30</td>\n",
       "    </tr>\n",
       "    <tr>\n",
       "      <th>16</th>\n",
       "      <td>Who got better hands   husky4lyfe8</td>\n",
       "    </tr>\n",
       "    <tr>\n",
       "      <th>17</th>\n",
       "      <td>Like who I m becoming, blessed to see another ...</td>\n",
       "    </tr>\n",
       "    <tr>\n",
       "      <th>18</th>\n",
       "      <td>Boogie Smooth</td>\n",
       "    </tr>\n",
       "    <tr>\n",
       "      <th>19</th>\n",
       "      <td>Espys</td>\n",
       "    </tr>\n",
       "    <tr>\n",
       "      <th>20</th>\n",
       "      <td>Movie date with my lil sis</td>\n",
       "    </tr>\n",
       "    <tr>\n",
       "      <th>21</th>\n",
       "      <td>Vibin</td>\n",
       "    </tr>\n",
       "    <tr>\n",
       "      <th>22</th>\n",
       "      <td>My youngin getting right for the season</td>\n",
       "    </tr>\n",
       "    <tr>\n",
       "      <th>23</th>\n",
       "      <td>Hard times inspired me</td>\n",
       "    </tr>\n",
       "    <tr>\n",
       "      <th>24</th>\n",
       "      <td>Eastside showed some love  205  last_of_a_dyi...</td>\n",
       "    </tr>\n",
       "    <tr>\n",
       "      <th>25</th>\n",
       "      <td>Adrianna sang for us today at St  Jude childre...</td>\n",
       "    </tr>\n",
       "    <tr>\n",
       "      <th>26</th>\n",
       "      <td>The update on my state of mind to everything...</td>\n",
       "    </tr>\n",
       "    <tr>\n",
       "      <th>27</th>\n",
       "      <td>Messing around after getting some work In</td>\n",
       "    </tr>\n",
       "    <tr>\n",
       "      <th>28</th>\n",
       "      <td>tbt me and my bros Ebled and Jwall</td>\n",
       "    </tr>\n",
       "  </tbody>\n",
       "</table>\n",
       "</div>"
      ],
      "text/plain": [
       "                                     Demarcus Cousins\n",
       "0   Check out my young ones and their 1st All Star...\n",
       "1                                          OG x Trill\n",
       "2                                       Young Trill  \n",
       "3     I was been supposed to change up, I was been...\n",
       "4   OG Boogie Smooth   I m Young, Wild, and Free  ...\n",
       "5                                  It s Wednesday    \n",
       "6                                                    \n",
       "7              Wise men change, fools stay the same  \n",
       "8                                Gates  Vibin out    \n",
       "9                                My family so solid  \n",
       "10                                                   \n",
       "11                                                   \n",
       "12                                                   \n",
       "13                                 We some Hot       \n",
       "14  Had fun at the  NikeBasketball clinic for yout...\n",
       "15                   Third Splash brother   wardell30\n",
       "16                 Who got better hands   husky4lyfe8\n",
       "17  Like who I m becoming, blessed to see another ...\n",
       "18                                      Boogie Smooth\n",
       "19                                              Espys\n",
       "20                         Movie date with my lil sis\n",
       "21                                              Vibin\n",
       "22          My youngin getting right for the season  \n",
       "23                       Hard times inspired me      \n",
       "24   Eastside showed some love  205  last_of_a_dyi...\n",
       "25  Adrianna sang for us today at St  Jude childre...\n",
       "26    The update on my state of mind to everything...\n",
       "27     Messing around after getting some work In     \n",
       "28                 tbt me and my bros Ebled and Jwall"
      ]
     },
     "execution_count": 23,
     "metadata": {},
     "output_type": "execute_result"
    }
   ],
   "source": [
    "df = pd.DataFrame.from_dict(d)\n",
    "df"
   ]
  },
  {
   "cell_type": "code",
   "execution_count": 34,
   "metadata": {},
   "outputs": [],
   "source": [
    "with open('boogie.pkl', 'wb') as handle:\n",
    "    pickle.dump(df, handle, protocol=pickle.HIGHEST_PROTOCOL)"
   ]
  },
  {
   "cell_type": "code",
   "execution_count": null,
   "metadata": {},
   "outputs": [],
   "source": []
  }
 ],
 "metadata": {
  "kernelspec": {
   "display_name": "Python 3",
   "language": "python",
   "name": "python3"
  },
  "language_info": {
   "codemirror_mode": {
    "name": "ipython",
    "version": 3
   },
   "file_extension": ".py",
   "mimetype": "text/x-python",
   "name": "python",
   "nbconvert_exporter": "python",
   "pygments_lexer": "ipython3",
   "version": "3.6.5"
  },
  "toc": {
   "base_numbering": 1,
   "nav_menu": {},
   "number_sections": true,
   "sideBar": true,
   "skip_h1_title": false,
   "title_cell": "Table of Contents",
   "title_sidebar": "Contents",
   "toc_cell": false,
   "toc_position": {},
   "toc_section_display": true,
   "toc_window_display": false
  }
 },
 "nbformat": 4,
 "nbformat_minor": 2
}
