{
 "cells": [
  {
   "cell_type": "markdown",
   "metadata": {},
   "source": [
    "# Imports"
   ]
  },
  {
   "cell_type": "code",
   "execution_count": 14,
   "metadata": {},
   "outputs": [],
   "source": [
    "# pip install selenium \n",
    "# download chromedriver: https://sites.google.com/a/chromium.org/chromedriver/downloads      \n",
    "\n",
    "from selenium import webdriver\n",
    "from selenium.webdriver.common.keys import Keys\n",
    "from bs4 import BeautifulSoup\n",
    "import pickle\n",
    "import time\n",
    "import os\n",
    "import requests\n",
    "import re\n",
    "import pandas as pd\n",
    "import csv\n",
    "import pandas as pd\n",
    "import emoji"
   ]
  },
  {
   "cell_type": "markdown",
   "metadata": {},
   "source": [
    "# Data Cleaning"
   ]
  },
  {
   "cell_type": "code",
   "execution_count": 15,
   "metadata": {},
   "outputs": [
    {
     "data": {
      "text/plain": [
       "['kingjames',\n",
       " 'kevindurant',\n",
       " 'cp3',\n",
       " 'ygtrece',\n",
       " 'boogiecousins',\n",
       " 'ccapela15',\n",
       " 'deandre',\n",
       " 'original00g',\n",
       " 'juliusrandle30',\n",
       " 'jabariparker',\n",
       " 'isaiahthomas',\n",
       " 'rekehavoc1',\n",
       " 'zachlavine8',\n",
       " 'carmeloanthony',\n",
       " '_dfavors15',\n",
       " 'trevor1ariza',\n",
       " 'eneskanter11',\n",
       " 'willthethrillb5',\n",
       " 'bosnianbeast27',\n",
       " 'dwyanewade',\n",
       " 'brookiethewookie11',\n",
       " 'hoodie5',\n",
       " 'swish41',\n",
       " 'caldwellpope',\n",
       " 'rajonrondo',\n",
       " 'teamslowmo',\n",
       " 'austinjrivers',\n",
       " 'wayne_elli',\n",
       " 'moosemonroe15',\n",
       " 'fredvanvleet',\n",
       " 'lucmbahamoute',\n",
       " 'michael8easley',\n",
       " 'rudygay',\n",
       " 'illwil21',\n",
       " 'ersanilyasova7',\n",
       " 'jlin7',\n",
       " 'milosteodosic4',\n",
       " 'shabazznap13r',\n",
       " 'mbeli21',\n",
       " '_tonyparker09',\n",
       " 'joeharris__12',\n",
       " 'kyle.oquinn',\n",
       " 'daanteee',\n",
       " 'stephensonlance',\n",
       " 'nerlensnoel3',\n",
       " 'd_dedmon3',\n",
       " '35_fitz',\n",
       " 'unclejeffgreen',\n",
       " 'iamamirjohnson',\n",
       " 'eddavisxvii',\n",
       " 'greenranger14',\n",
       " 'supermariohezonja',\n",
       " 'nemanjabjelica8',\n",
       " 'zazapachulia',\n",
       " 'joejohnson247',\n",
       " 'yogiferre11',\n",
       " 'sdotcurry',\n",
       " 'bkw34',\n",
       " 'dougmcd03']"
      ]
     },
     "execution_count": 15,
     "metadata": {},
     "output_type": "execute_result"
    }
   ],
   "source": [
    "# put insta handles of free agent ballers into a list\n",
    "columns = ['insta_handles']\n",
    "data = pd.read_csv('/Users/cyrusrustomji/Documents/metis/personal_metis/passion_projects/bball_4/Data/insta_handles.csv',names=columns)\n",
    "insta = data.insta_handles.tolist()\n",
    "insta"
   ]
  },
  {
   "cell_type": "code",
   "execution_count": 16,
   "metadata": {},
   "outputs": [
    {
     "data": {
      "text/plain": [
       "['Lebron James',\n",
       " 'Kevin Durant',\n",
       " 'Chris Paul',\n",
       " 'Paul George',\n",
       " 'Demarcus Cousins',\n",
       " 'Clint Capela',\n",
       " 'Deandre Jordan',\n",
       " 'Aaron Gordon',\n",
       " 'Julius Randle',\n",
       " 'Jabari Parker',\n",
       " 'Isaiah Thomas',\n",
       " 'Tyreke Evans',\n",
       " 'Zach Lavine',\n",
       " 'Carmelo Anthony',\n",
       " 'Derrick Favors',\n",
       " 'Trevor Ariza',\n",
       " 'Enes Kanter',\n",
       " 'Will Barton',\n",
       " 'Jusuf Nurkic',\n",
       " 'Dwyane Wade',\n",
       " 'Marcus Smart',\n",
       " 'Brook Lopez',\n",
       " 'Rodney Hood',\n",
       " 'Dirk Nowitzki',\n",
       " 'Kentavious Caldwell-Pope',\n",
       " 'Rajon Rondo',\n",
       " 'Kyle Anderson',\n",
       " 'Austin Rivers',\n",
       " 'Wayne Ellington',\n",
       " 'Greg Monroe',\n",
       " 'Fred Van Vleet',\n",
       " 'Luc Mbah A Moute',\n",
       " 'Michael Beasley',\n",
       " 'Rudy Gay',\n",
       " 'Wilson Chandler',\n",
       " 'Ersan Ilyasova',\n",
       " 'Jeremy Lin',\n",
       " 'Milos Teodosic',\n",
       " 'Shabazz Napier',\n",
       " 'Marco Bellinelli',\n",
       " 'Tony Parker',\n",
       " 'Joe Harris',\n",
       " \"Kyle O'Quinn\",\n",
       " 'Dante Exum',\n",
       " 'Lance Stephenson',\n",
       " 'Nerlens Noel',\n",
       " 'Dewayne Dedmon',\n",
       " 'Trevor Booker',\n",
       " 'Jeff Green',\n",
       " 'Amir Johnson',\n",
       " 'Ed Davis',\n",
       " 'Danny Green',\n",
       " 'Mario Hezonja',\n",
       " 'Nemanja Bjelica',\n",
       " 'Zaza Pachulia',\n",
       " 'Joe Johnson',\n",
       " 'Yogi Ferrell',\n",
       " 'Seth Curry',\n",
       " 'Brandan Wright',\n",
       " 'Doug McDermott']"
      ]
     },
     "execution_count": 16,
     "metadata": {},
     "output_type": "execute_result"
    }
   ],
   "source": [
    "# put insta handles of free agent ballers into a list\n",
    "columns3 = ['players_names']\n",
    "data3 = pd.read_csv('/Users/cyrusrustomji/Documents/metis/personal_metis/passion_projects/bball_4/Data/players_names.csv',names=columns3)\n",
    "players2 = data3.players_names.tolist()\n",
    "players2"
   ]
  },
  {
   "cell_type": "code",
   "execution_count": 17,
   "metadata": {},
   "outputs": [
    {
     "data": {
      "text/plain": [
       "['Lebron James',\n",
       " 'Kevin Durant',\n",
       " 'Chris Paul',\n",
       " 'Paul George',\n",
       " 'Demarcus Cousins',\n",
       " 'Clint Capela',\n",
       " 'Deandre Jordan',\n",
       " 'Aaron Gordon',\n",
       " 'Julius Randle',\n",
       " 'Jabari Parker',\n",
       " 'Isaiah Thomas',\n",
       " 'Tyreke Evans',\n",
       " 'Zach Lavine',\n",
       " 'Carmelo Anthony',\n",
       " 'Derrick Favors',\n",
       " 'Trevor Ariza',\n",
       " 'Enes Kanter',\n",
       " 'Will Barton',\n",
       " 'Jusuf Nurkic',\n",
       " 'Dwyane Wade',\n",
       " 'Marcus Smart',\n",
       " 'Brook Lopez',\n",
       " 'Rodney Hood',\n",
       " 'Dirk Nowitzki',\n",
       " 'Kentavious Caldwell-Pope',\n",
       " 'Rajon Rondo',\n",
       " 'Kyle Anderson',\n",
       " 'Austin Rivers',\n",
       " 'Wayne Ellington',\n",
       " 'Greg Monroe',\n",
       " 'Fred Van Vleet',\n",
       " 'Luc Mbah A Moute',\n",
       " 'Michael Beasley',\n",
       " 'Rudy Gay',\n",
       " 'Wilson Chandler',\n",
       " 'Ersan Ilyasova',\n",
       " 'Jeremy Lin',\n",
       " 'Milos Teodosic',\n",
       " 'Shabazz Napier',\n",
       " 'Marco Bellinelli',\n",
       " 'Tony Parker',\n",
       " 'Joe Harris',\n",
       " \"Kyle O'Quinn\",\n",
       " 'Dante Exum',\n",
       " 'Lance Stephenson',\n",
       " 'Nerlens Noel',\n",
       " 'Dewayne Dedmon',\n",
       " 'Trevor Booker',\n",
       " 'Jeff Green',\n",
       " 'Amir Johnson',\n",
       " 'Ed Davis',\n",
       " 'Danny Green',\n",
       " 'Mario Hezonja',\n",
       " 'Nemanja Bjelica',\n",
       " 'Zaza Pachulia',\n",
       " 'Joe Johnson',\n",
       " 'Yogi Ferrell',\n",
       " 'Seth Curry',\n",
       " 'Brandan Wright',\n",
       " 'Doug McDermott']"
      ]
     },
     "execution_count": 17,
     "metadata": {},
     "output_type": "execute_result"
    }
   ],
   "source": [
    "# put insta handles of free agent ballers into a list\n",
    "columns2 = ['players_names']\n",
    "data2 = pd.read_csv('/Users/cyrusrustomji/Documents/metis/personal_metis/passion_projects/bball_4/Data/players_names.csv',names=columns2)\n",
    "players = data2.players_names.tolist()\n",
    "players"
   ]
  },
  {
   "cell_type": "code",
   "execution_count": 18,
   "metadata": {},
   "outputs": [
    {
     "name": "stdout",
     "output_type": "stream",
     "text": [
      "['https://www.instagram.com/kingjames/', 'https://www.instagram.com/kevindurant/', 'https://www.instagram.com/cp3/', 'https://www.instagram.com/ygtrece/', 'https://www.instagram.com/boogiecousins/', 'https://www.instagram.com/ccapela15/', 'https://www.instagram.com/deandre/', 'https://www.instagram.com/original00g/', 'https://www.instagram.com/juliusrandle30/', 'https://www.instagram.com/jabariparker/', 'https://www.instagram.com/isaiahthomas/', 'https://www.instagram.com/rekehavoc1/', 'https://www.instagram.com/zachlavine8/', 'https://www.instagram.com/carmeloanthony/', 'https://www.instagram.com/_dfavors15/', 'https://www.instagram.com/trevor1ariza/', 'https://www.instagram.com/eneskanter11/', 'https://www.instagram.com/willthethrillb5/', 'https://www.instagram.com/bosnianbeast27/', 'https://www.instagram.com/dwyanewade/', 'https://www.instagram.com/brookiethewookie11/', 'https://www.instagram.com/hoodie5/', 'https://www.instagram.com/swish41/', 'https://www.instagram.com/caldwellpope/', 'https://www.instagram.com/rajonrondo/', 'https://www.instagram.com/teamslowmo/', 'https://www.instagram.com/austinjrivers/', 'https://www.instagram.com/wayne_elli/', 'https://www.instagram.com/moosemonroe15/', 'https://www.instagram.com/fredvanvleet/', 'https://www.instagram.com/lucmbahamoute/', 'https://www.instagram.com/michael8easley/', 'https://www.instagram.com/rudygay/', 'https://www.instagram.com/illwil21/', 'https://www.instagram.com/ersanilyasova7/', 'https://www.instagram.com/jlin7/', 'https://www.instagram.com/milosteodosic4/', 'https://www.instagram.com/shabazznap13r/', 'https://www.instagram.com/mbeli21/', 'https://www.instagram.com/_tonyparker09/', 'https://www.instagram.com/joeharris__12/', 'https://www.instagram.com/kyle.oquinn/', 'https://www.instagram.com/daanteee/', 'https://www.instagram.com/stephensonlance/', 'https://www.instagram.com/nerlensnoel3/', 'https://www.instagram.com/d_dedmon3/', 'https://www.instagram.com/35_fitz/', 'https://www.instagram.com/unclejeffgreen/', 'https://www.instagram.com/iamamirjohnson/', 'https://www.instagram.com/eddavisxvii/', 'https://www.instagram.com/greenranger14/', 'https://www.instagram.com/supermariohezonja/', 'https://www.instagram.com/nemanjabjelica8/', 'https://www.instagram.com/zazapachulia/', 'https://www.instagram.com/joejohnson247/', 'https://www.instagram.com/yogiferre11/', 'https://www.instagram.com/sdotcurry/', 'https://www.instagram.com/bkw34/', 'https://www.instagram.com/dougmcd03/']\n"
     ]
    }
   ],
   "source": [
    "# put instagram links of ballers into a list\n",
    "\n",
    "site = \"https://www.instagram.com/\"\n",
    "new_site = []\n",
    "for i in insta:\n",
    "    new_site.append(site + i + '/')\n",
    "print(new_site)"
   ]
  },
  {
   "cell_type": "raw",
   "metadata": {},
   "source": [
    "d = {}\n",
    "p = 0\n",
    "captions = []\n",
    "for i in new_site:\n",
    "    driver.get(i)\n",
    "    innerHTML = driver.execute_script(\"return document.body.innerHTML\")\n",
    "    soup = BeautifulSoup(innerHTML,\"lxml\")\n",
    "#     lenOfPage = driver.execute_script(\"window.scrollTo(0, document.body.scrollHeight);var lenOfPage=document.body.scrollHeight;return lenOfPage;\")\n",
    "#     match = False\n",
    "#     while(match==False):\n",
    "#         lastCount = lenOfPage\n",
    "#         time.sleep(3)\n",
    "#         lenOfPage = driver.execute_script(\"window.scrollTo(0, document.body.scrollHeight);var lenOfPage=document.body.scrollHeight;return lenOfPage;\")\n",
    "#         if lastCount==lenOfPage:\n",
    "#             match=True\n",
    "    # finds all '_2di5p' classes\n",
    "    followers = soup.find_all('img', {'class':'_2di5p'})\n",
    "    n = 0\n",
    "    # loops through 'alt' from all 'img' in the class '_2di5p'\n",
    "    for j in followers:\n",
    "        b = j.get('alt','')\n",
    "        # appends all items in 'alt' to a list called 'captions'\n",
    "        captions.append(b)\n",
    "    # loops through players\n",
    "    for k in players:\n",
    "        d[k] = captions\n",
    "        if k == k[n]:\n",
    "            break\n",
    "    n += 1\n",
    "\n",
    "#     d['LeBron James'] = bron\n",
    "\n",
    "#     time.sleep(3)\n",
    "print(d)\n",
    "    # driver.get(\"https://www.instagram.com/kingjames/\")\n",
    "\n",
    "# Alternatives to Chrome: Firefox, phantomjs"
   ]
  },
  {
   "cell_type": "raw",
   "metadata": {},
   "source": [
    "print(captions)"
   ]
  },
  {
   "cell_type": "raw",
   "metadata": {},
   "source": [
    "pd.DataFrame.from_dict(d)"
   ]
  },
  {
   "cell_type": "code",
   "execution_count": 10,
   "metadata": {},
   "outputs": [],
   "source": [
    "chromedriver = \"/Users/cyrusrustomji/Downloads/chromedriver-2\" # path to the chromedriver executable\n",
    "os.environ[\"webdriver.chrome.driver\"] = chromedriver\n",
    "driver = webdriver.Chrome(chromedriver)"
   ]
  },
  {
   "cell_type": "code",
   "execution_count": 13,
   "metadata": {},
   "outputs": [
    {
     "ename": "NameError",
     "evalue": "name 'res' is not defined",
     "output_type": "error",
     "traceback": [
      "\u001b[0;31m---------------------------------------------------------------------------\u001b[0m",
      "\u001b[0;31mNameError\u001b[0m                                 Traceback (most recent call last)",
      "\u001b[0;32m<ipython-input-13-e753a1ee6134>\u001b[0m in \u001b[0;36m<module>\u001b[0;34m()\u001b[0m\n\u001b[1;32m     12\u001b[0m         \u001b[0mbron\u001b[0m\u001b[0;34m.\u001b[0m\u001b[0mappend\u001b[0m\u001b[0;34m(\u001b[0m\u001b[0mno_emoji\u001b[0m\u001b[0;34m)\u001b[0m\u001b[0;34m\u001b[0m\u001b[0m\n\u001b[1;32m     13\u001b[0m         \u001b[0mres\u001b[0m \u001b[0;34m=\u001b[0m \u001b[0;34m' '\u001b[0m\u001b[0;34m.\u001b[0m\u001b[0mjoin\u001b[0m\u001b[0;34m(\u001b[0m\u001b[0mbron\u001b[0m\u001b[0;34m)\u001b[0m\u001b[0;34m\u001b[0m\u001b[0m\n\u001b[0;32m---> 14\u001b[0;31m \u001b[0md\u001b[0m\u001b[0;34m[\u001b[0m\u001b[0mi\u001b[0m\u001b[0;34m]\u001b[0m \u001b[0;34m=\u001b[0m \u001b[0mstr\u001b[0m\u001b[0;34m(\u001b[0m\u001b[0mres\u001b[0m\u001b[0;34m)\u001b[0m\u001b[0;34m\u001b[0m\u001b[0m\n\u001b[0m\u001b[1;32m     15\u001b[0m \u001b[0mprint\u001b[0m\u001b[0;34m(\u001b[0m\u001b[0md\u001b[0m\u001b[0;34m)\u001b[0m\u001b[0;34m\u001b[0m\u001b[0m\n",
      "\u001b[0;31mNameError\u001b[0m: name 'res' is not defined"
     ]
    }
   ],
   "source": [
    "d = {}\n",
    "for i in new_site:\n",
    "    driver.get(i)\n",
    "    innerHTML = driver.execute_script(\"return document.body.innerHTML\")\n",
    "    soup = BeautifulSoup(innerHTML,\"lxml\")\n",
    "    bron = []\n",
    "    followers = soup.find_all('img', {'class':'_2di5p'})\n",
    "    for j in followers:\n",
    "        b = j.get('alt','')\n",
    "        # the below one liner will remove an emoji\n",
    "        no_emoji = re.sub(r'[^\\w\\s,]', ' ', b)\n",
    "        bron.append(no_emoji)\n",
    "        res = ' '.join(bron)\n",
    "d[i] = str(res)\n",
    "print(d)"
   ]
  },
  {
   "cell_type": "code",
   "execution_count": null,
   "metadata": {},
   "outputs": [],
   "source": [
    "d"
   ]
  },
  {
   "cell_type": "code",
   "execution_count": null,
   "metadata": {},
   "outputs": [],
   "source": [
    "d['LeBron James'] = d.pop('https://www.instagram.com/kingjames/')\n",
    "d['Kevin Durant'] = d.pop('https://www.instagram.com/kevindurant/')\n",
    "d['Chris Paul'] = d.pop('https://www.instagram.com/cp3/')\n",
    "d['Paul George'] = d.pop('https://www.instagram.com/ygtrece/')\n",
    "d['Demarcus Cousins'] = d.pop('https://www.instagram.com/boogiecousins/')\n",
    "d['Deandre Jordan'] = d.pop('https://www.instagram.com/deandre/')\n",
    "d['Aaron Gordon'] = d.pop('https://www.instagram.com/original00g/')\n",
    "d['Julius Randle'] = d.pop('https://www.instagram.com/juliusrandle30/')\n",
    "d['Jabari Parker'] = d.pop('https://www.instagram.com/jabariparker/')\n",
    "d['Isaiah Thomas'] = d.pop('https://www.instagram.com/isaiahthomas/')\n",
    "d['Tyreke Evans'] = d.pop('https://www.instagram.com/rekehavoc1/')\n",
    "d['Zach Lavine'] = d.pop('https://www.instagram.com/zachlavine8/')\n",
    "d['Carmelo Anthony'] = d.pop('https://www.instagram.com/carmeloantony/')\n",
    "d['Derrick Favors'] = d.pop('https://www.instagram.com/_dfavors15/')\n",
    "d['Trevor Ariza'] = d.pop('https://www.instagram.com/trevor1ariza/')\n",
    "d['Enes Kanter'] = d.pop('https://www.instagram.com/eneskanter11/')\n",
    "d['Will Barton'] = d.pop('https://www.instagram.com/willthethrillb5/')\n",
    "d['Jusuf Nurkic'] = d.pop('https://www.instagram.com/bosnianbeast27/')\n",
    "d['Dwyane Wade'] = d.pop('https://www.instagram.com/dwyanewade/')\n",
    "# d['Marcus Smart'] = d.pop('https://www.instagram.com/younggamechanger/')\n",
    "d['Brook Lopez'] = d.pop('https://www.instagram.com/brookiethewookie11/')\n",
    "d['Rodney Hood'] = d.pop('https://www.instagram.com/hoodie5/')\n",
    "d['Dirk Nowitzki'] = d.pop('https://www.instagram.com/swish41/')\n",
    "d['Kentavious Caldwell-Pope'] = d.pop('https://www.instagram.com/caldwellpope/')\n",
    "d['Rajon Rondo'] = d.pop('https://www.instagram.com/rajonrondo/')\n",
    "d['Kyle Anderson'] = d.pop('https://www.instagram.com/teamslowmo/')\n",
    "d['Austin Rivers'] = d.pop('https://www.instagram.com/austinjrivers/')\n",
    "d['Wayne Ellington'] = d.pop('https://www.instagram.com/wayne_elli/')\n",
    "d['Greg Monroe'] = d.pop('https://www.instagram.com/moosemonroe15/')\n",
    "d['Fred Van Vleet'] = d.pop('https://www.instagram.com/fredvanvleet/')\n",
    "d['Luc Mbah A Moute'] = d.pop('https://www.instagram.com/lucmbahmoute/')\n",
    "d['Michael Beasley'] = d.pop('https://www.instagram.com/michael8easley/')\n",
    "d['Rudy Gay'] = d.pop('https://www.instagram.com/rudygay/')\n",
    "d['Wilson Chandler'] = d.pop('https://www.instagram.com/illwil21/')\n",
    "d['Ersan Ilyasova'] = d.pop('https://www.instagram.com/ersanilyasova7/')\n",
    "d['Jeremy Lin'] = d.pop('https://www.instagram.com/jlin7/')\n",
    "d['Milos Teodosic'] = d.pop('https://www.instagram.com/milosteodosic4/')\n",
    "d['Shabazz Napier'] = d.pop('https://www.instagram.com/shabazznap13r/')\n",
    "d['Marco Bellinelli'] = d.pop('https://www.instagram.com/mbeli21/')\n",
    "d['Tony Parker'] = d.pop('https://www.instagram.com/_tonyparker09/')\n",
    "d['Joe Harris'] = d.pop('https://www.instagram.com/joeharris_12/')\n",
    "d[\"Kyle O'Quinn\"] = d.pop('https://www.instagram.com/kyle.oquinn/')\n",
    "d['Dante Exum'] = d.pop('https://www.instagram.com/daanteee/')\n",
    "d['Lance Stephenson'] = d.pop('https://www.instagram.com/stephensonlance/')\n",
    "d['Nerlens Noel'] = d.pop('https://www.instagram.com/nerlensnoel3/')\n",
    "d['Trevor Booker'] = d.pop('https://www.instagram.com/35_fitz/')\n",
    "d['Jeff Green'] = d.pop('https://www.instagram.com/unclejeffgreen/')\n",
    "d['Amir Johnson'] = d.pop('https://www.instagram.com/iamamirjohnson/')\n",
    "d['Ed Davis'] = d.pop('https://www.instagram.com/eddavisxvii/')\n",
    "d['Danny Green'] = d.pop('https://www.instagram.com/greenranger14/')\n",
    "d['Mario Hezonja'] = d.pop('https://www.instagram.com/supermariohezonja/')\n",
    "d['Nemanja Bjelica'] = d.pop('https://www.instagram.com/nemanjabjelica8/')\n",
    "d['Zaza Pachulia'] = d.pop('https://www.instagram.com/zazapachulia/')\n",
    "d['Joe Johnson'] = d.pop('https://www.instagram.com/joejohnson247/')\n",
    "d['Yogi Ferrell'] = d.pop('https://www.instagram.com/yogiferre11/')\n",
    "d['Seth Curry'] = d.pop('https://www.instagram.com/sdotcurry/')\n",
    "d['Brandan Wright'] = d.pop('https://www.instagram.com/bkw34/')\n",
    "d['Doug McDermott'] = d.pop('https://www.instagram.com/dougmcd03/')"
   ]
  },
  {
   "cell_type": "code",
   "execution_count": null,
   "metadata": {},
   "outputs": [],
   "source": [
    "d['Clint Capela'] = d.pop('https://www.instagram.com/ccapela15/')\n",
    "d['Dewayne Dedmon'] = d.pop('https://www.instagram.com/d_dedmon3/')"
   ]
  },
  {
   "cell_type": "code",
   "execution_count": null,
   "metadata": {},
   "outputs": [],
   "source": [
    "df = pd.DataFrame.from_dict(d, orient='index')\n",
    "df = df.rename(columns={0:'captions'})\n",
    "df"
   ]
  },
  {
   "cell_type": "raw",
   "metadata": {},
   "source": [
    "with open('all_one_df.pkl', 'wb') as handle:\n",
    "    pickle.dump(df, handle, protocol=pickle.HIGHEST_PROTOCOL)"
   ]
  },
  {
   "cell_type": "code",
   "execution_count": null,
   "metadata": {},
   "outputs": [],
   "source": []
  }
 ],
 "metadata": {
  "kernelspec": {
   "display_name": "Python 3",
   "language": "python",
   "name": "python3"
  },
  "language_info": {
   "codemirror_mode": {
    "name": "ipython",
    "version": 3
   },
   "file_extension": ".py",
   "mimetype": "text/x-python",
   "name": "python",
   "nbconvert_exporter": "python",
   "pygments_lexer": "ipython3",
   "version": "3.6.5"
  },
  "toc": {
   "base_numbering": 1,
   "nav_menu": {},
   "number_sections": true,
   "sideBar": true,
   "skip_h1_title": false,
   "title_cell": "Table of Contents",
   "title_sidebar": "Contents",
   "toc_cell": false,
   "toc_position": {},
   "toc_section_display": true,
   "toc_window_display": false
  }
 },
 "nbformat": 4,
 "nbformat_minor": 2
}
