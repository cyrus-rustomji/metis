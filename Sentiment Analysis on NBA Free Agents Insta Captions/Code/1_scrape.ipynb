{
 "cells": [
  {
   "cell_type": "markdown",
   "metadata": {
    "heading_collapsed": true
   },
   "source": [
    "# Imports"
   ]
  },
  {
   "cell_type": "code",
   "execution_count": 55,
   "metadata": {
    "hidden": true
   },
   "outputs": [],
   "source": [
    "# pip install selenium \n",
    "# download chromedriver: https://sites.google.com/a/chromium.org/chromedriver/downloads      \n",
    "\n",
    "from selenium import webdriver\n",
    "from selenium.webdriver.common.keys import Keys\n",
    "from bs4 import BeautifulSoup\n",
    "import time\n",
    "import os\n",
    "import requests\n",
    "import re\n",
    "import pandas as pd\n",
    "import csv\n",
    "import pandas as pd\n",
    "import emoji"
   ]
  },
  {
   "cell_type": "markdown",
   "metadata": {},
   "source": [
    "# Data Cleaning"
   ]
  },
  {
   "cell_type": "code",
   "execution_count": 56,
   "metadata": {},
   "outputs": [
    {
     "data": {
      "text/plain": [
       "['kingjames',\n",
       " 'kevindurant',\n",
       " 'cp3',\n",
       " 'ygtrece',\n",
       " 'boogiecousins',\n",
       " 'ccapela15',\n",
       " 'deandre',\n",
       " 'original00g',\n",
       " 'juliusrandle30',\n",
       " 'jabariparker',\n",
       " 'isaiahthomas',\n",
       " 'rekehavoc1',\n",
       " 'zachlavine8',\n",
       " 'carmeloantony',\n",
       " '_dfavors15',\n",
       " 'trevor1ariza',\n",
       " 'eneskanter11',\n",
       " 'willthethrillb5',\n",
       " 'bosnianbeast27',\n",
       " 'dwyanewade',\n",
       " 'younggamechanger',\n",
       " 'brookiethewookie11',\n",
       " 'hoodie5',\n",
       " 'swish41',\n",
       " 'caldwellpope',\n",
       " 'rajonrondo',\n",
       " 'teamslowmo',\n",
       " 'austinjrivers',\n",
       " 'wayne_elli',\n",
       " 'moosemonroe15',\n",
       " 'thaddeusyoung',\n",
       " 'fredvanvleet',\n",
       " 'lucmbahmoute',\n",
       " 'michael8easley',\n",
       " 'rudygay',\n",
       " 'illwil21',\n",
       " 'ersanilyasova7',\n",
       " 'jlin7',\n",
       " 'milosteodosic4',\n",
       " 'shabazznap13r',\n",
       " 'mbeli21',\n",
       " '_tonyparker09',\n",
       " 'joeharris_12',\n",
       " 'kyle.oquinn',\n",
       " 'daanteee',\n",
       " 'stephensonlance',\n",
       " 'nerlensnoel3',\n",
       " 'd_dedmon3',\n",
       " '35_fitz',\n",
       " 'unclejeffgreen',\n",
       " 'iamamirjohnson',\n",
       " 'eddavisxvii',\n",
       " 'greenranger14',\n",
       " 'supermariohezonja',\n",
       " 'nemanjabjelica8',\n",
       " 'zazapachulia',\n",
       " 'joejohnson247',\n",
       " 'yogiferre11',\n",
       " 'sdotcurry',\n",
       " 'bkw34',\n",
       " 'dougmcd03']"
      ]
     },
     "execution_count": 56,
     "metadata": {},
     "output_type": "execute_result"
    }
   ],
   "source": [
    "# put insta handles of free agent ballers into a list\n",
    "columns = ['insta_handles']\n",
    "data = pd.read_csv('insta_handles.csv',names=columns)\n",
    "insta = data.insta_handles.tolist()\n",
    "insta"
   ]
  },
  {
   "cell_type": "code",
   "execution_count": 57,
   "metadata": {},
   "outputs": [
    {
     "name": "stdout",
     "output_type": "stream",
     "text": [
      "['https://www.instagram.com/kingjames/', 'https://www.instagram.com/kevindurant/', 'https://www.instagram.com/cp3/', 'https://www.instagram.com/ygtrece/', 'https://www.instagram.com/boogiecousins/', 'https://www.instagram.com/ccapela15/', 'https://www.instagram.com/deandre/', 'https://www.instagram.com/original00g/', 'https://www.instagram.com/juliusrandle30/', 'https://www.instagram.com/jabariparker/', 'https://www.instagram.com/isaiahthomas/', 'https://www.instagram.com/rekehavoc1/', 'https://www.instagram.com/zachlavine8/', 'https://www.instagram.com/carmeloantony/', 'https://www.instagram.com/_dfavors15/', 'https://www.instagram.com/trevor1ariza/', 'https://www.instagram.com/eneskanter11/', 'https://www.instagram.com/willthethrillb5/', 'https://www.instagram.com/bosnianbeast27/', 'https://www.instagram.com/dwyanewade/', 'https://www.instagram.com/younggamechanger/', 'https://www.instagram.com/brookiethewookie11/', 'https://www.instagram.com/hoodie5/', 'https://www.instagram.com/swish41/', 'https://www.instagram.com/caldwellpope/', 'https://www.instagram.com/rajonrondo/', 'https://www.instagram.com/teamslowmo/', 'https://www.instagram.com/austinjrivers/', 'https://www.instagram.com/wayne_elli/', 'https://www.instagram.com/moosemonroe15/', 'https://www.instagram.com/thaddeusyoung/', 'https://www.instagram.com/fredvanvleet/', 'https://www.instagram.com/lucmbahmoute/', 'https://www.instagram.com/michael8easley/', 'https://www.instagram.com/rudygay/', 'https://www.instagram.com/illwil21/', 'https://www.instagram.com/ersanilyasova7/', 'https://www.instagram.com/jlin7/', 'https://www.instagram.com/milosteodosic4/', 'https://www.instagram.com/shabazznap13r/', 'https://www.instagram.com/mbeli21/', 'https://www.instagram.com/_tonyparker09/', 'https://www.instagram.com/joeharris_12/', 'https://www.instagram.com/kyle.oquinn/', 'https://www.instagram.com/daanteee/', 'https://www.instagram.com/stephensonlance/', 'https://www.instagram.com/nerlensnoel3/', 'https://www.instagram.com/d_dedmon3/', 'https://www.instagram.com/35_fitz/', 'https://www.instagram.com/unclejeffgreen/', 'https://www.instagram.com/iamamirjohnson/', 'https://www.instagram.com/eddavisxvii/', 'https://www.instagram.com/greenranger14/', 'https://www.instagram.com/supermariohezonja/', 'https://www.instagram.com/nemanjabjelica8/', 'https://www.instagram.com/zazapachulia/', 'https://www.instagram.com/joejohnson247/', 'https://www.instagram.com/yogiferre11/', 'https://www.instagram.com/sdotcurry/', 'https://www.instagram.com/bkw34/', 'https://www.instagram.com/dougmcd03/']\n"
     ]
    }
   ],
   "source": [
    "# put instagram links of ballers into a list\n",
    "\n",
    "site = \"https://www.instagram.com/\"\n",
    "new_site = []\n",
    "for i in insta:\n",
    "    new_site.append(site + i + '/')\n",
    "print(new_site)"
   ]
  },
  {
   "cell_type": "code",
   "execution_count": null,
   "metadata": {},
   "outputs": [],
   "source": [
    "# 3. run chromedriver through the list through a loop\n",
    "# 4. then while loop with match == false\n",
    "# 5. then dictionary scenes with followers loop\n",
    "# 6. figure out how to have diff names for each column, LAST"
   ]
  },
  {
   "cell_type": "code",
   "execution_count": 62,
   "metadata": {},
   "outputs": [],
   "source": [
    "chromedriver = \"/Users/cyrusrustomji/Downloads/chromedriver-2\" # path to the chromedriver executable\n",
    "os.environ[\"webdriver.chrome.driver\"] = chromedriver\n",
    "driver = webdriver.Chrome(chromedriver)"
   ]
  },
  {
   "cell_type": "code",
   "execution_count": 63,
   "metadata": {},
   "outputs": [
    {
     "name": "stdout",
     "output_type": "stream",
     "text": [
      "{'LeBron James': ['“Life’s most persistent and urgent question is, ‘What are you doing for others?’” – MLK 🤝 IG Stories will be used on this page as a platform for people bringing light to this world. #AlwaysBelieve', 'Zero Dark Thirty-23 Mode is about to commence. I’m going dark so others can be the light. Watch this space. Peace.\\n#AlwaysBelieve ✊🏾👑', 'My Princess Z👸🏽 wasn’t messing around about getting outside today! Told her she better get as much as she can cause it maybe 20 below 0 tomorrow! 🤣😞🤦🏾\\u200d♂️!!! #DaddysLilAngel👼🏽 #IAintRockingwitThatFaceThoughSheMadeThough. 🤣🤣🤣🤣🤣🤣🤣🤣🤣', 'Before I go dark tomorrow night I wanted to leave you with some more #LEBRONWATCH Fire 🔥🔥🔥🔥🔥🔥\\nThis was one of my favorite colorways from this season so wanted to make sure you guys have a chance to get them. Stay tuned- Summer’18 #LetsGo #striveforgreatness🚀 #thekidfromakron🤴🏾 #jamesgang👑 #rwtw🏅', 'Well they say it’s a first time for everything huh?!?! Guess so in this case. 82/82 in my 15th season. Just wanna be available to my teammates as much as I can throughout a long season as well as keep my mind and body as fresh as it can be too! #SFG🚀 #RWTW🏅 #JamesGang👑  #ThekidfromAKRON🤴🏾', 'Reds!! 🔴🔴🔴 Get that semi-final W!! @liverpoolfc 🏆 #SFG🚀 #LFC⚽', 'Up up and away!!! Let’s continue to travel to parts unknown. #Season15 #SFG🚀 #JamesGang👑', 'Walk with me! We’re all Kings and Queens!!!! 🤴🏾👸🏾. “I’m King” #StriveforGreatness🚀 #RWTW🏅', 'KING JAMES X FRESH PRINCE 👑 👑 #FamilyTies #Klutch #RWTW', 'Another 1 in my @djkhaled voice! 🤦🏾\\u200d♂️🤷🏾\\u200d♂️. They did get that W over us though. #Season15 #striveforgreatness🚀 #jamesgang👑 #thekidfromakron🤴🏾', 'Last night I had no choice but to go back to where it all started for me in 2003 with the Air Zoom Generation #LeBronWatch. Felt like I was actually back in the original while on the floor. Crazy! #striveforgreatness🚀 #jamesgang👑 #thekidfromakron🤴🏾 #rwtw🏅 #fabfive✊🏾', '🤣🤣Wit my heavy hitta aka The Queen 👸🏽 post game last night! We ride and die together #JamesGang👑']}\n",
      "{'LeBron James': ['Thanks for having us at #BrainstormHealth @ariannahuff @fortunemag @richkleiman', 'Happy steph year, 30 clip', 'That’s how it’s done! 🙏🏾🙏🏾', 'Was an honor to be a judge at the @bgcp Youth of the Year awards this week. Congrats to Alysia! #TeamBGCP', 'The Durant Company has invested in @Overtime, gonna do more videos soon with them for you guys on my YouTube channel...stay tuned', 'Solid D. Better O. \\nAs a 19 year old rook Kobe inspired me. I Still feel the same 10 years later. Love to 24 and 8, nobody like him!! #mambaout.......', '8 v 24', 'BTS this week with @AlaskaAir. Got some good things coming...video up soon', 'Don’t sleep on the Parking Lot Chronicles! New episode up on my Youtube channel now @javalemcgee @richkleiman #thirtyfivemedia', 'When Klay gets Scorching....... #dubs', '🌀', 'Lets keep it going my Gs']}\n",
      "{'LeBron James': [\"Prayers to the kids and families affected by today's tragedy. We need to do better by our children. #BiggerThanBasketball\", 'Stay The Course #RedNation 🤘🏾', 'Last night’s rotation 👀🔥', 'The power of focus and persistence is real!! Congrats Andre Ingram on your NBA debut. Well deserved!', 'National Sibling Day!', 'Masters Champ!!! Congrats @preedgolf!', 'Roadtrip ready. Thank you @hookandalbert 🙏🏾', 'Family Business', \"Back like we’re in '07🤘🏾\", 'My dream is that all kids have access to the same resources and grow up in a world full of opportunities. #DreamStillLives #MLK50', 'Not a bad way for me and my guy to do our first Final Four together!! Big Thank You to the Brunson family and way to hoop @jalenbrunson1 ✊🏾#FinalFour #MarchMadness', '#ad In partnership with @nbacares and @statefarm, we opened the new library at C.E. King Middle school, providing hundreds of students with the resources they need to succeed. Find out how you can make a difference at NeighborhoodOfGood.com (link in bio) #HereToHelp #HoustonStrong']}\n"
     ]
    }
   ],
   "source": [
    "for i in new_site[:3]:\n",
    "    driver.get(i)\n",
    "    innerHTML = driver.execute_script(\"return document.body.innerHTML\")\n",
    "    soup = BeautifulSoup(innerHTML,\"lxml\")\n",
    "    lenOfPage = driver.execute_script(\"window.scrollTo(0, document.body.scrollHeight);var lenOfPage=document.body.scrollHeight;return lenOfPage;\")\n",
    "    match = False\n",
    "    while(match==False):\n",
    "        lastCount = lenOfPage\n",
    "        time.sleep(3)\n",
    "        lenOfPage = driver.execute_script(\"window.scrollTo(0, document.body.scrollHeight);var lenOfPage=document.body.scrollHeight;return lenOfPage;\")\n",
    "        if lastCount==lenOfPage:\n",
    "            match=True\n",
    "    d = {}\n",
    "    bron = []\n",
    "    followers = soup.find_all('img', {'class':'_2di5p'})\n",
    "    for i in followers:\n",
    "        b = i.get('alt','')\n",
    "        bron.append(b)\n",
    "\n",
    "    d['LeBron James'] = bron\n",
    "\n",
    "    print(d)\n",
    "    time.sleep(3)\n",
    "    # driver.get(\"https://www.instagram.com/kingjames/\")\n",
    "\n",
    "# Alternatives to Chrome: Firefox, phantomjs"
   ]
  },
  {
   "cell_type": "code",
   "execution_count": 64,
   "metadata": {},
   "outputs": [
    {
     "data": {
      "text/html": [
       "<div>\n",
       "<style scoped>\n",
       "    .dataframe tbody tr th:only-of-type {\n",
       "        vertical-align: middle;\n",
       "    }\n",
       "\n",
       "    .dataframe tbody tr th {\n",
       "        vertical-align: top;\n",
       "    }\n",
       "\n",
       "    .dataframe thead th {\n",
       "        text-align: right;\n",
       "    }\n",
       "</style>\n",
       "<table border=\"1\" class=\"dataframe\">\n",
       "  <thead>\n",
       "    <tr style=\"text-align: right;\">\n",
       "      <th></th>\n",
       "      <th>LeBron James</th>\n",
       "    </tr>\n",
       "  </thead>\n",
       "  <tbody>\n",
       "    <tr>\n",
       "      <th>0</th>\n",
       "      <td>Prayers to the kids and families affected by t...</td>\n",
       "    </tr>\n",
       "    <tr>\n",
       "      <th>1</th>\n",
       "      <td>Stay The Course #RedNation 🤘🏾</td>\n",
       "    </tr>\n",
       "    <tr>\n",
       "      <th>2</th>\n",
       "      <td>Last night’s rotation 👀🔥</td>\n",
       "    </tr>\n",
       "    <tr>\n",
       "      <th>3</th>\n",
       "      <td>The power of focus and persistence is real!! C...</td>\n",
       "    </tr>\n",
       "    <tr>\n",
       "      <th>4</th>\n",
       "      <td>National Sibling Day!</td>\n",
       "    </tr>\n",
       "    <tr>\n",
       "      <th>5</th>\n",
       "      <td>Masters Champ!!! Congrats @preedgolf!</td>\n",
       "    </tr>\n",
       "    <tr>\n",
       "      <th>6</th>\n",
       "      <td>Roadtrip ready. Thank you @hookandalbert 🙏🏾</td>\n",
       "    </tr>\n",
       "    <tr>\n",
       "      <th>7</th>\n",
       "      <td>Family Business</td>\n",
       "    </tr>\n",
       "    <tr>\n",
       "      <th>8</th>\n",
       "      <td>Back like we’re in '07🤘🏾</td>\n",
       "    </tr>\n",
       "    <tr>\n",
       "      <th>9</th>\n",
       "      <td>My dream is that all kids have access to the s...</td>\n",
       "    </tr>\n",
       "    <tr>\n",
       "      <th>10</th>\n",
       "      <td>Not a bad way for me and my guy to do our firs...</td>\n",
       "    </tr>\n",
       "    <tr>\n",
       "      <th>11</th>\n",
       "      <td>#ad In partnership with @nbacares and @statefa...</td>\n",
       "    </tr>\n",
       "  </tbody>\n",
       "</table>\n",
       "</div>"
      ],
      "text/plain": [
       "                                         LeBron James\n",
       "0   Prayers to the kids and families affected by t...\n",
       "1                       Stay The Course #RedNation 🤘🏾\n",
       "2                            Last night’s rotation 👀🔥\n",
       "3   The power of focus and persistence is real!! C...\n",
       "4                               National Sibling Day!\n",
       "5               Masters Champ!!! Congrats @preedgolf!\n",
       "6         Roadtrip ready. Thank you @hookandalbert 🙏🏾\n",
       "7                                     Family Business\n",
       "8                            Back like we’re in '07🤘🏾\n",
       "9   My dream is that all kids have access to the s...\n",
       "10  Not a bad way for me and my guy to do our firs...\n",
       "11  #ad In partnership with @nbacares and @statefa..."
      ]
     },
     "execution_count": 64,
     "metadata": {},
     "output_type": "execute_result"
    }
   ],
   "source": [
    "pd.DataFrame.from_dict(d)"
   ]
  },
  {
   "cell_type": "raw",
   "metadata": {},
   "source": [
    "innerHTML = driver.execute_script(\"return document.body.innerHTML\")\n",
    "soup = BeautifulSoup(innerHTML,\"lxml\")\n",
    "# print(soup)"
   ]
  },
  {
   "cell_type": "raw",
   "metadata": {},
   "source": [
    "# james = driver.find_element_by_tag_name('html')\n",
    "# james.send_keys(Keys.END)\n",
    "# # time.sleep(9)\n",
    "# driver.execute_script(\"window.scrollTo(0, document.body.scrollHeight);\")\n",
    "\n",
    "# # time.sleep(5)\n",
    "\n",
    "lenOfPage = driver.execute_script(\"window.scrollTo(0, document.body.scrollHeight);var lenOfPage=document.body.scrollHeight;return lenOfPage;\")\n",
    "match = False\n",
    "while(match==False):\n",
    "    lastCount = lenOfPage\n",
    "    time.sleep(3)\n",
    "    lenOfPage = driver.execute_script(\"window.scrollTo(0, document.body.scrollHeight);var lenOfPage=document.body.scrollHeight;return lenOfPage;\")\n",
    "    if lastCount==lenOfPage:\n",
    "        match=True"
   ]
  },
  {
   "cell_type": "raw",
   "metadata": {},
   "source": [
    "d = {}\n",
    "bron = []\n",
    "james = []\n",
    "followers = soup.find_all('img', {'class':'_2di5p'})\n",
    "for i in followers:\n",
    "    b = i.get('alt','')\n",
    "    bron.append(b)\n",
    "\n",
    "d['LeBron James'] = bron\n",
    "\n",
    "print(d)\n",
    "\n",
    "# emoji_pattern = re.compile(\"[\"\n",
    "#         u\"\\U0001F600-\\U0001F64F\"  # emoticons\n",
    "#         u\"\\U0001F300-\\U0001F5FF\"  # symbols & pictographs\n",
    "#         u\"\\U0001F680\"  # transport & map symbols\n",
    "#                            \"]+\", flags=re.UNICODE)\n",
    "# for j in bron:\n",
    "#     lebron = emoji_pattern.sub(r'',j)\n",
    "#     james.append(lebron)"
   ]
  },
  {
   "cell_type": "code",
   "execution_count": 53,
   "metadata": {},
   "outputs": [
    {
     "data": {
      "text/html": [
       "<div>\n",
       "<style scoped>\n",
       "    .dataframe tbody tr th:only-of-type {\n",
       "        vertical-align: middle;\n",
       "    }\n",
       "\n",
       "    .dataframe tbody tr th {\n",
       "        vertical-align: top;\n",
       "    }\n",
       "\n",
       "    .dataframe thead th {\n",
       "        text-align: right;\n",
       "    }\n",
       "</style>\n",
       "<table border=\"1\" class=\"dataframe\">\n",
       "  <thead>\n",
       "    <tr style=\"text-align: right;\">\n",
       "      <th></th>\n",
       "      <th>LeBron James</th>\n",
       "    </tr>\n",
       "  </thead>\n",
       "  <tbody>\n",
       "    <tr>\n",
       "      <th>0</th>\n",
       "      <td>“Life’s most persistent and urgent question is...</td>\n",
       "    </tr>\n",
       "    <tr>\n",
       "      <th>1</th>\n",
       "      <td>Zero Dark Thirty-23 Mode is about to commence....</td>\n",
       "    </tr>\n",
       "    <tr>\n",
       "      <th>2</th>\n",
       "      <td>My Princess Z👸🏽 wasn’t messing around about ge...</td>\n",
       "    </tr>\n",
       "    <tr>\n",
       "      <th>3</th>\n",
       "      <td>Before I go dark tomorrow night I wanted to le...</td>\n",
       "    </tr>\n",
       "    <tr>\n",
       "      <th>4</th>\n",
       "      <td>Well they say it’s a first time for everything...</td>\n",
       "    </tr>\n",
       "    <tr>\n",
       "      <th>5</th>\n",
       "      <td>Reds!! 🔴🔴🔴 Get that semi-final W!! @liverpoolf...</td>\n",
       "    </tr>\n",
       "    <tr>\n",
       "      <th>6</th>\n",
       "      <td>Up up and away!!! Let’s continue to travel to ...</td>\n",
       "    </tr>\n",
       "    <tr>\n",
       "      <th>7</th>\n",
       "      <td>Walk with me! We’re all Kings and Queens!!!! 🤴...</td>\n",
       "    </tr>\n",
       "    <tr>\n",
       "      <th>8</th>\n",
       "      <td>KING JAMES X FRESH PRINCE 👑 👑 #FamilyTies #Klu...</td>\n",
       "    </tr>\n",
       "    <tr>\n",
       "      <th>9</th>\n",
       "      <td>Another 1 in my @djkhaled voice! 🤦🏾‍♂️🤷🏾‍♂️. T...</td>\n",
       "    </tr>\n",
       "    <tr>\n",
       "      <th>10</th>\n",
       "      <td>Last night I had no choice but to go back to w...</td>\n",
       "    </tr>\n",
       "    <tr>\n",
       "      <th>11</th>\n",
       "      <td>🤣🤣Wit my heavy hitta aka The Queen 👸🏽 post gam...</td>\n",
       "    </tr>\n",
       "  </tbody>\n",
       "</table>\n",
       "</div>"
      ],
      "text/plain": [
       "                                         LeBron James\n",
       "0   “Life’s most persistent and urgent question is...\n",
       "1   Zero Dark Thirty-23 Mode is about to commence....\n",
       "2   My Princess Z👸🏽 wasn’t messing around about ge...\n",
       "3   Before I go dark tomorrow night I wanted to le...\n",
       "4   Well they say it’s a first time for everything...\n",
       "5   Reds!! 🔴🔴🔴 Get that semi-final W!! @liverpoolf...\n",
       "6   Up up and away!!! Let’s continue to travel to ...\n",
       "7   Walk with me! We’re all Kings and Queens!!!! 🤴...\n",
       "8   KING JAMES X FRESH PRINCE 👑 👑 #FamilyTies #Klu...\n",
       "9   Another 1 in my @djkhaled voice! 🤦🏾‍♂️🤷🏾‍♂️. T...\n",
       "10  Last night I had no choice but to go back to w...\n",
       "11  🤣🤣Wit my heavy hitta aka The Queen 👸🏽 post gam..."
      ]
     },
     "execution_count": 53,
     "metadata": {},
     "output_type": "execute_result"
    }
   ],
   "source": [
    "pd.DataFrame.from_dict(d)"
   ]
  },
  {
   "cell_type": "code",
   "execution_count": null,
   "metadata": {},
   "outputs": [],
   "source": []
  }
 ],
 "metadata": {
  "kernelspec": {
   "display_name": "Python 3",
   "language": "python",
   "name": "python3"
  },
  "language_info": {
   "codemirror_mode": {
    "name": "ipython",
    "version": 3
   },
   "file_extension": ".py",
   "mimetype": "text/x-python",
   "name": "python",
   "nbconvert_exporter": "python",
   "pygments_lexer": "ipython3",
   "version": "3.6.5"
  },
  "toc": {
   "base_numbering": 1,
   "nav_menu": {},
   "number_sections": true,
   "sideBar": true,
   "skip_h1_title": false,
   "title_cell": "Table of Contents",
   "title_sidebar": "Contents",
   "toc_cell": false,
   "toc_position": {},
   "toc_section_display": true,
   "toc_window_display": false
  }
 },
 "nbformat": 4,
 "nbformat_minor": 2
}
